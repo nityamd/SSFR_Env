{
 "cells": [
  {
   "cell_type": "code",
   "execution_count": 2,
   "metadata": {
    "collapsed": true
   },
   "outputs": [],
   "source": [
    "import numpy as np\n",
    "import pyfits\n",
    "import math\n",
    "from math import log10\n",
    "import matplotlib.pyplot as plt\n",
    "import scipy\n",
    "from scipy.stats import binned_statistic_2d\n",
    "from matplotlib import rc\n",
    "import pickle"
   ]
  },
  {
   "cell_type": "code",
   "execution_count": 3,
   "metadata": {
    "collapsed": false
   },
   "outputs": [
    {
     "data": {
      "text/plain": [
       "(75476,)"
      ]
     },
     "execution_count": 3,
     "metadata": {},
     "output_type": "execute_result"
    }
   ],
   "source": [
    "file2 = open(r'sfr_population.pkl', 'rb')\n",
    "d = pickle.load(file2)\n",
    "file2.close()\n",
    "np.shape(d)"
   ]
  },
  {
   "cell_type": "code",
   "execution_count": 4,
   "metadata": {
    "collapsed": true
   },
   "outputs": [],
   "source": [
    "#Getting colors, kcorrect, fluxes\n",
    "# There's one annoying 0 thing in N band nmgy_ivar - removing it!\n",
    "indf = np.where(np.asarray(d['NMGY_IVAR'])[:,1]>0)[0]\n",
    "\n",
    "d = np.asarray(d[indf])\n",
    "ind = d['NSAID']\n",
    "kc = d['KCORRECT']\n",
    "opt = [d['ABSMAG'][:,1][i]-d['ABSMAG'][:,4][i] for i in range(len(ind))]\n",
    "inf = [d['W1MAG'][i]-d['W3MAG'][i] for i in range(len(ind))]\n",
    "#optical fluxes and flux errors\n",
    "opt_flux = d['NMGY']\n",
    "opt_flerr = d['NMGY_IVAR']\n",
    "#WISE fluxes in nanomaggies\n",
    "inf_flux = np.column_stack((d['W1_NMGY'],d['W2_NMGY'],d['W3_NMGY'],d['W4_NMGY']))\n",
    "inf_flerr = np.column_stack((d['W1SIGM_NMGY'],d['W2SIGM_NMGY'],d['W3SIGM_NMGY'],d['W4SIGM_NMGY']))\n"
   ]
  },
  {
   "cell_type": "code",
   "execution_count": 5,
   "metadata": {
    "collapsed": false
   },
   "outputs": [],
   "source": [
    "def jansky(a,b):\n",
    "    ma = a*3631*(10.0**(-9.0))*(10**(b/(-2.5)))\n",
    "    return ma\n",
    "jansky = np.vectorize(jansky)\n",
    "def jansky_err(a,b):\n",
    "    ma_err = (a**(-0.5))*3631*(10.0**(-9.0))*(10**(b/(-2.5)))\n",
    "    return ma_err\n",
    "jansky_err = np.vectorize(jansky_err)\n",
    "def wjansky(a):\n",
    "    ma = 3631*(10**(-9.0))*a\n",
    "    return ma\n",
    "wjansky =  np.vectorize(wjansky)"
   ]
  },
  {
   "cell_type": "code",
   "execution_count": 6,
   "metadata": {
    "collapsed": false
   },
   "outputs": [
    {
     "name": "stdout",
     "output_type": "stream",
     "text": [
      "(75475, 7) (75475, 7)\n"
     ]
    }
   ],
   "source": [
    "print np.shape(opt_flux), np.shape(kc)\n",
    "flux = jansky(opt_flux,kc)\n",
    "flerr = jansky_err(opt_flerr,kc)\n",
    "wflux = wjansky(inf_flux)\n",
    "wflerr = wjansky(inf_flerr)\n",
    "\n",
    "\n"
   ]
  },
  {
   "cell_type": "code",
   "execution_count": 7,
   "metadata": {
    "collapsed": false
   },
   "outputs": [
    {
     "name": "stderr",
     "output_type": "stream",
     "text": [
      "/usr/local/lib/python2.7/site-packages/ipykernel/__main__.py:9: RuntimeWarning: divide by zero encountered in log10\n"
     ]
    },
    {
     "data": {
      "image/png": "[encoded data removed]",
      "text/plain": [
       "<matplotlib.figure.Figure at 0x103fe09d0>"
      ]
     },
     "metadata": {},
     "output_type": "display_data"
    }
   ],
   "source": [
    "h = binned_statistic_2d(inf,opt,ind,statistic = 'count',bins = (25,25))\n",
    "\n",
    "yedges = h[1]\n",
    "xedges = h[2]\n",
    "xbins = [0.5*(h[1][i] + h[1][i+1]) for i in range(25)]\n",
    "ybins = [0.5*(h[2][i] + h[2][i+1]) for i in range(25)]\n",
    "extent = [xbins[0], xbins[-1], ybins[0], ybins[-1]]\n",
    "number = np.ma.array(h[0], mask = h[0] == 0)\n",
    "number = np.log10(number)\n",
    "\n",
    "plt.pcolormesh(yedges,xedges,(np.transpose(number)),cmap = plt.cm.binary)\n",
    "plt.colorbar()\n",
    "# plt.xlim(0,0.056)\n",
    "# plt.ylim(min(gr),max(gr))\n",
    "plt.ylim(0,8.0)\n",
    "plt.xlim(-3.0,3.0)\n",
    "plt.xlabel('W1-W3')\n",
    "plt.ylabel('N-r')\n",
    "plt.show()"
   ]
  },
  {
   "cell_type": "code",
   "execution_count": 8,
   "metadata": {
    "collapsed": false
   },
   "outputs": [
    {
     "name": "stdout",
     "output_type": "stream",
     "text": [
      "467\n"
     ]
    }
   ],
   "source": [
    "woo = np.asarray(np.ravel(h[0]))\n",
    "test = np.where(woo>0)[0]\n",
    "print len(woo[test])"
   ]
  },
  {
   "cell_type": "code",
   "execution_count": 9,
   "metadata": {
    "collapsed": false
   },
   "outputs": [
    {
     "name": "stdout",
     "output_type": "stream",
     "text": [
      "(75475, 22)\n"
     ]
    }
   ],
   "source": [
    "# re-ordering things so we have flux, fluxerr, flux, fluxerr and so on till all 11 filters are covered\n",
    "a = np.column_stack((flux[:,0], flerr[:,0], flux[:,1], flerr[:,1], flux[:,2], flerr[:,2], flux[:,3], flerr[:,3], flux[:,4], flerr[:,4], flux[:,5], flerr[:,5], flux[:,6], flerr[:,6], wflux[:,0], wflerr[:,0], wflux[:,1], wflerr[:,1], wflux[:,2], wflerr[:,2], wflux[:,3], wflerr[:,3]))\n",
    "print np.shape(a)"
   ]
  },
  {
   "cell_type": "code",
   "execution_count": 10,
   "metadata": {
    "collapsed": false
   },
   "outputs": [],
   "source": [
    "#set r-band fluxes to 1...\n",
    "r_flux = a[:,8]\n",
    "new_a = np.asarray([[a[i][j]/r_flux[i] for j in range(22)] for i in range(len(a))])"
   ]
  },
  {
   "cell_type": "code",
   "execution_count": 11,
   "metadata": {
    "collapsed": false
   },
   "outputs": [
    {
     "name": "stdout",
     "output_type": "stream",
     "text": [
      "[ 1.  1.  1.  1.  1.  1.  1.  1.  1.  1.  1.  1.  1.  1.  1.  1.  1.  1.\n",
      "  1.  1.  1.  1.  1.  1.  1.  1.  1.  1.  1.  1.  1.  1.  1.  1.  1.  1.\n",
      "  1.  1.  1.  1.  1.  1.  1.  1.  1.  1.  1.  1.  1.  1.  1.  1.  1.  1.\n",
      "  1.  1.  1.  1.  1.  1.  1.  1.  1.  1.  1.  1.  1.  1.  1.  1.  1.  1.\n",
      "  1.  1.  1.  1.  1.  1.  1.  1.  1.  1.  1.  1.  1.  1.  1.  1.  1.  1.\n",
      "  1.  1.  1.  1.  1.  1.  1.  1.  1.  1.]\n"
     ]
    }
   ],
   "source": [
    "#Averaging over the bins;\n",
    "#Match bin number to corresponding data row\n",
    "b = np.reshape(np.asarray(h[3]),(len(ind),1))\n",
    "f = np.append(new_a,b, axis = 1)\n",
    "\n",
    "#Sort according to bin number\n",
    "f = f[f[:,22].argsort()]\n",
    "#get unique bin numbers\n",
    "bins = np.unique(f[:,22])\n",
    "#number in each bin;\n",
    "n = [np.where(f[:,22] == bins[i]) for i in range(len(bins))]\n",
    "#averaging fluxes in each of the bins\n",
    "h = np.array([np.mean(f[n[i]], axis = 0) for i in range(len(bins))])\n",
    "\n",
    "#Sanity check: Rband values should be 1\n",
    "print h[:,8][0:100]\n",
    "data = h[:,:22]"
   ]
  },
  {
   "cell_type": "code",
   "execution_count": 12,
   "metadata": {
    "collapsed": false
   },
   "outputs": [
    {
     "name": "stdout",
     "output_type": "stream",
     "text": [
      "(467, 22)\n"
     ]
    },
    {
     "data": {
      "text/plain": [
       "array([  5.08229806e-03,   5.84911903e-03,   9.68319004e-03,\n",
       "         2.37708749e-03,   9.98181279e-02,   6.87254177e+02,\n",
       "         4.38758148e-01,   6.48470535e+00,   1.00000000e+00,\n",
       "         3.56765451e+00,   1.49495293e+00,   1.35500838e-01,\n",
       "         2.02765382e+00,   7.68301733e+00,   1.27218845e+00,\n",
       "         1.54945501e-02,   8.01672451e-01,   2.34530691e-02,\n",
       "         1.96889694e+00,   3.92848813e-01,   4.60990142e+00,\n",
       "         3.65610253e+00])"
      ]
     },
     "execution_count": 12,
     "metadata": {},
     "output_type": "execute_result"
    }
   ],
   "source": [
    "print np.shape(data)\n",
    "data[250]"
   ]
  },
  {
   "cell_type": "code",
   "execution_count": 13,
   "metadata": {
    "collapsed": false
   },
   "outputs": [
    {
     "name": "stdout",
     "output_type": "stream",
     "text": [
      "467\n",
      "[ 0.  0.  0.  0.  0.  0.  0.  0.  0.  0.]\n"
     ]
    }
   ],
   "source": [
    "redshifts = np.zeros(len(bins))\n",
    "print len(redshifts) \n",
    "print redshifts[0:10]"
   ]
  },
  {
   "cell_type": "code",
   "execution_count": 14,
   "metadata": {
    "collapsed": true
   },
   "outputs": [],
   "source": [
    "# stuff = np.column_stack((bins,redshifts,data))\n",
    "# filename = 'magphys_input_file'\n",
    "# f = open(filename,'w')\n",
    "# for line in stuff:\n",
    "#     f.write(\"  \".join(str(x) for x in line) + \"\\n\")\n",
    "# f.close()\n"
   ]
  },
  {
   "cell_type": "code",
   "execution_count": 16,
   "metadata": {
    "collapsed": false
   },
   "outputs": [
    {
     "data": {
      "text/plain": [
       "array([  44.,   45.,   46.,   48.,   49.,   60.,   62.,   72.,   73.,\n",
       "         83.,   85.,   86.,   91.,   92.,   94.,   95.,   98.,   99.,\n",
       "        100.,  101.,  102.,  104.,  105.,  115.,  116.,  117.,  120.,\n",
       "        121.,  122.,  123.,  124.,  125.,  126.,  127.,  128.,  129.,\n",
       "        130.,  131.,  132.,  133.,  136.,  142.,  143.,  144.,  145.,\n",
       "        149.,  150.,  151.,  152.,  153.,  154.,  155.,  156.,  157.,\n",
       "        158.,  159.,  160.,  168.,  169.,  170.,  171.,  172.,  174.,\n",
       "        175.,  176.,  177.,  178.,  179.,  180.,  181.,  182.,  183.,\n",
       "        184.,  185.,  186.,  187.,  195.,  197.,  199.,  201.,  202.,\n",
       "        203.,  204.,  205.,  206.,  207.,  208.,  209.,  210.,  211.,\n",
       "        212.,  213.,  214.,  222.,  223.,  224.,  225.,  226.,  227.,\n",
       "        228.,  229.,  230.,  231.,  232.,  233.,  234.,  235.,  236.,\n",
       "        237.,  238.,  239.,  240.,  241.,  251.,  252.,  253.,  254.,\n",
       "        255.,  256.,  257.,  258.,  259.,  260.,  261.,  262.,  263.,\n",
       "        264.,  265.,  266.,  267.,  268.,  277.,  278.,  279.,  280.,\n",
       "        281.,  282.,  283.,  284.,  285.,  286.,  287.,  288.,  289.,\n",
       "        290.,  291.,  292.,  293.,  294.,  295.,  303.,  304.,  305.,\n",
       "        306.,  307.,  308.,  309.,  310.,  311.,  312.,  313.,  314.,\n",
       "        315.,  316.,  317.,  318.,  319.,  320.,  321.,  322.,  329.,\n",
       "        330.,  331.,  332.,  333.,  334.,  335.,  336.,  337.,  338.,\n",
       "        339.,  340.,  341.,  342.,  343.,  344.,  345.,  346.,  347.,\n",
       "        348.,  349.,  354.,  355.,  356.,  357.,  358.,  359.,  360.,\n",
       "        361.,  362.,  363.,  364.,  365.,  366.,  367.,  368.,  369.,\n",
       "        370.,  371.,  372.,  373.,  374.,  375.,  376.,  382.,  383.,\n",
       "        384.,  385.,  386.,  387.,  388.,  389.,  390.,  391.,  392.,\n",
       "        393.,  394.,  395.,  396.,  397.,  398.,  399.,  400.,  401.,\n",
       "        402.,  403.,  408.,  409.,  410.,  411.,  412.,  413.,  414.,\n",
       "        415.,  416.,  417.,  418.,  419.,  420.,  421.,  422.,  423.,\n",
       "        424.,  425.,  426.,  427.,  428.,  429.,  430.,  435.,  436.,\n",
       "        437.,  438.,  439.,  440.,  441.,  442.,  443.,  444.,  445.,\n",
       "        446.,  447.,  448.,  449.,  450.,  451.,  452.,  453.,  454.,\n",
       "        455.,  457.,  461.,  462.,  463.,  464.,  465.,  466.,  467.,\n",
       "        468.,  469.,  470.,  471.,  472.,  473.,  474.,  475.,  476.,\n",
       "        477.,  478.,  479.,  480.,  481.,  482.,  483.,  484.,  487.,\n",
       "        488.,  489.,  490.,  491.,  492.,  493.,  494.,  495.,  496.,\n",
       "        497.,  498.,  499.,  500.,  501.,  502.,  503.,  504.,  505.,\n",
       "        506.,  507.,  508.,  509.,  510.,  514.,  515.,  516.,  517.,\n",
       "        518.,  519.,  520.,  521.,  522.,  523.,  524.,  525.,  526.,\n",
       "        527.,  528.,  529.,  530.,  531.,  532.,  533.,  535.,  537.,\n",
       "        538.,  541.,  542.,  543.,  544.,  545.,  546.,  547.,  548.,\n",
       "        549.,  550.,  551.,  552.,  553.,  554.,  555.,  556.,  557.,\n",
       "        558.,  559.,  560.,  561.,  562.,  564.,  565.,  569.,  570.,\n",
       "        571.,  572.,  573.,  574.,  575.,  576.,  577.,  578.,  579.,\n",
       "        580.,  581.,  582.,  583.,  584.,  585.,  586.,  587.,  589.,\n",
       "        596.,  597.,  598.,  599.,  600.,  601.,  602.,  603.,  604.,\n",
       "        605.,  606.,  607.,  608.,  609.,  610.,  611.,  612.,  614.,\n",
       "        622.,  624.,  625.,  626.,  627.,  628.,  629.,  630.,  631.,\n",
       "        632.,  633.,  634.,  635.,  636.,  637.,  638.,  639.,  640.,\n",
       "        641.,  649.,  650.,  651.,  652.,  653.,  654.,  655.,  656.,\n",
       "        657.,  658.,  659.,  660.,  661.,  662.,  663.,  664.,  665.,\n",
       "        666.,  667.,  672.,  677.,  678.,  679.,  681.,  682.,  683.,\n",
       "        684.,  685.,  686.,  687.,  689.,  690.,  691.,  692.])"
      ]
     },
     "execution_count": 16,
     "metadata": {},
     "output_type": "execute_result"
    }
   ],
   "source": [
    "bins"
   ]
  },
  {
   "cell_type": "code",
   "execution_count": 18,
   "metadata": {
    "collapsed": false
   },
   "outputs": [
    {
     "data": {
      "text/plain": [
       "array([[  3.91000000e+02,   3.85039234e+00,   3.17999840e-01],\n",
       "       [  5.51000000e+02,   3.20956802e+00,   1.61400127e+00],\n",
       "       [  5.24000000e+02,   3.08679771e+00,   1.31699944e+00],\n",
       "       [  5.49000000e+02,   2.55733871e+00,   1.64400005e+00],\n",
       "       [  5.03000000e+02,   5.03695774e+00,   1.20300102e+00],\n",
       "       [  2.65000000e+02,   6.54383373e+00,  -9.39998627e-01],\n",
       "       [  6.06000000e+02,   3.45488548e+00,   2.03600025e+00],\n",
       "       [  6.36000000e+02,   4.45131302e+00,   2.32299900e+00],\n",
       "       [  4.69000000e+02,   2.78070068e+00,   1.03599930e+00],\n",
       "       [  2.36000000e+02,   5.97138119e+00,  -1.24300003e+00],\n",
       "       [  2.10000000e+02,   6.27891159e+00,  -1.54899979e+00],\n",
       "       [  5.23000000e+02,   2.78599167e+00,   1.32100010e+00],\n",
       "       [  3.45000000e+02,   6.01096153e+00,  -3.01000595e-01],\n",
       "       [  3.14000000e+02,   4.85718155e+00,  -4.01000023e-01],\n",
       "       [  5.27000000e+02,   3.96353340e+00,   1.50000095e+00],\n",
       "       [  4.96000000e+02,   2.90763855e+00,   1.15200043e+00],\n",
       "       [  5.25000000e+02,   3.59031868e+00,   1.53700066e+00],\n",
       "       [  5.46000000e+02,   1.57470322e+00,   1.55600071e+00],\n",
       "       [  3.17000000e+02,   5.93741226e+00,  -5.30000687e-01],\n",
       "       [  4.41000000e+02,   2.49338722e+00,   6.60999298e-01],\n",
       "       [  4.96000000e+02,   2.75009537e+00,   1.06799984e+00],\n",
       "       [  2.34000000e+02,   5.24082565e+00,  -1.09199905e+00],\n",
       "       [  5.26000000e+02,   3.83303738e+00,   1.43500137e+00],\n",
       "       [  4.15000000e+02,   2.92881775e+00,   4.88998413e-01],\n",
       "       [  2.62000000e+02,   5.65529346e+00,  -9.12000656e-01]])"
      ]
     },
     "execution_count": 18,
     "metadata": {},
     "output_type": "execute_result"
    }
   ],
   "source": [
    "# Making a bin_number-colors file\n",
    "t = np.column_stack((b,opt,inf))\n",
    "t[0:25]"
   ]
  },
  {
   "cell_type": "code",
   "execution_count": 32,
   "metadata": {
    "collapsed": false
   },
   "outputs": [
    {
     "name": "stdout",
     "output_type": "stream",
     "text": [
      "[[  3.63000000e+02   3.48775664e+00   7.01293713e-04]\n",
      " [  3.64000000e+02   3.77816398e+00   4.62854460e-04]\n",
      " [  3.65000000e+02   4.07193929e+00  -4.77693618e-03]\n",
      " [  3.66000000e+02   4.36494245e+00  -4.09304734e-03]\n",
      " [  3.67000000e+02   4.66257371e+00  -1.61104715e-02]\n",
      " [  3.68000000e+02   4.95202100e+00  -9.61610833e-03]\n",
      " [  3.69000000e+02   5.26021365e+00  -1.95837295e-02]\n",
      " [  3.70000000e+02   5.53894315e+00  -2.57399432e-02]\n",
      " [  3.71000000e+02   5.82147173e+00  -2.88253360e-02]\n",
      " [  3.72000000e+02   6.15996347e+00  -3.06667399e-02]\n",
      " [  3.73000000e+02   6.43781414e+00  -9.79995728e-03]\n",
      " [  3.74000000e+02   6.69160919e+00   1.43995285e-02]\n",
      " [  3.75000000e+02   7.07238770e+00   2.00009346e-03]\n",
      " [  3.76000000e+02   7.40572373e+00  -6.21671677e-02]\n",
      " [  3.82000000e+02   1.15538597e+00   2.28399277e-01]\n",
      " [  3.83000000e+02   1.44329913e+00   2.75333007e-01]\n",
      " [  3.84000000e+02   1.72213140e+00   2.33153453e-01]\n",
      " [  3.85000000e+02   1.99417493e+00   2.49026096e-01]\n",
      " [  3.86000000e+02   2.26812910e+00   2.49459696e-01]\n",
      " [  3.87000000e+02   2.57659626e+00   2.52679982e-01]\n",
      " [  3.88000000e+02   2.85523107e+00   2.41947136e-01]\n",
      " [  3.89000000e+02   3.17805015e+00   2.49331524e-01]\n",
      " [  3.90000000e+02   3.47866576e+00   2.46449279e-01]\n",
      " [  3.91000000e+02   3.77343699e+00   2.32777056e-01]\n",
      " [  3.92000000e+02   4.05719301e+00   2.27576171e-01]\n",
      " [  3.93000000e+02   4.35573400e+00   2.25674477e-01]\n",
      " [  3.94000000e+02   4.64930574e+00   2.22158166e-01]\n",
      " [  3.95000000e+02   4.95349032e+00   2.24599199e-01]\n",
      " [  3.96000000e+02   5.25148196e+00   2.18250321e-01]\n",
      " [  3.97000000e+02   5.54212336e+00   2.14200030e-01]\n",
      " [  3.98000000e+02   5.83593598e+00   2.23846191e-01]\n",
      " [  3.99000000e+02   6.12695398e+00   2.13684333e-01]\n",
      " [  4.00000000e+02   6.42252086e+00   2.33922958e-01]\n",
      " [  4.01000000e+02   6.66959095e+00   1.94000721e-01]\n",
      " [  4.02000000e+02   7.05839221e+00   2.00500011e-01]\n",
      " [  4.03000000e+02   7.44920731e+00   1.94999695e-01]\n",
      " [  4.08000000e+02   8.32834244e-01   4.13999557e-01]\n",
      " [  4.09000000e+02   1.10262553e+00   4.98833021e-01]\n",
      " [  4.10000000e+02   1.42277099e+00   4.80828727e-01]\n",
      " [  4.11000000e+02   1.69826605e+00   4.82142592e-01]\n",
      " [  4.12000000e+02   1.99586243e+00   4.81298849e-01]\n",
      " [  4.13000000e+02   2.28353389e+00   4.87010480e-01]\n",
      " [  4.14000000e+02   2.57522786e+00   4.78921662e-01]\n",
      " [  4.15000000e+02   2.86915330e+00   4.88859570e-01]\n",
      " [  4.16000000e+02   3.18242892e+00   4.75285115e-01]\n",
      " [  4.17000000e+02   3.47024351e+00   4.75367300e-01]\n",
      " [  4.18000000e+02   3.75932867e+00   4.66071215e-01]\n",
      " [  4.19000000e+02   4.05883646e+00   4.61208654e-01]\n",
      " [  4.20000000e+02   4.36180721e+00   4.63090243e-01]\n",
      " [  4.21000000e+02   4.64888837e+00   4.66621364e-01]\n",
      " [  4.22000000e+02   4.95326163e+00   4.67993804e-01]\n",
      " [  4.23000000e+02   5.24342107e+00   4.71333549e-01]\n",
      " [  4.24000000e+02   5.54877334e+00   4.51277190e-01]\n",
      " [  4.25000000e+02   5.83936006e+00   4.55857186e-01]\n",
      " [  4.26000000e+02   6.10969124e+00   4.96900368e-01]\n",
      " [  4.27000000e+02   6.44078403e+00   4.32666885e-01]\n",
      " [  4.28000000e+02   6.71490510e+00   4.24666405e-01]\n",
      " [  4.29000000e+02   7.16629219e+00   4.97000694e-01]\n",
      " [  4.30000000e+02   7.38799071e+00   4.64999437e-01]\n",
      " [  4.35000000e+02   7.68730640e-01   7.08624721e-01]\n",
      " [  4.36000000e+02   1.09462153e+00   7.05932999e-01]\n",
      " [  4.37000000e+02   1.43794817e+00   7.39094931e-01]\n",
      " [  4.38000000e+02   1.71695605e+00   7.13610991e-01]\n",
      " [  4.39000000e+02   1.99541036e+00   7.11983419e-01]\n",
      " [  4.40000000e+02   2.28188701e+00   7.15245785e-01]\n",
      " [  4.41000000e+02   2.57733980e+00   7.16564897e-01]\n",
      " [  4.42000000e+02   2.87655742e+00   7.13743751e-01]\n",
      " [  4.43000000e+02   3.17179889e+00   7.07108150e-01]\n",
      " [  4.44000000e+02   3.46788403e+00   7.06567507e-01]\n",
      " [  4.45000000e+02   3.75530767e+00   7.03813617e-01]\n",
      " [  4.46000000e+02   4.05720515e+00   7.02243062e-01]\n",
      " [  4.47000000e+02   4.35330747e+00   7.03412388e-01]\n",
      " [  4.48000000e+02   4.65494413e+00   7.02640791e-01]\n",
      " [  4.49000000e+02   4.94260140e+00   7.05230440e-01]\n",
      " [  4.50000000e+02   5.25326347e+00   6.96974730e-01]\n",
      " [  4.51000000e+02   5.51218695e+00   7.03702952e-01]\n",
      " [  4.52000000e+02   5.83644728e+00   6.91308022e-01]\n",
      " [  4.53000000e+02   6.17544447e+00   7.22571237e-01]\n",
      " [  4.54000000e+02   6.35663700e+00   7.02332497e-01]\n",
      " [  4.55000000e+02   6.78669500e+00   6.30000114e-01]\n",
      " [  4.57000000e+02   7.40627098e+00   6.26499653e-01]\n",
      " [  4.61000000e+02   4.37509537e-01   9.24499512e-01]\n",
      " [  4.62000000e+02   7.97603130e-01   9.42248821e-01]\n",
      " [  4.63000000e+02   1.12584114e+00   9.48719521e-01]\n",
      " [  4.64000000e+02   1.41881239e+00   9.49094107e-01]\n",
      " [  4.65000000e+02   1.71326151e+00   9.43069403e-01]\n",
      " [  4.66000000e+02   1.99689343e+00   9.44834194e-01]\n",
      " [  4.67000000e+02   2.27870419e+00   9.48669066e-01]\n",
      " [  4.68000000e+02   2.57476985e+00   9.48267695e-01]\n",
      " [  4.69000000e+02   2.86905680e+00   9.45177727e-01]\n",
      " [  4.70000000e+02   3.16303541e+00   9.43041365e-01]\n",
      " [  4.71000000e+02   3.46288639e+00   9.41113863e-01]\n",
      " [  4.72000000e+02   3.75953486e+00   9.40270690e-01]\n",
      " [  4.73000000e+02   4.05840126e+00   9.39388211e-01]\n",
      " [  4.74000000e+02   4.35291587e+00   9.41681139e-01]\n",
      " [  4.75000000e+02   4.66255238e+00   9.36387043e-01]\n",
      " [  4.76000000e+02   4.95846198e+00   9.32228440e-01]\n",
      " [  4.77000000e+02   5.23334090e+00   9.43254365e-01]\n",
      " [  4.78000000e+02   5.51741153e+00   9.15724327e-01]\n",
      " [  4.79000000e+02   5.88895171e+00   9.78857722e-01]\n",
      " [  4.80000000e+02   6.08015496e+00   9.20285634e-01]\n",
      " [  4.81000000e+02   6.41192961e+00   9.99500751e-01]\n",
      " [  4.82000000e+02   6.78528166e+00   9.01499748e-01]\n",
      " [  4.83000000e+02   7.02373123e+00   9.81000900e-01]\n",
      " [  4.84000000e+02   7.38082981e+00   8.40001106e-01]\n",
      " [  4.87000000e+02   4.03518677e-02   1.08000088e+00]\n",
      " [  4.88000000e+02   5.27875900e-01   1.08300018e+00]\n",
      " [  4.89000000e+02   8.32188606e-01   1.18087506e+00]\n",
      " [  4.90000000e+02   1.08018014e+00   1.15044837e+00]\n",
      " [  4.91000000e+02   1.40281326e+00   1.18603673e+00]\n",
      " [  4.92000000e+02   1.70720407e+00   1.18104603e+00]\n",
      " [  4.93000000e+02   1.99459340e+00   1.18022750e+00]\n",
      " [  4.94000000e+02   2.28455124e+00   1.17734713e+00]\n",
      " [  4.95000000e+02   2.57465451e+00   1.17876379e+00]\n",
      " [  4.96000000e+02   2.86604395e+00   1.17724277e+00]\n",
      " [  4.97000000e+02   3.15883073e+00   1.17345927e+00]\n",
      " [  4.98000000e+02   3.46124478e+00   1.17582719e+00]\n",
      " [  4.99000000e+02   3.75496112e+00   1.18073078e+00]\n",
      " [  5.00000000e+02   4.06048493e+00   1.17857100e+00]\n",
      " [  5.01000000e+02   4.35563058e+00   1.16945917e+00]\n",
      " [  5.02000000e+02   4.66205326e+00   1.17231206e+00]\n",
      " [  5.03000000e+02   4.95476394e+00   1.17057004e+00]\n",
      " [  5.04000000e+02   5.21396654e+00   1.20366720e+00]\n",
      " [  5.05000000e+02   5.55831027e+00   1.20050043e+00]\n",
      " [  5.06000000e+02   5.82461961e+00   1.17722278e+00]\n",
      " [  5.07000000e+02   6.09924126e+00   1.18699980e+00]\n",
      " [  5.08000000e+02   6.49558830e+00   1.21799946e+00]\n",
      " [  5.09000000e+02   6.72499752e+00   1.19650030e+00]\n",
      " [  5.10000000e+02   7.04987907e+00   1.27499962e+00]\n",
      " [  5.14000000e+02   3.37755203e-01   1.41399956e+00]\n",
      " [  5.15000000e+02   5.50579071e-01   1.42000055e+00]\n",
      " [  5.16000000e+02   8.19587163e-01   1.47242900e+00]\n",
      " [  5.17000000e+02   1.11214767e+00   1.42129421e+00]\n",
      " [  5.18000000e+02   1.42111778e+00   1.41897549e+00]\n",
      " [  5.19000000e+02   1.69993814e+00   1.40974507e+00]\n",
      " [  5.20000000e+02   1.99423222e+00   1.41367634e+00]\n",
      " [  5.21000000e+02   2.28646640e+00   1.41390726e+00]\n",
      " [  5.22000000e+02   2.57374437e+00   1.41188530e+00]\n",
      " [  5.23000000e+02   2.86418203e+00   1.41086925e+00]\n",
      " [  5.24000000e+02   3.15367338e+00   1.41316769e+00]\n",
      " [  5.25000000e+02   3.46199474e+00   1.41462287e+00]\n",
      " [  5.26000000e+02   3.76076473e+00   1.40808019e+00]\n",
      " [  5.27000000e+02   4.05579406e+00   1.41580958e+00]\n",
      " [  5.28000000e+02   4.35541856e+00   1.41438692e+00]\n",
      " [  5.29000000e+02   4.65386745e+00   1.41132598e+00]\n",
      " [  5.30000000e+02   4.93969622e+00   1.41701627e+00]\n",
      " [  5.31000000e+02   5.22233035e+00   1.39950053e+00]\n",
      " [  5.32000000e+02   5.50954833e+00   1.42984640e+00]\n",
      " [  5.33000000e+02   5.77718608e+00   1.41450071e+00]\n",
      " [  5.35000000e+02   6.43071747e+00   1.36350012e+00]\n",
      " [  5.37000000e+02   7.07331657e+00   1.46600056e+00]\n",
      " [  5.38000000e+02   7.21604395e+00   1.42750072e+00]\n",
      " [  5.41000000e+02   3.33225250e-01   1.69499969e+00]\n",
      " [  5.42000000e+02   5.27622223e-01   1.54900074e+00]\n",
      " [  5.43000000e+02   8.42399836e-01   1.64350033e+00]\n",
      " [  5.44000000e+02   1.11622086e+00   1.63330026e+00]\n",
      " [  5.45000000e+02   1.40940249e+00   1.65535302e+00]\n",
      " [  5.46000000e+02   1.71594314e+00   1.65520170e+00]\n",
      " [  5.47000000e+02   1.99605207e+00   1.64586172e+00]\n",
      " [  5.48000000e+02   2.28642935e+00   1.64273452e+00]\n",
      " [  5.49000000e+02   2.57227888e+00   1.64666542e+00]\n",
      " [  5.50000000e+02   2.86700659e+00   1.64314404e+00]\n",
      " [  5.51000000e+02   3.16380679e+00   1.64837175e+00]\n",
      " [  5.52000000e+02   3.46142661e+00   1.64485502e+00]\n",
      " [  5.53000000e+02   3.76240729e+00   1.63877354e+00]\n",
      " [  5.54000000e+02   4.06460239e+00   1.64836450e+00]\n",
      " [  5.55000000e+02   4.35790487e+00   1.64315198e+00]\n",
      " [  5.56000000e+02   4.64184694e+00   1.64831379e+00]\n",
      " [  5.57000000e+02   4.94159609e+00   1.65711577e+00]\n",
      " [  5.58000000e+02   5.25881990e+00   1.66133340e+00]\n",
      " [  5.59000000e+02   5.52890339e+00   1.66980038e+00]\n",
      " [  5.60000000e+02   5.77332211e+00   1.77500057e+00]\n",
      " [  5.61000000e+02   6.29374504e+00   1.66600037e+00]\n",
      " [  5.62000000e+02   6.42421913e+00   1.68200111e+00]\n",
      " [  5.64000000e+02   7.09351826e+00   1.64466731e+00]\n",
      " [  5.65000000e+02   7.39048290e+00   1.64000034e+00]\n",
      " [  5.69000000e+02   5.10659536e-01   1.90000057e+00]\n",
      " [  5.70000000e+02   7.86812592e-01   1.88050003e+00]\n",
      " [  5.71000000e+02   1.10902380e+00   1.89034794e+00]\n",
      " [  5.72000000e+02   1.38938027e+00   1.89250027e+00]\n",
      " [  5.73000000e+02   1.70874657e+00   1.88446122e+00]\n",
      " [  5.74000000e+02   1.99713417e+00   1.88320919e+00]\n",
      " [  5.75000000e+02   2.28285518e+00   1.87159527e+00]\n",
      " [  5.76000000e+02   2.57196787e+00   1.87144121e+00]\n",
      " [  5.77000000e+02   2.86947864e+00   1.87615134e+00]\n",
      " [  5.78000000e+02   3.16527361e+00   1.87706756e+00]\n",
      " [  5.79000000e+02   3.45197297e+00   1.87858517e+00]\n",
      " [  5.80000000e+02   3.76037419e+00   1.87606989e+00]\n",
      " [  5.81000000e+02   4.05735845e+00   1.87752312e+00]\n",
      " [  5.82000000e+02   4.35662932e+00   1.87498582e+00]\n",
      " [  5.83000000e+02   4.65762932e+00   1.87793590e+00]\n",
      " [  5.84000000e+02   4.95191174e+00   1.88180806e+00]\n",
      " [  5.85000000e+02   5.26766838e+00   1.89572768e+00]\n",
      " [  5.86000000e+02   5.47340093e+00   1.90685749e+00]\n",
      " [  5.87000000e+02   5.75340390e+00   1.89975047e+00]\n",
      " [  5.89000000e+02   6.44770908e+00   1.79799938e+00]\n",
      " [  5.96000000e+02   5.94606400e-01   2.07850027e+00]\n",
      " [  5.97000000e+02   7.87040710e-01   2.07299995e+00]\n",
      " [  5.98000000e+02   1.10062675e+00   2.08093357e+00]\n",
      " [  5.99000000e+02   1.41728764e+00   2.11400032e+00]\n",
      " [  6.00000000e+02   1.73757874e+00   2.12512022e+00]\n",
      " [  6.01000000e+02   1.98759992e+00   2.11161947e+00]\n",
      " [  6.02000000e+02   2.27175084e+00   2.10914442e+00]\n",
      " [  6.03000000e+02   2.59606321e+00   2.11893311e+00]\n",
      " [  6.04000000e+02   2.86909820e+00   2.10024076e+00]\n",
      " [  6.05000000e+02   3.18118072e+00   2.12196540e+00]\n",
      " [  6.06000000e+02   3.46528437e+00   2.10730594e+00]\n",
      " [  6.07000000e+02   3.75574540e+00   2.09912307e+00]\n",
      " [  6.08000000e+02   4.05512382e+00   2.11803476e+00]\n",
      " [  6.09000000e+02   4.39575624e+00   2.09542329e+00]\n",
      " [  6.10000000e+02   4.66647005e+00   2.10657167e+00]\n",
      " [  6.11000000e+02   4.91504348e+00   2.12363677e+00]\n",
      " [  6.12000000e+02   5.18672013e+00   2.08025050e+00]\n",
      " [  6.14000000e+02   5.85009813e+00   2.10900068e+00]\n",
      " [  6.22000000e+02   2.38911629e-01   2.28049994e+00]\n",
      " [  6.24000000e+02   7.30475426e-01   2.40799999e+00]\n",
      " [  6.25000000e+02   1.11766774e+00   2.37307201e+00]\n",
      " [  6.26000000e+02   1.40529610e+00   2.36758866e+00]\n",
      " [  6.27000000e+02   1.65441724e+00   2.36678977e+00]\n",
      " [  6.28000000e+02   1.97826024e+00   2.33678963e+00]\n",
      " [  6.29000000e+02   2.27750778e+00   2.35536398e+00]\n",
      " [  6.30000000e+02   2.54570450e+00   2.34539318e+00]\n",
      " [  6.31000000e+02   2.89057662e+00   2.36177297e+00]\n",
      " [  6.32000000e+02   3.12521863e+00   2.35075041e+00]\n",
      " [  6.33000000e+02   3.48188898e+00   2.35386985e+00]\n",
      " [  6.34000000e+02   3.77060201e+00   2.35327296e+00]\n",
      " [  6.35000000e+02   4.06958126e+00   2.36688277e+00]\n",
      " [  6.36000000e+02   4.35043756e+00   2.33923547e+00]\n",
      " [  6.37000000e+02   4.63889098e+00   2.34275031e+00]\n",
      " [  6.38000000e+02   4.92814445e+00   2.30366707e+00]\n",
      " [  6.39000000e+02   5.19641113e+00   2.47900105e+00]\n",
      " [  6.40000000e+02   5.59052920e+00   2.37150049e+00]\n",
      " [  6.41000000e+02   5.76595306e+00   2.34749985e+00]\n",
      " [  6.49000000e+02   4.98771667e-02   2.60799980e+00]\n",
      " [  6.50000000e+02   5.62142054e-01   2.54200013e+00]\n",
      " [  6.51000000e+02   8.78152212e-01   2.51533349e+00]\n",
      " [  6.52000000e+02   1.03528500e+00   2.65700054e+00]\n",
      " [  6.53000000e+02   1.45968246e+00   2.63640003e+00]\n",
      " [  6.54000000e+02   1.69913697e+00   2.59437549e+00]\n",
      " [  6.55000000e+02   1.96723366e+00   2.63133367e+00]\n",
      " [  6.56000000e+02   2.24648914e+00   2.55710001e+00]\n",
      " [  6.57000000e+02   2.50143852e+00   2.53580036e+00]\n",
      " [  6.58000000e+02   2.84806824e+00   2.59333356e+00]\n",
      " [  6.59000000e+02   3.11392212e+00   2.57900012e+00]\n",
      " [  6.60000000e+02   3.45306921e+00   2.57350016e+00]\n",
      " [  6.61000000e+02   3.73976103e+00   2.57583364e+00]\n",
      " [  6.62000000e+02   4.06212616e+00   2.61200027e+00]\n",
      " [  6.63000000e+02   4.31928730e+00   2.63300006e+00]\n",
      " [  6.64000000e+02   4.68578720e+00   2.57625031e+00]\n",
      " [  6.65000000e+02   4.86339569e+00   2.61200047e+00]\n",
      " [  6.66000000e+02   5.19620705e+00   2.54999971e+00]\n",
      " [  6.67000000e+02   5.52928543e+00   2.55200100e+00]\n",
      " [  6.72000000e+02   7.05839729e+00   2.65500069e+00]\n",
      " [  6.77000000e+02   4.25739288e-01   2.82799911e+00]\n",
      " [  6.78000000e+02   6.59629822e-01   2.78300095e+00]\n",
      " [  6.79000000e+02   1.02131176e+00   2.82600021e+00]\n",
      " [  6.81000000e+02   1.70563126e+00   2.91766707e+00]\n",
      " [  6.82000000e+02   1.96187305e+00   2.87499952e+00]\n",
      " [  6.83000000e+02   2.34111818e+00   2.87850046e+00]\n",
      " [  6.84000000e+02   2.62004026e+00   2.85466703e+00]\n",
      " [  6.85000000e+02   2.98982430e+00   2.81700039e+00]\n",
      " [  6.86000000e+02   3.18578720e+00   2.82850027e+00]\n",
      " [  6.87000000e+02   3.53067112e+00   2.78399897e+00]\n",
      " [  6.89000000e+02   4.01306089e+00   2.78366693e+00]\n",
      " [  6.90000000e+02   4.30932522e+00   2.87000036e+00]\n",
      " [  6.91000000e+02   4.59138584e+00   2.74300098e+00]\n",
      " [  6.92000000e+02   5.02955055e+00   2.86549997e+00]]\n"
     ]
    }
   ],
   "source": [
    "n1 = [np.where(t[:,0] == bins[i]) for i in range(len(bins))]\n",
    "tnew = t[t[:,0].argsort()]\n",
    "tnew =  np.array([np.mean(tnew[n[i]], axis = 0) for i in range(len(bins))])\n",
    "print tnew[200:467]\n"
   ]
  },
  {
   "cell_type": "code",
   "execution_count": 33,
   "metadata": {
    "collapsed": false
   },
   "outputs": [],
   "source": [
    "# import pickle\n",
    "# afile = open(r'bin_opt_inf.pkl', 'wb')\n",
    "# pickle.dump(tnew, afile)\n",
    "# afile.close()"
   ]
  },
  {
   "cell_type": "code",
   "execution_count": null,
   "metadata": {
    "collapsed": true
   },
   "outputs": [],
   "source": []
  }
 ],
 "metadata": {
  "kernelspec": {
   "display_name": "Python 2",
   "language": "python",
   "name": "python2"
  },
  "language_info": {
   "codemirror_mode": {
    "name": "ipython",
    "version": 2
   },
   "file_extension": ".py",
   "mimetype": "text/x-python",
   "name": "python",
   "nbconvert_exporter": "python",
   "pygments_lexer": "ipython2",
   "version": "2.7.13"
  }
 },
 "nbformat": 4,
 "nbformat_minor": 2
}
