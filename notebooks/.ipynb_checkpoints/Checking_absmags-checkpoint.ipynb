{
 "cells": [
  {
   "cell_type": "code",
   "execution_count": 1,
   "metadata": {
    "collapsed": true
   },
   "outputs": [],
   "source": [
    "import numpy as np\n",
    "import pyfits\n",
    "import scipy as sp\n",
    "import matplotlib.pyplot as plt\n",
    "import math\n"
   ]
  },
  {
   "cell_type": "code",
   "execution_count": 2,
   "metadata": {
    "collapsed": true
   },
   "outputs": [],
   "source": [
    "a = pyfits.open(\"nsa_v0_1_2.fits\")\n",
    "b = np.loadtxt(\"big_data_file.txt\")\n",
    "np.shape(b)\n",
    "nsa_sample = np.asarray(b[:,0])\n",
    "c = a[1].data\n"
   ]
  },
  {
   "cell_type": "code",
   "execution_count": 3,
   "metadata": {},
   "outputs": [
    {
     "name": "stdout",
     "output_type": "stream",
     "text": [
      "-38.895 0.0\n",
      "-26.2546 -6.83748\n",
      "79053\n"
     ]
    }
   ],
   "source": [
    "nsa = np.asarray(c[\"NSAID\"])\n",
    "mag = np.asarray(c[\"ABSMAG\"])\n",
    "\n",
    "ind = np.in1d(nsa,nsa_sample)\n",
    "new_nsa = nsa[ind]\n",
    "\n",
    "mag1 = mag[ind]\n",
    "rmag = np.asarray(mag[:,4])\n",
    "rmag1 = np.asarray(mag1[:,4])\n",
    "\n",
    "print min(rmag), max(rmag)\n",
    "print min(rmag1), max(rmag1)\n",
    "\n",
    "lum = np.where(rmag1<=-18.5)[0]\n",
    "\n",
    "print len(rmag1[lum])\n",
    "\n"
   ]
  },
  {
   "cell_type": "code",
   "execution_count": null,
   "metadata": {},
   "outputs": [],
   "source": [
    "\n"
   ]
  },
  {
   "cell_type": "code",
   "execution_count": null,
   "metadata": {
    "collapsed": true
   },
   "outputs": [],
   "source": []
  },
  {
   "cell_type": "code",
   "execution_count": null,
   "metadata": {
    "collapsed": true
   },
   "outputs": [],
   "source": []
  }
 ],
 "metadata": {
  "kernelspec": {
   "display_name": "Python 3",
   "language": "python",
   "name": "python3"
  },
  "language_info": {
   "codemirror_mode": {
    "name": "ipython",
    "version": 3
   },
   "file_extension": ".py",
   "mimetype": "text/x-python",
   "name": "python",
   "nbconvert_exporter": "python",
   "pygments_lexer": "ipython3",
   "version": "3.6.3"
  }
 },
 "nbformat": 4,
 "nbformat_minor": 2
}
