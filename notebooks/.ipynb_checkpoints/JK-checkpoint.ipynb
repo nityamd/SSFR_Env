{
 "cells": [
  {
   "cell_type": "code",
   "execution_count": 1,
   "metadata": {},
   "outputs": [],
   "source": [
    "import numpy as np\n",
    "import pyfits\n",
    "import math\n",
    "from math import log10\n",
    "import matplotlib.pyplot as plt\n",
    "import scipy\n",
    "from scipy.stats import binned_statistic\n",
    "from scipy.stats import binned_statistic_2d\n",
    "from matplotlib import rc\n",
    "import pickle\n",
    "import os\n",
    "import astropy as ap\n",
    "from astropy.cosmology import WMAP7\n",
    "from scipy import interpolate\n",
    "import corner\n",
    "import matplotlib.patheffects as patheffects\n",
    "from matplotlib import rcParams\n",
    "\n",
    "# rcParams[\"font.size\"] = 16\n",
    "rcParams[\"font.family\"] = \"sans-serif\"\n",
    "rcParams[\"font.sans-serif\"] = [\"Computer Modern Sans\"]\n",
    "rcParams[\"text.usetex\"] = True\n",
    "#rcParams[\"text.latex.preamble\"] = r\"\\usepackage{cmbright}\"\n",
    "\n",
    "rcParams['xtick.major.pad']='10'\n",
    "rcParams['ytick.major.pad']='10'\n",
    "\n",
    "# rcParams['font.family'] = 'serif'\n",
    "# rcParams['font.serif'] = 'Ubuntu'\n",
    "# rcParams['font.monospace'] = 'Ubuntu Mono'\n",
    "rcParams['font.size'] = 15\n",
    "rcParams['axes.labelsize'] = 15\n",
    "rcParams['axes.labelweight'] = 'bold'\n",
    "rcParams['axes.titlesize'] = 17\n",
    "rcParams['xtick.labelsize'] = 13\n",
    "rcParams['ytick.labelsize'] = 13\n",
    "rcParams['legend.fontsize'] = 13\n",
    "rcParams['figure.titlesize'] = 1\n",
    "\n"
   ]
  },
  {
   "cell_type": "code",
   "execution_count": 2,
   "metadata": {},
   "outputs": [
    {
     "name": "stdout",
     "output_type": "stream",
     "text": [
      "/Users/nitya/Work/Data/Project1/edge_effects\n",
      "ColDefs(\n",
      "    name = 'XCAPS'; format = '42D'; dim = '( 3, 14)'\n",
      "    name = 'CMCAPS'; format = '14D'\n",
      "    name = 'NCAPS'; format = 'J'\n",
      "    name = 'WEIGHT'; format = 'D'\n",
      "    name = 'STR'; format = 'D'\n",
      "    name = 'USE_CAPS'; format = 'J'; bscale = 1; bzero = 2147483648\n",
      "    name = 'RA'; format = 'D'\n",
      "    name = 'DEC'; format = 'D'\n",
      "    name = 'SECTOR'; format = 'J'\n",
      "    name = 'MMAX'; format = 'E'\n",
      "    name = 'DIFFRUN'; format = 'J'\n",
      "    name = 'ITILING_GEOMETRY'; format = 'J'\n",
      "    name = 'ITARGET_GEOMETRY'; format = 'J'\n",
      "    name = 'ILSS'; format = 'J'\n",
      "    name = 'FGOTMAIN'; format = 'E'\n",
      ")\n",
      "6803 66656\n"
     ]
    }
   ],
   "source": [
    "os.chdir('/Users/nitya/Work/Data/Project1/edge_effects')\n",
    "print(os.getcwd())\n",
    "\n",
    "a = pyfits.open(\"lss_combmask.dr72.fits\")\n",
    "a = a[1].data\n",
    "print(a.columns)\n",
    "fg= a['fgotmain']\n",
    "ind0 = np.where(fg==0)[0]\n",
    "ind1 = np.where(fg==1.0)[0]\n",
    "print(len(fg[ind0]), len(fg[ind1]))"
   ]
  },
  {
   "cell_type": "code",
   "execution_count": 3,
   "metadata": {},
   "outputs": [
    {
     "name": "stdout",
     "output_type": "stream",
     "text": [
      "/Users/nitya/Work/Data/Project1/measurements\n",
      "('nsaid', 'z', 'ra', 'dec', 'opt', 'inf', 'mass', 'magsfr', 'magphys', 'uv', 'uvssfr', 'env')\n"
     ]
    }
   ],
   "source": [
    "os.chdir('/Users/nitya/Work/Data/Project1/measurements')\n",
    "print(os.getcwd())\n",
    "\n",
    "ile = open(r'interpolated_data_radec.pkl','rb')\n",
    "d = pickle.load(ile, encoding ='latin1')\n",
    "ile.close()\n",
    "print(d.dtype.names)"
   ]
  },
  {
   "cell_type": "code",
   "execution_count": 4,
   "metadata": {},
   "outputs": [
    {
     "name": "stdout",
     "output_type": "stream",
     "text": [
      "579437\n",
      "653897\n",
      "0.118444022364\n",
      "0.104399854845\n"
     ]
    }
   ],
   "source": [
    "#let's make a file without the southern stripes;\n",
    "ind1 = np.where(a['ra']>=100)[0]\n",
    "a1 = a[ind1]\n",
    "ind2 = np.where(a1['ra']<=270)[0]\n",
    "a1 = a1[ind2]\n",
    "print(len(a1))\n",
    "print(len(a))\n",
    "ind3 = np.where(a['ra']<100)[0]\n",
    "a2 = a[ind3]\n",
    "ind4 = np.where(a['ra']>270)[0]\n",
    "a3 = a[ind4]\n",
    "\n",
    "area2 = np.sum(a2['STR'])\n",
    "print(area2)\n",
    "area3 = np.sum(a3['STR'])\n",
    "print(area3)"
   ]
  },
  {
   "cell_type": "code",
   "execution_count": 42,
   "metadata": {},
   "outputs": [
    {
     "name": "stdout",
     "output_type": "stream",
     "text": [
      "[[ 0.6263  1.1349]\n",
      " [ 0.1184  0.2792]]\n",
      "[ 109.  165.  267.]\n",
      "[ -4.   9.  71.]\n",
      "579437\n"
     ]
    },
    {
     "data": {
      "image/png": "[encoded data removed]",
      "text/plain": [
       "<matplotlib.figure.Figure at 0x1299496d8>"
      ]
     },
     "metadata": {},
     "output_type": "display_data"
    }
   ],
   "source": [
    "#let's figure out which area belongs to which bin....\n",
    "\n",
    "\n",
    "# l1 = [ 109,165,267]\n",
    "# l2 = [ -4,9,71]\n",
    "\n",
    "# g = binned_statistic_2d(a1['ra'],a1['dec'],a1['str'], statistic = 'sum', bins = (l1,l2))\n",
    "# print(np.flipud(np.transpose(g[0])))\n",
    "# print(g[1])\n",
    "# print(g[2])\n",
    "# print(len(g[3]))\n",
    "# plt.scatter(a1['RA'],a1['DEC'], s = 0.01)\n",
    "# for i in range(len(g[2])):\n",
    "#     plt.axhline(y = g[2][i],xmin = 0.3,xmax = 0.75, linestyle = '--', color = 'k')\n",
    "# for i in range(len(g[1])):\n",
    "#     plt.axvline(x = g[1][i], linestyle = '--', color = 'k')\n",
    "# plt.scatter(a2['RA'],a2['DEC'], s = 0.01)\n",
    "# plt.scatter(a3['RA'],a3['DEC'], s = 0.01)\n",
    "# plt.show()\n",
    "\n",
    "# print(g[0])\n",
    "# print(np.ravel(g[0]))\n",
    "# print(np.unique(g[3]))\n",
    "# indi, = np.where(g[3]==5)\n",
    "# print(len(a1['ra'][indi]))\n",
    "# print(a1['ra'][indi])\n",
    "# print(a1['dec'][indi])\n",
    "# indi, = np.where(g[3]==6)\n",
    "# print(len(a1['ra'][indi]))\n",
    "# print(a1['ra'][indi])\n",
    "# print(a1['dec'][indi])\n",
    "# indi, = np.where(g[3]==9)\n",
    "# print(len(a1['ra'][indi]))\n",
    "# print(a1['ra'][indi])\n",
    "# print(a1['dec'][indi])\n",
    "# indi, = np.where(g[3]==10)\n",
    "# print(len(a1['ra'][indi]))\n",
    "# print(a1['ra'][indi])\n",
    "# print(a1['dec'][indi])"
   ]
  },
  {
   "cell_type": "code",
   "execution_count": 47,
   "metadata": {},
   "outputs": [
    {
     "name": "stdout",
     "output_type": "stream",
     "text": [
      "[[ 0.9554  0.6298]\n",
      " [ 0.356   0.2175]]\n",
      "[ 109.  215.  267.]\n",
      "[ -4.  33.  71.]\n",
      "579437\n"
     ]
    },
    {
     "data": {
      "image/png": "[encoded data removed]",
      "text/plain": [
       "<matplotlib.figure.Figure at 0x12b1a8198>"
      ]
     },
     "metadata": {},
     "output_type": "display_data"
    },
    {
     "name": "stdout",
     "output_type": "stream",
     "text": [
      "[[ 8.0666  5.3174]\n",
      " [ 3.0059  1.8359]]\n",
      "0.881427806662\n"
     ]
    }
   ],
   "source": [
    "b1 = [ 109,215,267]\n",
    "b2 = [ -4,33,71]\n",
    "\n",
    "g = binned_statistic_2d(a1['ra'],a1['dec'],a1['str'], statistic = 'sum', bins = (b1,b2))\n",
    "print(g[0])\n",
    "print(g[1])\n",
    "print(g[2])\n",
    "print(len(g[3]))\n",
    "plt.scatter(a1['RA'],a1['DEC'], s = 0.01)\n",
    "for i in range(len(g[2])):\n",
    "    plt.axhline(y = g[2][i],xmin = 0.3,xmax = 0.75, linestyle = '--', color = 'k')\n",
    "for i in range(len(g[1])):\n",
    "    plt.axvline(x = g[1][i], linestyle = '--', color = 'k')\n",
    "plt.scatter(a2['RA'],a2['DEC'], s = 0.01)\n",
    "plt.scatter(a3['RA'],a3['DEC'], s = 0.01)\n",
    "plt.show()\n",
    "#here's the \"factor\" matrix for how to split up them volumes:\n",
    "res = g[0]/area2\n",
    "res2 = area3/area2\n",
    "print(res)\n",
    "print(res2)"
   ]
  },
  {
   "cell_type": "code",
   "execution_count": 48,
   "metadata": {},
   "outputs": [
    {
     "name": "stdout",
     "output_type": "stream",
     "text": [
      "55696\n",
      "61046\n",
      "3599\n",
      "1751\n",
      "[[ 23165.  15359.]\n",
      " [ 12386.   4786.]]\n",
      "[ 109.  215.  267.]\n",
      "[ -4.  33.  71.]\n",
      "55696\n",
      "[ 5  6  9 10]\n",
      "[ 5  6  9 10]\n"
     ]
    }
   ],
   "source": [
    "#so 8+5+3+2+2 = 20 jackknife regions with comoving volumes of ~ well we'll get to it;\n",
    "# Dividing up my sample with the same binning first;\n",
    "\n",
    "#let's make a file without the southern stripes;\n",
    "ind1, = np.where(d['ra']>=110)\n",
    "d1 = d[ind1]\n",
    "ind2, = np.where(d1['ra']<=267)\n",
    "d1 = d1[ind2]\n",
    "print(len(d1))\n",
    "print(len(d))\n",
    "ind3, = np.where(d['ra']<110)\n",
    "d2 = d[ind3]\n",
    "ind4, = np.where(d['ra']>267)\n",
    "d3 = d[ind4]\n",
    "print(len(d2))\n",
    "print(len(d3))\n",
    "\n",
    "h = binned_statistic_2d(d1['ra'],d1['dec'],d1['nsaid'], statistic = 'count', bins = (b1,b2))\n",
    "print(h[0])\n",
    "print(h[1])\n",
    "print(h[2])\n",
    "print(len(h[3]))\n",
    "print(np.unique(h[3]))\n",
    "print(np.unique(g[3]))\n",
    "\n",
    "steridian = np.ravel(g[0])\n",
    "ratio = np.ravel(res)\n"
   ]
  },
  {
   "cell_type": "code",
   "execution_count": 51,
   "metadata": {},
   "outputs": [
    {
     "name": "stdout",
     "output_type": "stream",
     "text": [
      "[[  5.0000e+00   3.0000e+00   4.8086e-02   1.4733e+02   2.8895e-02]\n",
      " [  5.0000e+00   8.0000e+00   4.5652e-02   1.4659e+02  -1.3315e-01]]\n",
      "[[  5.0000e+00   3.0000e+00   4.8086e-02   1.4733e+02   2.8895e-02]\n",
      " [  5.0000e+00   9.3042e+04   4.5467e-02   2.0014e+02   3.1258e+01]]\n",
      "(4,)\n",
      "[  3.0000e+00   9.3042e+04   9.3041e+04 ...,   8.3000e+01   8.1000e+01\n",
      "   8.4000e+01]\n",
      "[5 0.9554370561125047 8.066570494995178\n",
      " array([[  3.0000e+00,   4.8086e-02],\n",
      "       [  9.3042e+04,   4.5467e-02],\n",
      "       [  9.3041e+04,   4.6990e-02],\n",
      "       ..., \n",
      "       [  8.3000e+01,   3.6534e-02],\n",
      "       [  8.1000e+01,   5.2526e-02],\n",
      "       [  8.4000e+01,   3.6699e-02]])]\n"
     ]
    }
   ],
   "source": [
    "b = np.reshape(np.asarray(h[3]),(len(d1),1))\n",
    "bins = np.unique(h[3])\n",
    "new = np.column_stack((b,d1['nsaid'],d1['z'],d1['ra'],d1['dec']))\n",
    "print(new[0:2])\n",
    "new = new[new[:,0].argsort()]\n",
    "n1 = [np.where(new[:,0] == bins[i]) for i in range(len(bins))]\n",
    "print(new[0:2])\n",
    "#array of nsaid's for each jk region..\n",
    "ids_z = [np.column_stack((new[:,1][n1[i]],new[:,2][n1[i]])) for i in range(len(bins))]\n",
    "# new1 =  np.array([np.mean(new[n1[i]], axis = 0) for i in range(len(bins))])\n",
    "# print(np.shape(new1))\n",
    "# print(new1[0:2])\n",
    "print(np.shape(ids_z))\n",
    "print(array[0])\n",
    "array2 = np.column_stack((bins,steridian, ratio,ids_z))\n",
    "print(array2[0])\n"
   ]
  },
  {
   "cell_type": "code",
   "execution_count": 70,
   "metadata": {},
   "outputs": [
    {
     "data": {
      "text/plain": [
       "(4,)"
      ]
     },
     "execution_count": 70,
     "metadata": {},
     "output_type": "execute_result"
    }
   ],
   "source": [
    "np.shape(ids_z)"
   ]
  },
  {
   "cell_type": "code",
   "execution_count": 78,
   "metadata": {},
   "outputs": [
    {
     "name": "stdout",
     "output_type": "stream",
     "text": [
      "()\n",
      "[[1.0 0.11844402236431158 1.0 <zip object at 0x1296ce4c8>]\n",
      " [2.0 0.10439985484481691 0.8814278066621425 <zip object at 0x1296ce188>]\n",
      " [5 0.9554370561125047 8.066570494995178\n",
      "  array([[  3.0000e+00,   4.8086e-02],\n",
      "       [  9.3042e+04,   4.5467e-02],\n",
      "       [  9.3041e+04,   4.6990e-02],\n",
      "       ..., \n",
      "       [  8.3000e+01,   3.6534e-02],\n",
      "       [  8.1000e+01,   5.2526e-02],\n",
      "       [  8.4000e+01,   3.6699e-02]])]\n",
      " [6 0.6298123256056817 5.317383798977184\n",
      "  array([[  3.7226e+04,   3.8972e-02],\n",
      "       [  3.7225e+04,   5.4922e-02],\n",
      "       [  3.7235e+04,   5.3144e-02],\n",
      "       ..., \n",
      "       [  4.1206e+04,   4.6656e-02],\n",
      "       [  4.1212e+04,   1.9376e-02],\n",
      "       [  9.6150e+03,   4.6605e-02]])]\n",
      " [9 0.3560350526277928 3.0059351710692144\n",
      "  array([[  1.2206e+05,   5.4369e-02],\n",
      "       [  1.2206e+05,   4.5020e-02],\n",
      "       [  1.6505e+05,   1.9038e-02],\n",
      "       ..., \n",
      "       [  9.7311e+04,   3.9757e-02],\n",
      "       [  9.7310e+04,   3.8746e-02],\n",
      "       [  9.7314e+04,   3.8495e-02]])]\n",
      " [10 0.2174548776216409 1.8359295241830822\n",
      "  array([[  6.7823e+04,   4.3384e-02],\n",
      "       [  6.7822e+04,   4.4829e-02],\n",
      "       [  1.4674e+05,   2.5591e-02],\n",
      "       ..., \n",
      "       [  4.5823e+04,   5.3307e-02],\n",
      "       [  4.5821e+04,   3.9546e-02],\n",
      "       [  5.1584e+04,   4.3747e-02]])]]\n"
     ]
    }
   ],
   "source": [
    "glug = np.asarray(zip(d2['nsaid'],d2['z']))\n",
    "print(np.shape(glug))\n",
    "\n",
    "ar2 = np.column_stack((1.0,area2,1.0, zip(d2['nsaid'],d2['z'])))\n",
    "ar3 = np.column_stack((2.0,area3,area3/area2, zip(d3['nsaid'],d3['z'])))\n",
    "\n",
    "#so we should have the ra-dec cuts recorded on to:\n",
    "p = np.vstack((ar2,ar3,array2))\n",
    "print(p)"
   ]
  },
  {
   "cell_type": "code",
   "execution_count": 6,
   "metadata": {},
   "outputs": [
    {
     "name": "stdout",
     "output_type": "stream",
     "text": [
      "0.0550014674664 52005388.21882485\n"
     ]
    }
   ],
   "source": [
    "# #Comdis stuff:\n",
    "# d2 = WMAP7.comoving_distance(0.055).value\n",
    "# def comvol(n):\n",
    "#     d1 = WMAP7.comoving_distance(0.055/n).value\n",
    "#     vol = (d2**3-d1**3)\n",
    "#     return vol\n",
    "\n",
    "zmax = np.max(d['z'])\n",
    "\n",
    "z_array = np.linspace(0,zmax,1000)\n",
    "#print(z_array)\n",
    "comvol_array = WMAP7.comoving_volume(z_array).value\n",
    "#print(comvol_array)\n",
    "\n",
    "#To figure out the redshift at which we can get \n",
    "\n",
    "\n",
    "#Remember all the volumes are in Mpc^^3\n",
    "maxvol = WMAP7.comoving_volume(zmax).value\n",
    "print(zmax,maxvol)\n"
   ]
  },
  {
   "cell_type": "code",
   "execution_count": 7,
   "metadata": {},
   "outputs": [
    {
     "name": "stdout",
     "output_type": "stream",
     "text": [
      "6159727.36526 5429354.98119\n"
     ]
    }
   ],
   "source": [
    "print(area2*maxvol, area3*maxvol)"
   ]
  },
  {
   "cell_type": "code",
   "execution_count": 8,
   "metadata": {},
   "outputs": [],
   "source": [
    "#now to break up them volumes...\n",
    "\n",
    "def get_index(n):\n",
    "    v = np.arange(n)\n",
    "    vol = v*maxvol/n\n",
    "    ind = []\n",
    "    for j in range(len(v)):\n",
    "        res = [abs(comvol_array[i]-vol[j]) for i in range(len(comvol_array))]\n",
    "        index, = np.where(res==np.min(res))\n",
    "        print(np.min(res))\n",
    "        ind.append(np.asscalar(index))\n",
    "    return(ind)\n"
   ]
  },
  {
   "cell_type": "code",
   "execution_count": 9,
   "metadata": {},
   "outputs": [
    {
     "name": "stdout",
     "output_type": "stream",
     "text": [
      "0.0\n",
      "14769.2204466\n",
      "24226.5792806\n",
      "2440.3528358\n",
      "36649.8884715\n",
      "12759.631153\n",
      "56447.9555657\n",
      "[0, 519, 655, 751, 827, 892, 948]\n",
      "[ 0.      0.0286  0.0361  0.0413  0.0455  0.0491  0.0522]\n",
      "[        0.       7414571.9537  14834455.769   22285583.1695  29680714.808\n",
      "  37159465.5017  44519599.0891]\n",
      "[ 4745326.0503  4748725.6418  4768721.5364  4732884.2486  4786400.444\n",
      "  4710485.4959]\n",
      "52005388.21882485\n",
      "7429341.174117835\n",
      "0.0\n",
      "21364.0686264\n",
      "16293.4022524\n",
      "4690.86043157\n",
      "52295.3145311\n",
      "[0, 581, 734, 841, 927]\n",
      "[ 0.      0.032   0.0404  0.0463  0.051 ]\n",
      "[        0.      10379713.5751  20818448.6898  31198542.0709  41656605.8896]\n",
      "[ 4274366.0502  4298671.1202  4274522.4543  4306630.6806]\n",
      "52005388.21882485\n",
      "10401077.643764969\n",
      "6159727.36526\n",
      "5429354.98119\n"
     ]
    }
   ],
   "source": [
    "np.set_printoptions(precision=4)\n",
    "b7 = get_index(7)\n",
    "print(0.64*np.diff(comvol_array[b7]))\n",
    "b5 = get_index(5)\n",
    "print(0.4118*np.diff(comvol_array[b5]))\n",
    "print(maxvol)\n",
    "print(maxvol/5)\n",
    "\n",
    "print(area2*maxvol)\n",
    "print(area3*maxvol)"
   ]
  },
  {
   "cell_type": "code",
   "execution_count": 15,
   "metadata": {},
   "outputs": [
    {
     "name": "stdout",
     "output_type": "stream",
     "text": [
      "55696\n",
      "61046\n"
     ]
    }
   ],
   "source": []
  },
  {
   "cell_type": "code",
   "execution_count": 10,
   "metadata": {},
   "outputs": [],
   "source": [
    "# h = binned_statistic_2d(d1['ra'],d1['dec'],d1['nsaid'], statistic = 'count', bins = (3,3))\n",
    "# print(h[0])\n",
    "# print(h[1])\n",
    "# print(h[2])\n",
    "# print(len(h[3]))\n",
    "\n",
    "\n",
    "# plt.scatter(d1['ra'],d1['dec'], s = 0.01)\n",
    "# plt.scatter(d2['ra'],d2['dec'], s= 0.01)\n",
    "# plt.scatter(d3['ra'],d3['dec'], s= 0.01)\n",
    "# for i in range(len(h[2])):\n",
    "#     plt.axhline(y = h[2][i], linestyle = '--')\n",
    "#     plt.axvline(x = h[1][i], linestyle = '--')\n",
    "# plt.show()"
   ]
  },
  {
   "cell_type": "code",
   "execution_count": 11,
   "metadata": {},
   "outputs": [],
   "source": [
    "# #let's make a file without the southern stripes;\n",
    "# ind1 = np.where(d['ra']>=100)[0]\n",
    "# d1 = d[ind1]\n",
    "# ind2 = np.where(d1['ra']<=270)[0]\n",
    "# d1 = d1[ind2]\n",
    "\n",
    "# print(len(d1))\n",
    "# print(len(d))\n",
    "\n",
    "\n",
    "# ind3 = np.where(d['ra']<100)[0]\n",
    "# d2 = d[ind3]\n",
    "# ind4 = np.where(d['ra']>270)[0]\n",
    "# d3 = d[ind4]\n",
    "\n",
    "# print(len(d))\n",
    "# print(len(d1))\n",
    "# print(len(d2))\n",
    "# print(len(d3))\n",
    "\n",
    "# sample = np.column_stack((d['ra'],d['dec'],d['z']))\n",
    "\n",
    "# y = scipy.stats.binned_statistic_dd(sample,d['nsaid'],statistic = 'count', bins =3)\n",
    "# print(y[0])\n",
    "# print(y[1])\n",
    "\n",
    "# plt.scatter(d[:,1],d[:,2], s = 0.01)\n",
    "\n",
    "# for i in range(len(ylines2)):\n",
    "#     plt.plot(ylines2[i],xlines, linestyle = '--', color = 'k')\n",
    "\n",
    "# for i in range(len(hlines2)):\n",
    "#     plt.plot(vlines,hlines2[i], linestyle = '--', color = 'k')\n",
    "\n",
    "# plt.xlabel('RA')\n",
    "# plt.ylabel('Dec')\n",
    "# #plt.xlim(90,270)\n",
    "# #plt.savefig('ra_dec.pdf')\n",
    "# plt.show()\n",
    "# from mpl_toolkits import mplot3d\n",
    "# fig = plt.figure()\n",
    "# ax = plt.axes(projection='3d')\n",
    "# cs = ax.scatter3D(d[:,1], d[:,2], d[:,3], c=d[:,3], s = 0.01,cmap=plt.cm.Blues)\n",
    "# plt.colorbar(cs)\n",
    "# plt.show()\n",
    "# plt.scatter(d[:,1],d[:,2], c=d[:,3], s = 0.01,cmap=plt.cm.spectral)\n",
    "# plt.colorbar()\n",
    "# plt.show()"
   ]
  }
 ],
 "metadata": {
  "kernelspec": {
   "display_name": "Python 3",
   "language": "python",
   "name": "python3"
  },
  "language_info": {
   "codemirror_mode": {
    "name": "ipython",
    "version": 3
   },
   "file_extension": ".py",
   "mimetype": "text/x-python",
   "name": "python",
   "nbconvert_exporter": "python",
   "pygments_lexer": "ipython3",
   "version": "3.6.3"
  }
 },
 "nbformat": 4,
 "nbformat_minor": 2
}
