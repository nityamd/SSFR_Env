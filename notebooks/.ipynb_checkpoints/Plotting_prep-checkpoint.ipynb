{
 "cells": [
  {
   "cell_type": "code",
   "execution_count": 10,
   "metadata": {},
   "outputs": [],
   "source": [
    "import numpy as np\n",
    "import pyfits\n",
    "import math\n",
    "from math import log10\n",
    "import matplotlib.pyplot as plt\n",
    "import scipy\n",
    "from scipy.stats import binned_statistic\n",
    "from scipy.stats import binned_statistic_2d\n",
    "from matplotlib import rc\n",
    "import pickle\n",
    "import os\n",
    "import astropy as ap\n",
    "from astropy.cosmology import WMAP7"
   ]
  },
  {
   "cell_type": "code",
   "execution_count": 11,
   "metadata": {},
   "outputs": [],
   "source": [
    "os.chdir('/Users/nitya/Documents/new_data')"
   ]
  },
  {
   "cell_type": "code",
   "execution_count": 12,
   "metadata": {},
   "outputs": [],
   "source": [
    "file1 = open(r'newfg_nth_0.5Mpc_500kms.pkl', 'rb')\n",
    "env1 = pickle.load(file1, encoding ='latin1')\n",
    "file1.close()\n",
    "\n",
    "file2 = open(r'newfg_nth_0.5Mpc_1000kms.pkl', 'rb')\n",
    "env2 = pickle.load(file2, encoding ='latin1')\n",
    "file2.close()\n",
    "\n",
    "file3 = open(r'newfg_nth_1.0Mpc_500kms.pkl', 'rb')\n",
    "env3 = pickle.load(file3, encoding ='latin1')\n",
    "file3.close()\n",
    "\n",
    "file4 = open(r'newfg_nth_1.0Mpc_1000kms.pkl', 'rb')\n",
    "env4 = pickle.load(file4, encoding ='latin1')\n",
    "file4.close()\n",
    "\n",
    "file_alpha = open(r'sfr_population.pkl', 'rb')\n",
    "d = pickle.load(file_alpha, encoding ='latin1')\n",
    "file_alpha.close()\n",
    "\n",
    "\n",
    "file_beta = open(r'bin_opt_inf.pkl', 'rb')\n",
    "d1 = pickle.load(file_beta, encoding ='latin1')\n",
    "file_beta.close()\n",
    "optbin = np.asarray(d1[:,1])\n",
    "infbin = np.asarray(d1[:,2])\n",
    "\n",
    "file_gamma = open(r'bin_magphys.pkl', 'rb')\n",
    "d2 = pickle.load(file_gamma, encoding ='latin1')\n",
    "file_gamma.close()\n",
    "mag = d2[:,1]\n",
    "\n",
    "file_delta = open(r'bins_uvssfr', 'rb')\n",
    "d3 = pickle.load(file_delta, encoding ='latin1')\n",
    "file_gamma.close()\n",
    "uv = d3[:,1]\n",
    "\n"
   ]
  },
  {
   "cell_type": "code",
   "execution_count": 13,
   "metadata": {},
   "outputs": [
    {
     "name": "stdout",
     "output_type": "stream",
     "text": [
      "(75476,) (77307, 2) (77307, 2)\n"
     ]
    }
   ],
   "source": [
    "print(np.shape(d), np.shape(env1), np.shape(env2))\n"
   ]
  },
  {
   "cell_type": "code",
   "execution_count": 14,
   "metadata": {},
   "outputs": [],
   "source": [
    "nsa = np.asarray(d['NSAID'])\n",
    "eid = np.asarray(env1[:,0])\n",
    "ind1 = np.in1d(eid,nsa)\n",
    "ind2 = np.in1d(nsa,eid)"
   ]
  },
  {
   "cell_type": "code",
   "execution_count": 15,
   "metadata": {},
   "outputs": [
    {
     "name": "stdout",
     "output_type": "stream",
     "text": [
      "75476 77307 62317 62317\n"
     ]
    }
   ],
   "source": [
    "print(len(nsa),len(eid),len(eid[ind1]),len(nsa[ind2]))"
   ]
  },
  {
   "cell_type": "code",
   "execution_count": 16,
   "metadata": {},
   "outputs": [
    {
     "name": "stdout",
     "output_type": "stream",
     "text": [
      "[ 3  8 10 12 13 14 16 20 21 23 27 28 29 31 32 33 34 35 36 37]\n",
      "[ 3  8 10 12 13 14 16 20 21 23 27 28 29 31 32 33 34 35 36 37]\n"
     ]
    }
   ],
   "source": [
    "e1 = env1[ind1]\n",
    "e2 = env2[ind1]\n",
    "e3 = env3[ind1]\n",
    "e4 = env4[ind1]\n",
    "\n",
    "nsa = nsa[ind2]\n",
    "d = d[ind2]\n",
    "\n",
    "print(eid[ind1][0:20])\n",
    "print(nsa[0:20])\n",
    "\n",
    "opt = np.asarray([d['ABSMAG'][:,1][i] - d['ABSMAG'][:,4][i] for i in range(len(d['NSAID']))])\n",
    "inf = np.asarray([d['W1MAG'][i] - d['W3MAG'][i] for i in range(len(d['NSAID']))])\n",
    "\n",
    "nn1 = np.asarray(e1[:,1])\n",
    "nn2 = np.asarray(e2[:,1])\n",
    "nn3 = np.asarray(e3[:,1])\n",
    "nn4 = np.asarray(e4[:,1])\n",
    "\n",
    "envz = np.column_stack((nsa,nn2))\n",
    "\n",
    "afile = open(r'nsa_nn0.5kd1000.pkl', 'wb')\n",
    "pickle.dump(envz, afile)\n",
    "afile.close()\n"
   ]
  },
  {
   "cell_type": "code",
   "execution_count": 20,
   "metadata": {},
   "outputs": [
    {
     "name": "stderr",
     "output_type": "stream",
     "text": [
      "/usr/local/lib/python3.6/site-packages/ipykernel_launcher.py:10: RuntimeWarning: divide by zero encountered in log10\n",
      "  # Remove the CWD from sys.path while we load stuff.\n"
     ]
    },
    {
     "data": {
      "image/png": "[encoded data removed]",
      "text/plain": [
       "<matplotlib.figure.Figure at 0x106f3bba8>"
      ]
     },
     "metadata": {},
     "output_type": "display_data"
    }
   ],
   "source": [
    "t = binned_statistic_2d(inf,opt,nn2,statistic = 'count',bins = (25,25))\n",
    "\n",
    "yedges = t[1]\n",
    "xedges = t[2]\n",
    "xbins = [0.5*(t[1][i] + t[1][i+1]) for i in range(25)]\n",
    "ybins = [0.5*(t[2][i] + t[2][i+1]) for i in range(25)]\n",
    "extent = [xbins[0], xbins[-1], ybins[0], ybins[-1]]\n",
    "\n",
    "number = np.ma.array(t[0], mask = t[0] == 0)\n",
    "number = np.log10(number)\n",
    "\n",
    "plt.pcolormesh(yedges,xedges,(np.transpose(number)),cmap = plt.cm.binary)\n",
    "plt.colorbar()\n",
    "# plt.xlim(0,0.056)\n",
    "# plt.ylim(min(gr),max(gr))\n",
    "plt.ylim(0,8.0)\n",
    "plt.xlim(-3.0,3.0)\n",
    "plt.xlabel('W1-W3')\n",
    "plt.ylabel('N-r')\n",
    "plt.show()"
   ]
  },
  {
   "cell_type": "code",
   "execution_count": 23,
   "metadata": {},
   "outputs": [
    {
     "name": "stdout",
     "output_type": "stream",
     "text": [
      "[[551   1   1   1   1]\n",
      " [524   1   1   1   1]\n",
      " [549   1   1   1   1]\n",
      " [503   4   4   4   4]\n",
      " [265   2   2   2   2]]\n",
      "[[44  2  3  7 21]\n",
      " [44  1  2  1  3]\n",
      " [45  1  1  5  5]\n",
      " [46 14 20 24 38]\n",
      " [46  5  5  8  9]]\n",
      "(441, 5)\n",
      "[[ 44.    1.5   2.5   4.   12. ]\n",
      " [ 45.    1.    1.    5.    5. ]\n",
      " [ 46.    9.5  12.5  16.   23.5]\n",
      " [ 48.    2.    3.    6.   10. ]\n",
      " [ 49.    1.    1.    3.    4. ]]\n"
     ]
    }
   ],
   "source": [
    "b = np.reshape(np.asarray(t[3]),(len(nsa),1))\n",
    "bins = np.unique(t[3])\n",
    "new = np.column_stack((b,nn1,nn2,nn3,nn4))\n",
    "print(new[0:5])\n",
    "\n",
    "indie = [np.where(new[:,0]==bins[i]) for i in range(len(bins))]\n",
    "binsid = [nsa[indie[i]] for i in range(len(bins))]\n",
    "\n",
    "new = new[new[:,0].argsort()]\n",
    "n1 = [np.where(new[:,0] == bins[i]) for i in range(len(bins))]\n",
    "print(new[0:5])\n",
    "new1 =  np.array([np.mean(new[n1[i]], axis = 0) for i in range(len(bins))])\n",
    "print(np.shape(new1))\n",
    "print(new1[0:5])\n"
   ]
  },
  {
   "cell_type": "code",
   "execution_count": 26,
   "metadata": {},
   "outputs": [],
   "source": [
    "binned_nsa = np.asarray([nsa[n1[i]] for i in range(len(bins))])\n",
    "counts = np.asarray([len(binned_nsa[i]) for i in range(len(bins))])\n",
    "ind = [np.where(counts>5.0)[0]]"
   ]
  },
  {
   "cell_type": "code",
   "execution_count": null,
   "metadata": {},
   "outputs": [],
   "source": []
  },
  {
   "cell_type": "code",
   "execution_count": 25,
   "metadata": {},
   "outputs": [
    {
     "ename": "ValueError",
     "evalue": "c of shape (441,) not acceptable as a color sequence for x with size 467, y with size 467",
     "output_type": "error",
     "traceback": [
      "\u001b[0;31m---------------------------------------------------------------------------\u001b[0m",
      "\u001b[0;31mKeyError\u001b[0m                                  Traceback (most recent call last)",
      "\u001b[0;32m/usr/local/lib/python3.6/site-packages/matplotlib/colors.py\u001b[0m in \u001b[0;36mto_rgba\u001b[0;34m(c, alpha)\u001b[0m\n\u001b[1;32m    131\u001b[0m     \u001b[0;32mtry\u001b[0m\u001b[0;34m:\u001b[0m\u001b[0;34m\u001b[0m\u001b[0m\n\u001b[0;32m--> 132\u001b[0;31m         \u001b[0mrgba\u001b[0m \u001b[0;34m=\u001b[0m \u001b[0m_colors_full_map\u001b[0m\u001b[0;34m.\u001b[0m\u001b[0mcache\u001b[0m\u001b[0;34m[\u001b[0m\u001b[0mc\u001b[0m\u001b[0;34m,\u001b[0m \u001b[0malpha\u001b[0m\u001b[0;34m]\u001b[0m\u001b[0;34m\u001b[0m\u001b[0m\n\u001b[0m\u001b[1;32m    133\u001b[0m     \u001b[0;32mexcept\u001b[0m \u001b[0;34m(\u001b[0m\u001b[0mKeyError\u001b[0m\u001b[0;34m,\u001b[0m \u001b[0mTypeError\u001b[0m\u001b[0;34m)\u001b[0m\u001b[0;34m:\u001b[0m  \u001b[0;31m# Not in cache, or unhashable.\u001b[0m\u001b[0;34m\u001b[0m\u001b[0m\n",
      "\u001b[0;31mKeyError\u001b[0m: (0.3010299956639812, None)",
      "\nDuring handling of the above exception, another exception occurred:\n",
      "\u001b[0;31mValueError\u001b[0m                                Traceback (most recent call last)",
      "\u001b[0;32m/usr/local/lib/python3.6/site-packages/matplotlib/axes/_axes.py\u001b[0m in \u001b[0;36mscatter\u001b[0;34m(self, x, y, s, c, marker, cmap, norm, vmin, vmax, alpha, linewidths, verts, edgecolors, **kwargs)\u001b[0m\n\u001b[1;32m   4049\u001b[0m                 \u001b[0;31m# must be acceptable as PathCollection facecolors\u001b[0m\u001b[0;34m\u001b[0m\u001b[0;34m\u001b[0m\u001b[0m\n\u001b[0;32m-> 4050\u001b[0;31m                 \u001b[0mcolors\u001b[0m \u001b[0;34m=\u001b[0m \u001b[0mmcolors\u001b[0m\u001b[0;34m.\u001b[0m\u001b[0mto_rgba_array\u001b[0m\u001b[0;34m(\u001b[0m\u001b[0mc\u001b[0m\u001b[0;34m)\u001b[0m\u001b[0;34m\u001b[0m\u001b[0m\n\u001b[0m\u001b[1;32m   4051\u001b[0m             \u001b[0;32mexcept\u001b[0m \u001b[0mValueError\u001b[0m\u001b[0;34m:\u001b[0m\u001b[0;34m\u001b[0m\u001b[0m\n",
      "\u001b[0;32m/usr/local/lib/python3.6/site-packages/matplotlib/colors.py\u001b[0m in \u001b[0;36mto_rgba_array\u001b[0;34m(c, alpha)\u001b[0m\n\u001b[1;32m    232\u001b[0m     \u001b[0;32mfor\u001b[0m \u001b[0mi\u001b[0m\u001b[0;34m,\u001b[0m \u001b[0mcc\u001b[0m \u001b[0;32min\u001b[0m \u001b[0menumerate\u001b[0m\u001b[0;34m(\u001b[0m\u001b[0mc\u001b[0m\u001b[0;34m)\u001b[0m\u001b[0;34m:\u001b[0m\u001b[0;34m\u001b[0m\u001b[0m\n\u001b[0;32m--> 233\u001b[0;31m         \u001b[0mresult\u001b[0m\u001b[0;34m[\u001b[0m\u001b[0mi\u001b[0m\u001b[0;34m]\u001b[0m \u001b[0;34m=\u001b[0m \u001b[0mto_rgba\u001b[0m\u001b[0;34m(\u001b[0m\u001b[0mcc\u001b[0m\u001b[0;34m,\u001b[0m \u001b[0malpha\u001b[0m\u001b[0;34m)\u001b[0m\u001b[0;34m\u001b[0m\u001b[0m\n\u001b[0m\u001b[1;32m    234\u001b[0m     \u001b[0;32mreturn\u001b[0m \u001b[0mresult\u001b[0m\u001b[0;34m\u001b[0m\u001b[0m\n",
      "\u001b[0;32m/usr/local/lib/python3.6/site-packages/matplotlib/colors.py\u001b[0m in \u001b[0;36mto_rgba\u001b[0;34m(c, alpha)\u001b[0m\n\u001b[1;32m    133\u001b[0m     \u001b[0;32mexcept\u001b[0m \u001b[0;34m(\u001b[0m\u001b[0mKeyError\u001b[0m\u001b[0;34m,\u001b[0m \u001b[0mTypeError\u001b[0m\u001b[0;34m)\u001b[0m\u001b[0;34m:\u001b[0m  \u001b[0;31m# Not in cache, or unhashable.\u001b[0m\u001b[0;34m\u001b[0m\u001b[0m\n\u001b[0;32m--> 134\u001b[0;31m         \u001b[0mrgba\u001b[0m \u001b[0;34m=\u001b[0m \u001b[0m_to_rgba_no_colorcycle\u001b[0m\u001b[0;34m(\u001b[0m\u001b[0mc\u001b[0m\u001b[0;34m,\u001b[0m \u001b[0malpha\u001b[0m\u001b[0;34m)\u001b[0m\u001b[0;34m\u001b[0m\u001b[0m\n\u001b[0m\u001b[1;32m    135\u001b[0m         \u001b[0;32mtry\u001b[0m\u001b[0;34m:\u001b[0m\u001b[0;34m\u001b[0m\u001b[0m\n",
      "\u001b[0;32m/usr/local/lib/python3.6/site-packages/matplotlib/colors.py\u001b[0m in \u001b[0;36m_to_rgba_no_colorcycle\u001b[0;34m(c, alpha)\u001b[0m\n\u001b[1;32m    184\u001b[0m         \u001b[0;31m# Test dimensionality to reject single floats.\u001b[0m\u001b[0;34m\u001b[0m\u001b[0;34m\u001b[0m\u001b[0m\n\u001b[0;32m--> 185\u001b[0;31m         \u001b[0;32mraise\u001b[0m \u001b[0mValueError\u001b[0m\u001b[0;34m(\u001b[0m\u001b[0;34m\"Invalid RGBA argument: {!r}\"\u001b[0m\u001b[0;34m.\u001b[0m\u001b[0mformat\u001b[0m\u001b[0;34m(\u001b[0m\u001b[0morig_c\u001b[0m\u001b[0;34m)\u001b[0m\u001b[0;34m)\u001b[0m\u001b[0;34m\u001b[0m\u001b[0m\n\u001b[0m\u001b[1;32m    186\u001b[0m     \u001b[0;31m# Return a tuple to prevent the cached value from being modified.\u001b[0m\u001b[0;34m\u001b[0m\u001b[0;34m\u001b[0m\u001b[0m\n",
      "\u001b[0;31mValueError\u001b[0m: Invalid RGBA argument: 0.3010299956639812",
      "\nDuring handling of the above exception, another exception occurred:\n",
      "\u001b[0;31mValueError\u001b[0m                                Traceback (most recent call last)",
      "\u001b[0;32m<ipython-input-25-58261040dd8f>\u001b[0m in \u001b[0;36m<module>\u001b[0;34m()\u001b[0m\n\u001b[0;32m----> 1\u001b[0;31m \u001b[0mplt\u001b[0m\u001b[0;34m.\u001b[0m\u001b[0mscatter\u001b[0m\u001b[0;34m(\u001b[0m\u001b[0minfbin\u001b[0m\u001b[0;34m,\u001b[0m\u001b[0moptbin\u001b[0m\u001b[0;34m,\u001b[0m\u001b[0mc\u001b[0m \u001b[0;34m=\u001b[0m \u001b[0mnp\u001b[0m\u001b[0;34m.\u001b[0m\u001b[0mlog10\u001b[0m\u001b[0;34m(\u001b[0m\u001b[0mcounts\u001b[0m\u001b[0;34m)\u001b[0m\u001b[0;34m,\u001b[0m \u001b[0mcmap\u001b[0m \u001b[0;34m=\u001b[0m \u001b[0mplt\u001b[0m\u001b[0;34m.\u001b[0m\u001b[0mcm\u001b[0m\u001b[0;34m.\u001b[0m\u001b[0mgray_r\u001b[0m\u001b[0;34m)\u001b[0m\u001b[0;34m\u001b[0m\u001b[0m\n\u001b[0m\u001b[1;32m      2\u001b[0m \u001b[0mplt\u001b[0m\u001b[0;34m.\u001b[0m\u001b[0mxlabel\u001b[0m\u001b[0;34m(\u001b[0m\u001b[0;34m'[W1]-[W3]'\u001b[0m\u001b[0;34m)\u001b[0m\u001b[0;34m\u001b[0m\u001b[0m\n\u001b[1;32m      3\u001b[0m \u001b[0mplt\u001b[0m\u001b[0;34m.\u001b[0m\u001b[0mylabel\u001b[0m\u001b[0;34m(\u001b[0m\u001b[0;34m'N-r'\u001b[0m\u001b[0;34m)\u001b[0m\u001b[0;34m\u001b[0m\u001b[0m\n\u001b[1;32m      4\u001b[0m \u001b[0mplt\u001b[0m\u001b[0;34m.\u001b[0m\u001b[0mtitle\u001b[0m\u001b[0;34m(\u001b[0m\u001b[0;34m'MAGPHYS SSFR'\u001b[0m\u001b[0;34m)\u001b[0m\u001b[0;34m\u001b[0m\u001b[0m\n\u001b[1;32m      5\u001b[0m \u001b[0mplt\u001b[0m\u001b[0;34m.\u001b[0m\u001b[0mcolorbar\u001b[0m\u001b[0;34m(\u001b[0m\u001b[0;34m)\u001b[0m\u001b[0;34m\u001b[0m\u001b[0m\n",
      "\u001b[0;32m/usr/local/lib/python3.6/site-packages/matplotlib/pyplot.py\u001b[0m in \u001b[0;36mscatter\u001b[0;34m(x, y, s, c, marker, cmap, norm, vmin, vmax, alpha, linewidths, verts, edgecolors, hold, data, **kwargs)\u001b[0m\n\u001b[1;32m   3355\u001b[0m                          \u001b[0mvmin\u001b[0m\u001b[0;34m=\u001b[0m\u001b[0mvmin\u001b[0m\u001b[0;34m,\u001b[0m \u001b[0mvmax\u001b[0m\u001b[0;34m=\u001b[0m\u001b[0mvmax\u001b[0m\u001b[0;34m,\u001b[0m \u001b[0malpha\u001b[0m\u001b[0;34m=\u001b[0m\u001b[0malpha\u001b[0m\u001b[0;34m,\u001b[0m\u001b[0;34m\u001b[0m\u001b[0m\n\u001b[1;32m   3356\u001b[0m                          \u001b[0mlinewidths\u001b[0m\u001b[0;34m=\u001b[0m\u001b[0mlinewidths\u001b[0m\u001b[0;34m,\u001b[0m \u001b[0mverts\u001b[0m\u001b[0;34m=\u001b[0m\u001b[0mverts\u001b[0m\u001b[0;34m,\u001b[0m\u001b[0;34m\u001b[0m\u001b[0m\n\u001b[0;32m-> 3357\u001b[0;31m                          edgecolors=edgecolors, data=data, **kwargs)\n\u001b[0m\u001b[1;32m   3358\u001b[0m     \u001b[0;32mfinally\u001b[0m\u001b[0;34m:\u001b[0m\u001b[0;34m\u001b[0m\u001b[0m\n\u001b[1;32m   3359\u001b[0m         \u001b[0max\u001b[0m\u001b[0;34m.\u001b[0m\u001b[0m_hold\u001b[0m \u001b[0;34m=\u001b[0m \u001b[0mwashold\u001b[0m\u001b[0;34m\u001b[0m\u001b[0m\n",
      "\u001b[0;32m/usr/local/lib/python3.6/site-packages/matplotlib/__init__.py\u001b[0m in \u001b[0;36minner\u001b[0;34m(ax, *args, **kwargs)\u001b[0m\n\u001b[1;32m   1708\u001b[0m                     warnings.warn(msg % (label_namer, func.__name__),\n\u001b[1;32m   1709\u001b[0m                                   RuntimeWarning, stacklevel=2)\n\u001b[0;32m-> 1710\u001b[0;31m             \u001b[0;32mreturn\u001b[0m \u001b[0mfunc\u001b[0m\u001b[0;34m(\u001b[0m\u001b[0max\u001b[0m\u001b[0;34m,\u001b[0m \u001b[0;34m*\u001b[0m\u001b[0margs\u001b[0m\u001b[0;34m,\u001b[0m \u001b[0;34m**\u001b[0m\u001b[0mkwargs\u001b[0m\u001b[0;34m)\u001b[0m\u001b[0;34m\u001b[0m\u001b[0m\n\u001b[0m\u001b[1;32m   1711\u001b[0m         \u001b[0mpre_doc\u001b[0m \u001b[0;34m=\u001b[0m \u001b[0minner\u001b[0m\u001b[0;34m.\u001b[0m\u001b[0m__doc__\u001b[0m\u001b[0;34m\u001b[0m\u001b[0m\n\u001b[1;32m   1712\u001b[0m         \u001b[0;32mif\u001b[0m \u001b[0mpre_doc\u001b[0m \u001b[0;32mis\u001b[0m \u001b[0;32mNone\u001b[0m\u001b[0;34m:\u001b[0m\u001b[0;34m\u001b[0m\u001b[0m\n",
      "\u001b[0;32m/usr/local/lib/python3.6/site-packages/matplotlib/axes/_axes.py\u001b[0m in \u001b[0;36mscatter\u001b[0;34m(self, x, y, s, c, marker, cmap, norm, vmin, vmax, alpha, linewidths, verts, edgecolors, **kwargs)\u001b[0m\n\u001b[1;32m   4053\u001b[0m                 msg = (\"c of shape {0} not acceptable as a color sequence \"\n\u001b[1;32m   4054\u001b[0m                        \"for x with size {1}, y with size {2}\")\n\u001b[0;32m-> 4055\u001b[0;31m                 \u001b[0;32mraise\u001b[0m \u001b[0mValueError\u001b[0m\u001b[0;34m(\u001b[0m\u001b[0mmsg\u001b[0m\u001b[0;34m.\u001b[0m\u001b[0mformat\u001b[0m\u001b[0;34m(\u001b[0m\u001b[0mc\u001b[0m\u001b[0;34m.\u001b[0m\u001b[0mshape\u001b[0m\u001b[0;34m,\u001b[0m \u001b[0mx\u001b[0m\u001b[0;34m.\u001b[0m\u001b[0msize\u001b[0m\u001b[0;34m,\u001b[0m \u001b[0my\u001b[0m\u001b[0;34m.\u001b[0m\u001b[0msize\u001b[0m\u001b[0;34m)\u001b[0m\u001b[0;34m)\u001b[0m\u001b[0;34m\u001b[0m\u001b[0m\n\u001b[0m\u001b[1;32m   4056\u001b[0m         \u001b[0;32melse\u001b[0m\u001b[0;34m:\u001b[0m\u001b[0;34m\u001b[0m\u001b[0m\n\u001b[1;32m   4057\u001b[0m             \u001b[0mcolors\u001b[0m \u001b[0;34m=\u001b[0m \u001b[0;32mNone\u001b[0m  \u001b[0;31m# use cmap, norm after collection is created\u001b[0m\u001b[0;34m\u001b[0m\u001b[0m\n",
      "\u001b[0;31mValueError\u001b[0m: c of shape (441,) not acceptable as a color sequence for x with size 467, y with size 467"
     ]
    }
   ],
   "source": [
    "plt.scatter(infbin,optbin,c = np.log10(counts), cmap = plt.cm.gray_r)\n",
    "plt.xlabel('[W1]-[W3]')\n",
    "plt.ylabel('N-r')\n",
    "plt.title('MAGPHYS SSFR')\n",
    "plt.colorbar()\n",
    "plt.show()"
   ]
  },
  {
   "cell_type": "code",
   "execution_count": null,
   "metadata": {},
   "outputs": [],
   "source": [
    "print uv[np.where(uv>=-8.0)[0]]"
   ]
  },
  {
   "cell_type": "code",
   "execution_count": null,
   "metadata": {},
   "outputs": [],
   "source": [
    "plt.scatter(infbin,optbin,c = uv, cmap = plt.cm.jet_r)\n",
    "plt.xlabel('[W1]-[W3]')\n",
    "plt.ylabel('N-r')\n",
    "plt.title('UV SSFR')\n",
    "plt.colorbar()\n",
    "plt.show()"
   ]
  },
  {
   "cell_type": "code",
   "execution_count": null,
   "metadata": {},
   "outputs": [],
   "source": [
    "logenv = np.log10(new1[:,2])\n",
    "plt.scatter(mag[ind],uv[ind],c = logenv[ind],s = 10, cmap = plt.cm.jet)\n",
    "plt.colorbar()\n",
    "plt.show()\n",
    "\n",
    "res = np.asarray([mag[i]-uv[i] for i in range(len(uv))])\n",
    "\n",
    "plt.scatter(res,logenv, s = 0.5)\n",
    "plt.show()\n",
    "\n",
    "plt.scatter(infbin[ind],optbin[ind],c = res[ind],s = 10, cmap = plt.cm.jet)\n",
    "plt.colorbar()\n",
    "plt.show()"
   ]
  },
  {
   "cell_type": "code",
   "execution_count": null,
   "metadata": {},
   "outputs": [],
   "source": [
    "h = binned_statistic_2d(inf,opt,nn4,statistic = 'mean',bins = (25,25))\n",
    "\n",
    "yedges = h[1]\n",
    "xedges = h[2]\n",
    "xbins = [0.5*(h[1][i] + h[1][i+1]) for i in range(25)]\n",
    "ybins = [0.5*(h[2][i] + h[2][i+1]) for i in range(25)]\n",
    "extent = [xbins[0], xbins[-1], ybins[0], ybins[-1]]\n",
    "#number = np.ma.array(h[0], mask = h[0] == 0)\n",
    "#number = np.log10(number)\n",
    "#print number\n",
    "en = np.ma.masked_invalid(h[0])\n",
    "en = np.ma.array(en, mask = t[0] <= 5)\n",
    "en = np.log10(en)\n",
    "\n",
    "plt.pcolormesh(yedges,xedges,(np.transpose(en)),cmap = plt.cm.jet)\n",
    "plt.colorbar()\n",
    "# plt.xlim(0,0.056)\n",
    "# plt.ylim(min(gr),max(gr))\n",
    "plt.ylim(0,8.0)\n",
    "plt.xlim(-3.0,3.0)\n",
    "plt.xlabel('W1-W3')\n",
    "plt.ylabel('N-r')\n",
    "plt.show()"
   ]
  },
  {
   "cell_type": "code",
   "execution_count": null,
   "metadata": {},
   "outputs": [],
   "source": [
    "h = binned_statistic_2d(inf,opt,nn1,statistic = 'count',bins = (25,25))\n",
    "\n",
    "yedges = h[1]\n",
    "xedges = h[2]\n",
    "xbins = [0.5*(h[1][i] + h[1][i+1]) for i in range(25)]\n",
    "ybins = [0.5*(h[2][i] + h[2][i+1]) for i in range(25)]\n",
    "extent = [xbins[0], xbins[-1], ybins[0], ybins[-1]]\n",
    "\n",
    "number = np.ma.array(h[0], mask = h[0] == 0)\n",
    "number = np.log10(number)\n",
    "\n",
    "plt.pcolormesh(yedges,xedges,(np.transpose(number)),cmap = plt.cm.binary)\n",
    "plt.colorbar()\n",
    "# plt.xlim(0,0.056)\n",
    "# plt.ylim(min(gr),max(gr))\n",
    "plt.ylim(0,8.0)\n",
    "plt.xlim(-3.5,3.5)\n",
    "plt.xlabel('[W1]-[W3]')\n",
    "plt.ylabel('N-r')\n",
    "plt.show()"
   ]
  },
  {
   "cell_type": "code",
   "execution_count": null,
   "metadata": {},
   "outputs": [],
   "source": [
    "x = np.array(zip(bins,infbin,optbin,mag,uv,new1[:,1],new1[:,2],new1[:,3],new1[:,4],counts), dtype=[('bins', 'f16'),('inf', 'f16'), ('opt', 'f16'),('mag', 'f16'),('uv', 'f16'),('0.5nn500', 'f16'),('0.5nn1000', 'f16'),('1.0nn500', 'f16'),('1.0nn1000', 'f16'),('counts', 'f16')])"
   ]
  },
  {
   "cell_type": "code",
   "execution_count": null,
   "metadata": {},
   "outputs": [],
   "source": [
    "x.dtype.names"
   ]
  },
  {
   "cell_type": "code",
   "execution_count": null,
   "metadata": {
    "collapsed": true
   },
   "outputs": [],
   "source": [
    "# afile = open(r'binned_data', 'wb')\n",
    "# pickle.dump(x, afile)\n",
    "# afile.close()"
   ]
  },
  {
   "cell_type": "code",
   "execution_count": 34,
   "metadata": {
    "collapsed": true
   },
   "outputs": [],
   "source": [
    "stuff = np.column_stack((bins,binsid))\n",
    "afile = open(r'bins_nsaid.pkl', 'wb')\n",
    "pickle.dump(stuff, afile)\n",
    "afile.close()"
   ]
  },
  {
   "cell_type": "code",
   "execution_count": 17,
   "metadata": {},
   "outputs": [
    {
     "ename": "NameError",
     "evalue": "name 'logenv' is not defined",
     "output_type": "error",
     "traceback": [
      "\u001b[0;31m---------------------------------------------------------------------------\u001b[0m",
      "\u001b[0;31mNameError\u001b[0m                                 Traceback (most recent call last)",
      "\u001b[0;32m<ipython-input-17-9cd8870b8ef2>\u001b[0m in \u001b[0;36m<module>\u001b[0;34m()\u001b[0m\n\u001b[1;32m     12\u001b[0m \u001b[0max1\u001b[0m\u001b[0;34m.\u001b[0m\u001b[0mxaxis\u001b[0m\u001b[0;34m.\u001b[0m\u001b[0mset_ticklabels\u001b[0m\u001b[0;34m(\u001b[0m\u001b[0;34m[\u001b[0m\u001b[0;34m]\u001b[0m\u001b[0;34m)\u001b[0m\u001b[0;34m\u001b[0m\u001b[0m\n\u001b[1;32m     13\u001b[0m \u001b[0;34m\u001b[0m\u001b[0m\n\u001b[0;32m---> 14\u001b[0;31m \u001b[0mcs2\u001b[0m \u001b[0;34m=\u001b[0m \u001b[0max2\u001b[0m\u001b[0;34m.\u001b[0m\u001b[0mscatter\u001b[0m\u001b[0;34m(\u001b[0m\u001b[0minfbin\u001b[0m\u001b[0;34m,\u001b[0m\u001b[0moptbin\u001b[0m\u001b[0;34m,\u001b[0m\u001b[0mc\u001b[0m \u001b[0;34m=\u001b[0m \u001b[0mlogenv\u001b[0m\u001b[0;34m,\u001b[0m \u001b[0mcmap\u001b[0m \u001b[0;34m=\u001b[0m \u001b[0mplt\u001b[0m\u001b[0;34m.\u001b[0m\u001b[0mcm\u001b[0m\u001b[0;34m.\u001b[0m\u001b[0mjet\u001b[0m\u001b[0;34m)\u001b[0m\u001b[0;34m\u001b[0m\u001b[0m\n\u001b[0m\u001b[1;32m     15\u001b[0m \u001b[0;31m# ax2.set_xlim(-4.0,4.0)\u001b[0m\u001b[0;34m\u001b[0m\u001b[0;34m\u001b[0m\u001b[0m\n\u001b[1;32m     16\u001b[0m \u001b[0;31m# ax2.set_ylim(0,8.0)\u001b[0m\u001b[0;34m\u001b[0m\u001b[0;34m\u001b[0m\u001b[0m\n",
      "\u001b[0;31mNameError\u001b[0m: name 'logenv' is not defined"
     ]
    }
   ],
   "source": [
    "f = plt.figure(figsize=(8,8)) # Notice the equal aspect ratio\n",
    "ax = [f.add_subplot(2,2,i+1) for i in range(4)]\n",
    "f.subplots_adjust(wspace=0, hspace = 0)\n",
    "ax1 = ax[0]\n",
    "ax2 = ax[1]\n",
    "ax3 = ax[2]\n",
    "ax4 = ax[3]\n",
    "\n",
    "cs1 = ax1.scatter(infbin,optbin,c = np.log10(counts), cmap = plt.cm.gray_r)\n",
    "# ax1.set_xlim(-4.0,4.0)\n",
    "# ax1.set_ylim(0,8.0)\n",
    "ax1.xaxis.set_ticklabels([])\n",
    "\n",
    "cs2 = ax2.scatter(infbin,optbin,c = logenv, cmap = plt.cm.jet)\n",
    "# ax2.set_xlim(-4.0,4.0)\n",
    "# ax2.set_ylim(0,8.0)\n",
    "ax2.xaxis.set_ticklabels([])\n",
    "\n",
    "cs3 = ax3.scatter(infbin,optbin,c = mag, cmap = plt.cm.jet_r)\n",
    "# ax3.set_xlim(-4.0,4.0)\n",
    "# ax3.set_ylim(0,8.0)\n",
    "ax3.xaxis.set_ticklabels([])\n",
    "\n",
    "cs4 = ax4.scatter(infbin,optbin,c = uv, cmap = plt.cm.jet_r)\n",
    "# ax4.set_xlim(-4.0,4.0)\n",
    "# ax4.set_ylim(0,8.0)\n",
    "ax4.xaxis.set_ticklabels([])\n",
    "\n",
    "\n",
    "f.text(0.495, 0.06, '[W1] - [W3]', ha='center', va='center', fontsize = 18)\n",
    "f.text(0.06, 0.5, 'N-r', ha='center', va='center', rotation='vertical', fontsize = 18)\n",
    "f.text(0.09, 0.75, 'Number', ha='center', va='center', rotation=90, fontsize = 14)\n",
    "f.text(0.99, 0.75, 'Environment', ha='center', va='center', rotation=270, fontsize = 14)\n",
    "f.text(0.09, 0.25, 'MAGPHYS', ha='center', va='center', rotation=90, fontsize = 14)\n",
    "f.text(0.99, 0.25, 'UV', ha='center', va='center', rotation=270, fontsize = 14)\n",
    "\n",
    "\n",
    "cbar_ax1 = f.add_axes([0.14, 0.91, 0.33, 0.015])\n",
    "cb1 = f.colorbar(cs1,orientation = 'horizontal', cax=cbar_ax1)\n",
    "cb1.ax.tick_params(labelsize=7)\n",
    "#cb1.ax.xaxis.set_ticks([0,0.5,1.0,1.5,2.0,2.5,3.0])\n",
    "\n",
    "cb1.ax.xaxis.set_ticks_position('top')\n",
    "cbar_ax2 = f.add_axes([0.56, 0.91, 0.33, 0.015])\n",
    "cb2 = f.colorbar(cs2,orientation = 'horizontal', cax=cbar_ax2)\n",
    "cb2.ax.xaxis.set_ticks_position('top')\n",
    "cb2.ax.tick_params(labelsize=7)\n",
    "cbar_ax3 = f.add_axes([0.14, 0.02, 0.33, 0.015])\n",
    "cb3 = f.colorbar(cs3,orientation = 'horizontal', cax=cbar_ax3)\n",
    "cb3.ax.tick_params(labelsize=7)\n",
    "cbar_ax4 = f.add_axes([0.56, 0.02, 0.33, 0.015])\n",
    "cb4 = f.colorbar(cs4,orientation = 'horizontal', cax=cbar_ax4)\n",
    "cb4.ax.tick_params(labelsize=7)\n",
    "#plt.tight_layout()\n",
    "#f.subplots_adjust(wspace=0, hspace=0)\n",
    "plt.show()"
   ]
  },
  {
   "cell_type": "code",
   "execution_count": null,
   "metadata": {
    "collapsed": true
   },
   "outputs": [],
   "source": []
  }
 ],
 "metadata": {
  "kernelspec": {
   "display_name": "Python 3",
   "language": "python",
   "name": "python3"
  },
  "language_info": {
   "codemirror_mode": {
    "name": "ipython",
    "version": 3
   },
   "file_extension": ".py",
   "mimetype": "text/x-python",
   "name": "python",
   "nbconvert_exporter": "python",
   "pygments_lexer": "ipython3",
   "version": "3.6.3"
  }
 },
 "nbformat": 4,
 "nbformat_minor": 2
}
