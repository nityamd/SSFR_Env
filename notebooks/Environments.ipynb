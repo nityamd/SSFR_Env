{
 "cells": [
  {
   "cell_type": "code",
   "execution_count": 2,
   "metadata": {},
   "outputs": [
    {
     "name": "stdout",
     "output_type": "stream",
     "text": [
      "/Users/nitya/Work/Data/Project1/measurements\n"
     ]
    }
   ],
   "source": [
    "import numpy as np\n",
    "import pyfits\n",
    "import sys\n",
    "import scipy as sp\n",
    "import scipy.spatial as ss\n",
    "import math\n",
    "import astropy as ap\n",
    "from astropy.cosmology import WMAP7\n",
    "from random import sample\n",
    "import math\n",
    "import pickle\n",
    "import matplotlib.pyplot as plt\n",
    "import os\n",
    "\n",
    "os.chdir('/Users/nitya/Work/Data/Project1/measurements')\n",
    "print(os.getcwd())\n"
   ]
  },
  {
   "cell_type": "code",
   "execution_count": 3,
   "metadata": {},
   "outputs": [
    {
     "name": "stdout",
     "output_type": "stream",
     "text": [
      "(78174,)\n"
     ]
    }
   ],
   "source": [
    "# d = np.loadtxt('edp')\n",
    "# np.shape(d)\n",
    "\n",
    "\n",
    "file = open(r'ETP.pkl','rb')\n",
    "d = pickle.load(file, encoding ='latin1')\n",
    "file.close()\n",
    "\n",
    "print(np.shape(d))"
   ]
  },
  {
   "cell_type": "code",
   "execution_count": 3,
   "metadata": {},
   "outputs": [],
   "source": [
    "nsaid = np.asarray(d['NSAID'])\n",
    "z = np.asarray(d['Z'])\n",
    "ra = np.asarray(d['RA'])\n",
    "dec = np.asarray(d['DEC'])"
   ]
  },
  {
   "cell_type": "code",
   "execution_count": 4,
   "metadata": {},
   "outputs": [],
   "source": [
    "# x = np.asarray([comdis[i]*(math.cos(math.radians(dec[i])))*(math.cos(math.radians(ra[i])))for i in range(len(z))])\n",
    "# y = np.asarray([(comdis[i])*(math.cos(math.radians(dec[i])))*(math.sin(math.radians(ra[i]))) for i in range(len(z))])\n",
    "# zed = np.asarray([(comdis[i])*(math.sin(math.radians(dec[i]))) for i in range(len(z))])"
   ]
  },
  {
   "cell_type": "code",
   "execution_count": 5,
   "metadata": {},
   "outputs": [],
   "source": [
    "def coords(ra,dec,z):\n",
    "        dist = np.array([WMAP7.comoving_distance(z[i]).value for i in range(len(z))])\n",
    "        \n",
    "        x = dist*np.cos(dec*np.pi/180.0)*np.cos(ra*np.pi/180.0)\n",
    "        y = dist*np.cos(dec*np.pi/180.0)*np.sin(ra*np.pi/180.0)\n",
    "        zed = dist*np.sin(dec*np.pi/180.0)\n",
    "        return x,y,zed\n",
    "b = coords(ra,dec,z)\n",
    "x, y, zed = coords(ra,dec,z)"
   ]
  },
  {
   "cell_type": "code",
   "execution_count": 6,
   "metadata": {},
   "outputs": [],
   "source": [
    "points = np.column_stack((x,y,zed))\n",
    "tree = ss.KDTree(points)\n"
   ]
  },
  {
   "cell_type": "code",
   "execution_count": 7,
   "metadata": {},
   "outputs": [],
   "source": [
    "#window aperture: ap: 0.5,1.0 Mpc; window size: w: +/- 500 km/s, 1000 km/s\n",
    "ap = 0.5\n",
    "w = 1000\n",
    "\n",
    "#But first we construct\n",
    "s = ((ap)**2.0 + (w/70.0)**2.0)**0.5\n",
    "ns = tree.query_ball_point(points,s)\n"
   ]
  },
  {
   "cell_type": "code",
   "execution_count": 8,
   "metadata": {},
   "outputs": [
    {
     "name": "stdout",
     "output_type": "stream",
     "text": [
      "78174 78174 14.29446160766684\n"
     ]
    }
   ],
   "source": [
    "\n",
    "#Now, to get the number of neighbors within my projected cylinder:\n",
    "nc = []\n",
    "#neighbors that survive...\n",
    "nei = []\n",
    "for i in range(len(points)):\n",
    "    count = 0\n",
    "    surv = []\n",
    "    for j in range(len(ns[i])):\n",
    "        g =(np.sin(dec[i]*np.pi/180.0))*(np.sin(dec[ns[i][j]]*np.pi/180.0))\n",
    "        p =(np.cos(dec[i]*np.pi/180.0))*(np.cos(dec[ns[i][j]]*np.pi/180.0))*(np.cos((ra[i] - ra[ns[i][j]])*np.pi/180.0))\n",
    "        ang_sep = g+p\n",
    "        d_transverse = (300000.0/70.0)*(z[i]+z[ns[i][j]])*((abs((1 -ang_sep)/2.0))**0.5)\n",
    "        d_los =  (300000.0)* abs(z[i] - z[ns[i][j]])\n",
    "        if d_transverse <= ap and d_los <= w:\n",
    "           count = count+1\n",
    "           surv.append(nsaid[ns[i][j]])\n",
    "    nc.append(count)\n",
    "    nei.append(surv)\n",
    "\n",
    "print(len(nc), len(ns), s)"
   ]
  },
  {
   "cell_type": "code",
   "execution_count": 9,
   "metadata": {},
   "outputs": [],
   "source": [
    "\n",
    "stuff = np.column_stack((nsaid, nc))\n",
    "afile = open(r'nsaid_env.pkl', 'wb')\n",
    "pickle.dump(stuff, afile)\n",
    "afile.close()\n",
    "\n",
    "stuff1 = np.column_stack((nsaid,nei))\n",
    "afile = open(r'nsaid_neighbors.pkl', 'wb')\n",
    "pickle.dump(stuff1, afile)\n",
    "afile.close()"
   ]
  },
  {
   "cell_type": "code",
   "execution_count": 17,
   "metadata": {},
   "outputs": [],
   "source": [
    "\n",
    "# n = 3\n",
    "# neighbours = tree.query(points,k = n+1)\n",
    "# #The distance to the nth neighbour\n",
    "# dist = neighbours[0][:,n]\n",
    "# #The projected distances: Let's first get the index of the n'th neighbour\n",
    "# n_index = neighbours[1][:,n]\n",
    "# print(len(dist), dist[0:10])\n",
    "# stuff2 = np.column_stack((nsaid,dist))\n",
    "# afile = open(r'd3_neighbor.pkl', 'wb')\n",
    "# pickle.dump(stuff2, afile)\n",
    "# afile.close()"
   ]
  },
  {
   "cell_type": "code",
   "execution_count": 18,
   "metadata": {},
   "outputs": [],
   "source": [
    "\n",
    "# dist_proj = []\n",
    "\n",
    "# for i in range(len(z)):\n",
    "#     g =(np.sin(dec[i]*np.pi/180.0))*(np.sin(dec[n_index[i]]*np.pi/180.0))\n",
    "#     p =(np.cos(dec[i]*np.pi/180.0))*(np.cos(dec[n_index[i]]*np.pi/180.0))*(np.cos((ra[i] - ra[n_index[i]])*np.pi/180.0))\n",
    "#     ang_sep = g+p\n",
    "#     d_transverse = (300000.0/70.0)*(z[i]+z[n_index[i]])*((abs((1 -ang_sep)/2.0))**0.5)\n",
    "#     d_los =  (300000.0)* abs(z[i] - z[n_index[i]])\n",
    "#     dist_proj.append(d_transverse)\n",
    "    \n",
    "# stuff3 = np.column_stack((nsaid,dist_proj))\n",
    "# afile = open(r'dp3_neighbor.pkl', 'wb')\n",
    "# pickle.dump(stuff3, afile)\n",
    "# afile.close()\n",
    "\n"
   ]
  },
  {
   "cell_type": "code",
   "execution_count": null,
   "metadata": {},
   "outputs": [],
   "source": []
  }
 ],
 "metadata": {
  "kernelspec": {
   "display_name": "Python 3",
   "language": "python",
   "name": "python3"
  },
  "language_info": {
   "codemirror_mode": {
    "name": "ipython",
    "version": 3
   },
   "file_extension": ".py",
   "mimetype": "text/x-python",
   "name": "python",
   "nbconvert_exporter": "python",
   "pygments_lexer": "ipython3",
   "version": "3.6.5"
  }
 },
 "nbformat": 4,
 "nbformat_minor": 2
}
