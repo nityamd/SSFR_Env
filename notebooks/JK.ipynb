{
 "cells": [
  {
   "cell_type": "code",
   "execution_count": 23,
   "metadata": {},
   "outputs": [],
   "source": [
    "import numpy as np\n",
    "import pyfits\n",
    "import math\n",
    "from math import log10\n",
    "import matplotlib.pyplot as plt\n",
    "import scipy\n",
    "from scipy.stats import binned_statistic\n",
    "from scipy.stats import binned_statistic_2d\n",
    "from matplotlib import rc\n",
    "import pickle\n",
    "import os\n",
    "import astropy as ap\n",
    "from astropy.cosmology import WMAP7\n",
    "from scipy import interpolate\n",
    "import corner\n",
    "import matplotlib.patheffects as patheffects\n",
    "from matplotlib import rcParams\n",
    "\n",
    "# rcParams[\"font.size\"] = 16\n",
    "rcParams[\"font.family\"] = \"sans-serif\"\n",
    "rcParams[\"font.sans-serif\"] = [\"Computer Modern Sans\"]\n",
    "rcParams[\"text.usetex\"] = True\n",
    "#rcParams[\"text.latex.preamble\"] = r\"\\usepackage{cmbright}\"\n",
    "\n",
    "rcParams['xtick.major.pad']='10'\n",
    "rcParams['ytick.major.pad']='10'\n",
    "\n",
    "# rcParams['font.family'] = 'serif'\n",
    "# rcParams['font.serif'] = 'Ubuntu'\n",
    "# rcParams['font.monospace'] = 'Ubuntu Mono'\n",
    "rcParams['font.size'] = 15\n",
    "rcParams['axes.labelsize'] = 15\n",
    "rcParams['axes.labelweight'] = 'bold'\n",
    "rcParams['axes.titlesize'] = 17\n",
    "rcParams['xtick.labelsize'] = 13\n",
    "rcParams['ytick.labelsize'] = 13\n",
    "rcParams['legend.fontsize'] = 13\n",
    "rcParams['figure.titlesize'] = 1\n",
    "\n"
   ]
  },
  {
   "cell_type": "code",
   "execution_count": 24,
   "metadata": {},
   "outputs": [
    {
     "name": "stdout",
     "output_type": "stream",
     "text": [
      "/Users/nitya/Work/Data/Project1/edge_effects\n",
      "ColDefs(\n",
      "    name = 'XCAPS'; format = '42D'; dim = '( 3, 14)'\n",
      "    name = 'CMCAPS'; format = '14D'\n",
      "    name = 'NCAPS'; format = 'J'\n",
      "    name = 'WEIGHT'; format = 'D'\n",
      "    name = 'STR'; format = 'D'\n",
      "    name = 'USE_CAPS'; format = 'J'; bscale = 1; bzero = 2147483648\n",
      "    name = 'RA'; format = 'D'\n",
      "    name = 'DEC'; format = 'D'\n",
      "    name = 'SECTOR'; format = 'J'\n",
      "    name = 'MMAX'; format = 'E'\n",
      "    name = 'DIFFRUN'; format = 'J'\n",
      "    name = 'ITILING_GEOMETRY'; format = 'J'\n",
      "    name = 'ITARGET_GEOMETRY'; format = 'J'\n",
      "    name = 'ILSS'; format = 'J'\n",
      "    name = 'FGOTMAIN'; format = 'E'\n",
      ")\n",
      "/Users/nitya/Work/Data/Project1/measurements\n",
      "('nsaid', 'z', 'ra', 'dec', 'opt', 'inf', 'mass', 'magsfr', 'magphys', 'uv', 'uvssfr', 'env')\n"
     ]
    }
   ],
   "source": [
    "os.chdir('/Users/nitya/Work/Data/Project1/edge_effects')\n",
    "print(os.getcwd())\n",
    "\n",
    "a = pyfits.open(\"lss_combmask.dr72.fits\")\n",
    "a = a[1].data\n",
    "print(a.columns)\n",
    "\n",
    "os.chdir('/Users/nitya/Work/Data/Project1/measurements')\n",
    "print(os.getcwd())\n",
    "\n",
    "ile = open(r'interpolated_data_radec.pkl','rb')\n",
    "d = pickle.load(ile, encoding ='latin1')\n",
    "ile.close()\n",
    "print(d.dtype.names)"
   ]
  },
  {
   "cell_type": "code",
   "execution_count": 25,
   "metadata": {},
   "outputs": [
    {
     "name": "stdout",
     "output_type": "stream",
     "text": [
      "0.118444022364\n",
      "0.104399854845\n"
     ]
    }
   ],
   "source": [
    "#let's divide the MASK up into (a)region without the southern stripes (b) stripes on either side;\n",
    "ind1 = np.where(a['ra']>=100)[0]\n",
    "a1 = a[ind1]\n",
    "ind2 = np.where(a1['ra']<=270)[0]\n",
    "a1 = a1[ind2]\n",
    "ind3 = np.where(a['ra']<100)[0]\n",
    "a2 = a[ind3]\n",
    "ind4 = np.where(a['ra']>270)[0]\n",
    "a3 = a[ind4]\n",
    "\n",
    "area2 = np.sum(a2['STR'])\n",
    "print(area2)\n",
    "area3 = np.sum(a3['STR'])\n",
    "print(area3)"
   ]
  },
  {
   "cell_type": "code",
   "execution_count": 26,
   "metadata": {},
   "outputs": [
    {
     "name": "stdout",
     "output_type": "stream",
     "text": [
      "[[ 0.95543706  0.62981233]\n",
      " [ 0.35603505  0.21745488]]\n",
      "[ 109.  215.  267.]\n",
      "[ -4.  33.  71.]\n",
      "579437\n"
     ]
    },
    {
     "data": {
      "image/png": "[encoded data removed]",
      "text/plain": [
       "<matplotlib.figure.Figure at 0x11161d828>"
      ]
     },
     "metadata": {},
     "output_type": "display_data"
    },
    {
     "name": "stdout",
     "output_type": "stream",
     "text": [
      "[[ 8.06657049  5.3173838 ]\n",
      " [ 3.00593517  1.83592952]]\n",
      "0.881427806662\n"
     ]
    }
   ],
   "source": [
    "b1 = [ 109,215,267]\n",
    "b2 = [ -4,33,71]\n",
    "\n",
    "g = binned_statistic_2d(a1['ra'],a1['dec'],a1['str'], statistic = 'sum', bins = (b1,b2))\n",
    "print(g[0])\n",
    "print(g[1])\n",
    "print(g[2])\n",
    "print(len(g[3]))\n",
    "plt.scatter(a1['RA'],a1['DEC'], s = 0.01)\n",
    "for i in range(len(g[2])):\n",
    "    plt.axhline(y = g[2][i],xmin = 0.3,xmax = 0.75, linestyle = '--', color = 'k')\n",
    "for i in range(len(g[1])):\n",
    "    plt.axvline(x = g[1][i], linestyle = '--', color = 'k')\n",
    "plt.scatter(a2['RA'],a2['DEC'], s = 0.01)\n",
    "plt.scatter(a3['RA'],a3['DEC'], s = 0.01)\n",
    "plt.show()\n",
    "#here's the \"factor\" matrix for how to split up them volumes:\n",
    "res = g[0]/area2\n",
    "res2 = area3/area2\n",
    "print(res)\n",
    "print(res2)"
   ]
  },
  {
   "cell_type": "code",
   "execution_count": 27,
   "metadata": {},
   "outputs": [
    {
     "name": "stdout",
     "output_type": "stream",
     "text": [
      "61046\n",
      "55696\n",
      "3599\n",
      "1751\n",
      "[ 5  6  9 10]\n",
      "[ 5  6  9 10]\n"
     ]
    }
   ],
   "source": [
    "#so 8+5+3+2+2 = 20 jackknife regions with comoving volumes of ~ well we'll get to it;\n",
    "# Dividing up my sample with the same binning first;\n",
    "print(len(d))\n",
    "ind1, = np.where(d['ra']>=110)\n",
    "d1 = d[ind1]\n",
    "ind2, = np.where(d1['ra']<=267)\n",
    "d1 = d1[ind2]\n",
    "print(len(d1))\n",
    "ind3, = np.where(d['ra']<110)\n",
    "d2 = d[ind3]\n",
    "ind4, = np.where(d['ra']>267)\n",
    "d3 = d[ind4]\n",
    "print(len(d2))\n",
    "print(len(d3))\n",
    "\n",
    "h = binned_statistic_2d(d1['ra'],d1['dec'],d1['nsaid'], statistic = 'count', bins = (b1,b2))\n",
    "print(np.unique(h[3]))\n",
    "print(np.unique(g[3]))\n",
    "steridian = np.ravel(g[0])\n",
    "ratio = np.ravel(res)\n"
   ]
  },
  {
   "cell_type": "code",
   "execution_count": 28,
   "metadata": {},
   "outputs": [
    {
     "name": "stdout",
     "output_type": "stream",
     "text": [
      "55696\n",
      "(4,)\n",
      "(23165, 2)\n"
     ]
    }
   ],
   "source": [
    "print(len(h[3]))\n",
    "bins = np.unique(h[3])\n",
    "\n",
    "ind = [np.where(h[3]==bins[i]) for i in range(len(bins))]\n",
    "ids_z = [np.column_stack((d1['nsaid'][np.where(h[3]==bins[i])],\n",
    "                          d1['z'][np.where(h[3]==bins[i])])) for i in range(len(bins))]\n",
    "\n",
    "print(np.shape(ids_z))\n",
    "#print(array[0])\n",
    "array2 = np.column_stack((bins,steridian, ratio,ids_z))\n",
    "print(np.shape(array2[:,3][0]))\n"
   ]
  },
  {
   "cell_type": "code",
   "execution_count": 29,
   "metadata": {},
   "outputs": [
    {
     "name": "stdout",
     "output_type": "stream",
     "text": [
      "0.0550014674664 52005388.21882485\n"
     ]
    }
   ],
   "source": [
    "zmax = np.max(d['z'])\n",
    "z_array = np.linspace(0,zmax,10000)\n",
    "comvol_array = WMAP7.comoving_volume(z_array).value\n",
    "#Remember all the volumes are in Mpc^^3\n",
    "maxvol = WMAP7.comoving_volume(zmax).value\n",
    "print(zmax,maxvol)"
   ]
  },
  {
   "cell_type": "code",
   "execution_count": 30,
   "metadata": {},
   "outputs": [],
   "source": [
    "#now to break up them volumes...\n",
    "\n",
    "def get_index(n):\n",
    "    v = np.arange(n)\n",
    "    vol = v*maxvol/n\n",
    "    ind = []\n",
    "    for j in range(len(v)):\n",
    "        res = [abs(comvol_array[i]-vol[j]) for i in range(len(comvol_array))]\n",
    "        index, = np.where(res==np.min(res))\n",
    "        ind.append(np.asscalar(index))\n",
    "    return(ind)"
   ]
  },
  {
   "cell_type": "code",
   "execution_count": 31,
   "metadata": {},
   "outputs": [
    {
     "name": "stdout",
     "output_type": "stream",
     "text": [
      "8.0\n",
      "5.0\n",
      "3.0\n",
      "2.0\n",
      "20\n"
     ]
    }
   ],
   "source": [
    "array3 = []\n",
    "\n",
    "for i in range(4):\n",
    "    #no of partitions needed\n",
    "    p = np.rint(ratio[i])\n",
    "    print(p)\n",
    "    binz = z_array[get_index(p)]\n",
    "    id_array = array2[:,3][i][:,0]\n",
    "    redshifts = array2[:,3][i][:,1]\n",
    "    w = binned_statistic(redshifts,id_array,statistic = 'count',bins = binz)\n",
    "    bin_id = np.unique(w[2])\n",
    "    \n",
    "    for j in range(len(bin_id)):\n",
    "        thing = id_array[np.where(w[2]==bin_id[j])[0]]\n",
    "        array3.append(thing)\n",
    "    \n",
    "\n",
    "array3.append(d2['nsaid'])\n",
    "array3.append(d3['nsaid'])\n",
    "\n",
    "print(len(array3))\n",
    "#print(array3)\n"
   ]
  },
  {
   "cell_type": "code",
   "execution_count": 32,
   "metadata": {},
   "outputs": [],
   "source": [
    "\n",
    "afile = open(r'jk_list.pkl', 'wb')\n",
    "pickle.dump(array3, afile)\n",
    "afile.close()"
   ]
  },
  {
   "cell_type": "code",
   "execution_count": 33,
   "metadata": {},
   "outputs": [],
   "source": [
    "\n",
    "# #Comdis stuff:\n",
    "# d2 = WMAP7.comoving_distance(0.055).value\n",
    "# def comvol(n):\n",
    "#     d1 = WMAP7.comoving_distance(0.055/n).value\n",
    "#     vol = (d2**3-d1**3)\n",
    "#     return vol\n",
    "\n",
    "\n",
    "#let's figure out which area belongs to which bin....\n",
    "# l1 = [ 109,165,267]\n",
    "# l2 = [ -4,9,71]\n",
    "\n",
    "# g = binned_statistic_2d(a1['ra'],a1['dec'],a1['str'], statistic = 'sum', bins = (l1,l2))\n",
    "# print(np.flipud(np.transpose(g[0])))\n",
    "# print(g[1])\n",
    "# print(g[2])\n",
    "# print(len(g[3]))\n",
    "# plt.scatter(a1['RA'],a1['DEC'], s = 0.01)\n",
    "# for i in range(len(g[2])):\n",
    "#     plt.axhline(y = g[2][i],xmin = 0.3,xmax = 0.75, linestyle = '--', color = 'k')\n",
    "# for i in range(len(g[1])):\n",
    "#     plt.axvline(x = g[1][i], linestyle = '--', color = 'k')\n",
    "# plt.scatter(a2['RA'],a2['DEC'], s = 0.01)\n",
    "# plt.scatter(a3['RA'],a3['DEC'], s = 0.01)\n",
    "# plt.show()\n",
    "\n",
    "# print(g[0])\n",
    "# print(np.ravel(g[0]))\n",
    "# print(np.unique(g[3]))\n",
    "# indi, = np.where(g[3]==5)\n",
    "# print(len(a1['ra'][indi]))\n",
    "# print(a1['ra'][indi])\n",
    "# print(a1['dec'][indi])\n",
    "# indi, = np.where(g[3]==6)\n",
    "# print(len(a1['ra'][indi]))\n",
    "# print(a1['ra'][indi])\n",
    "# print(a1['dec'][indi])\n",
    "# indi, = np.where(g[3]==9)\n",
    "# print(len(a1['ra'][indi]))\n",
    "# print(a1['ra'][indi])\n",
    "# print(a1['dec'][indi])\n",
    "# indi, = np.where(g[3]==10)\n",
    "# print(len(a1['ra'][indi]))\n",
    "# print(a1['ra'][indi])\n",
    "# print(a1['dec'][indi])"
   ]
  }
 ],
 "metadata": {
  "kernelspec": {
   "display_name": "Python 3",
   "language": "python",
   "name": "python3"
  },
  "language_info": {
   "codemirror_mode": {
    "name": "ipython",
    "version": 3
   },
   "file_extension": ".py",
   "mimetype": "text/x-python",
   "name": "python",
   "nbconvert_exporter": "python",
   "pygments_lexer": "ipython3",
   "version": "3.6.5"
  }
 },
 "nbformat": 4,
 "nbformat_minor": 2
}
