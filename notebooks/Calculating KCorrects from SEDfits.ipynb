{
 "cells": [
  {
   "cell_type": "code",
   "execution_count": 8,
   "metadata": {},
   "outputs": [],
   "source": [
    "import numpy as np\n",
    "import scipy\n",
    "from scipy.stats import binned_statistic\n",
    "from scipy.stats import binned_statistic_2d\n",
    "import pickle\n",
    "import os\n",
    "import astropy as ap\n",
    "from astropy.cosmology import WMAP7\n",
    "\n",
    "import matplotlib.pyplot as plt\n",
    "import matplotlib.patheffects as patheffects\n",
    "from matplotlib import rcParams\n",
    "from matplotlib.path import Path\n",
    "import matplotlib.patches as patches\n",
    "import matplotlib as mpl\n",
    "from matplotlib import rc\n",
    "from matplotlib import colors\n",
    "from __future__ import unicode_literals\n",
    "\n",
    "rcParams[\"font.family\"] = \"DejaVu Sans\"\n",
    "rcParams[\"font.sans-serif\"] = [\"Computer Modern Sans\"]\n",
    "rcParams[\"text.usetex\"] = True\n",
    "rcParams[\"text.latex.preamble\"] = r\"\\usepackage{cmbright}\"\n",
    "rcParams['xtick.major.pad']='10'\n",
    "rcParams['ytick.major.pad']='10'\n",
    "rcParams['font.size'] = 22\n",
    "rcParams['axes.labelsize'] = 22\n",
    "rcParams['axes.labelweight'] = 'bold'\n",
    "rcParams['axes.titlesize'] = 17\n",
    "rcParams['xtick.labelsize'] = 17\n",
    "rcParams['ytick.labelsize'] = 17\n",
    "rcParams['legend.fontsize'] = 15\n",
    "rcParams['figure.titlesize'] = 1"
   ]
  },
  {
   "cell_type": "code",
   "execution_count": 9,
   "metadata": {},
   "outputs": [
    {
     "name": "stdout",
     "output_type": "stream",
     "text": [
      "['wise2010-W1', 'wise2010-W2', 'wise2010-W3', 'wise2010-W4']\n",
      "34002.54044481694\n"
     ]
    },
    {
     "data": {
      "image/png": "[encoded data removed]",
      "text/plain": [
       "<Figure size 432x288 with 1 Axes>"
      ]
     },
     "metadata": {},
     "output_type": "display_data"
    }
   ],
   "source": [
    "import speclite\n",
    "from speclite import filters\n",
    "wise = speclite.filters.load_filters('wise2010-*')\n",
    "print(wise.names)\n",
    "w1band = speclite.filters.load_filter('wise2010-W1')\n",
    "w2band = speclite.filters.load_filter('wise2010-W2')\n",
    "w3band = speclite.filters.load_filter('wise2010-W3')\n",
    "w4band = speclite.filters.load_filter('wise2010-W4')\n",
    "wave_w1 = (w1band.wavelength)*(10**(-10))\n",
    "resp = w1band.response\n",
    "eff = w1band.effective_wavelength.value\n",
    "print(eff)\n",
    "\n",
    "plt.plot(wave_w1,resp)\n",
    "plt.xscale('log')\n",
    "plt.xlabel(r'$\\lambda$')\n",
    "plt.title('WISE Response')\n",
    "plt.show()"
   ]
  },
  {
   "cell_type": "code",
   "execution_count": 10,
   "metadata": {},
   "outputs": [
    {
     "name": "stdout",
     "output_type": "stream",
     "text": [
      "/Users/nitya/Work/Data/Project1/measurements\n"
     ]
    },
    {
     "name": "stderr",
     "output_type": "stream",
     "text": [
      "/usr/local/lib/python3.7/site-packages/scipy/stats/_binned_statistic.py:607: FutureWarning: Using a non-tuple sequence for multidimensional indexing is deprecated; use `arr[tuple(seq)]` instead of `arr[seq]`. In the future this will be interpreted as an array index, `arr[np.array(seq)]`, which will result either in an error or a different result.\n",
      "  result = result[core]\n"
     ]
    }
   ],
   "source": [
    "os.chdir('/Users/nitya/Work/Data/Project1/measurements')\n",
    "print(os.getcwd())\n",
    "afile = open(r'SFRP.pkl', 'rb')\n",
    "d = pickle.load(afile, encoding = 'latin1')\n",
    "afile.close()\n",
    "\n",
    "# There's one annoying 0 thing in N band nmgy_ivar - removing it!\n",
    "indf = np.where(np.asarray(d['NMGY_IVAR'])[:,1]>0)[0]\n",
    "d  = np.asarray(d[indf])\n",
    "ind, z, kc = d['NSAID'], d['Z'], d['KCORRECT']\n",
    "opt = [d['ABSMAG'][:,1][i]-d['ABSMAG'][:,4][i] for i in range(len(ind))]\n",
    "inf = [d['W1MAG'][i]-d['W3MAG'][i] for i in range(len(ind))]\n",
    "h = binned_statistic_2d(inf,opt,ind,statistic = 'count',bins = (25,25))\n",
    "bins = np.unique(h[3])"
   ]
  },
  {
   "cell_type": "code",
   "execution_count": 13,
   "metadata": {},
   "outputs": [],
   "source": [
    "#Reading the Sedfit-files\n",
    "\n",
    "os.chdir('/Users/nitya/Work/Data/Project1/magphys')\n",
    "sed = []\n",
    "float_vec = np.vectorize(np.float)\n",
    "\n",
    "for i in range(len(bins)):\n",
    "    f = str(bins[i]) + '.0' + '.sed'\n",
    "    lines2 = open(f).readlines()[10:]\n",
    "    se = np.asarray([float_vec(lines2[j].split()) for j in range(12816)])\n",
    "    sed.append(se)"
   ]
  },
  {
   "cell_type": "code",
   "execution_count": 16,
   "metadata": {},
   "outputs": [],
   "source": [
    "#The functions for convolving;\n",
    "\n",
    "def f1(lam):\n",
    "    x = lam/(1+z)\n",
    "    fc = np.interp(x, 10**wav, spec)\n",
    "    thing = lam*(10**fc)\n",
    "    return thing\n",
    "\n",
    "def f2(lam):\n",
    "    fc = np.interp(lam, 10**wav, spec)\n",
    "    thing = lam*(10**fc)\n",
    "    return thing"
   ]
  },
  {
   "cell_type": "code",
   "execution_count": 18,
   "metadata": {},
   "outputs": [
    {
     "name": "stdout",
     "output_type": "stream",
     "text": [
      "[-0.05466450354910872, -0.10820101812799084, -0.10421272543628793, -0.07697720218248856, -0.09922020444623458]\n",
      "[-0.05966528790860215, -0.09400617482163479, -0.09708219519900083, -0.06793130520404803, -0.11391084324893458]\n",
      "[-0.010038675424990963, -0.06805949360419382, -0.06591231154079007, -0.06734359095821746, -0.03097896348021289]\n",
      "[-0.010475466305087945, 0.10050388212249939, 0.0792310080128926, 0.08322197374140583, 0.07875905237427365]\n"
     ]
    }
   ],
   "source": [
    "sed = np.asarray(sed)\n",
    "\n",
    "kc1 = []\n",
    "kc2 = []\n",
    "kc3 = []\n",
    "kc4 = []\n",
    "\n",
    "for i in range(len(z)):\n",
    "    \n",
    "    #Figuring out which bin the galaxy falls in;\n",
    "    index = np.where(bins==h[3][i])[0]\n",
    "    #Picking the corresponding SED template\n",
    "    l = np.reshape(sed[index],(12816,3))\n",
    "    z = d['Z'][i]\n",
    "    \n",
    "    wav = l[:,0]\n",
    "    spec = l[:,1]\n",
    "    \n",
    "    a1 = w1band.convolve_with_function(f1)\n",
    "    c1 = w1band.convolve_with_function(f2)\n",
    "    kcorr1 = np.float(-2.5*(np.log10((1/(1+z))*a1/c1)))\n",
    "    kc1.append(kcorr1)\n",
    "\n",
    "    a2 = w2band.convolve_with_function(f1)\n",
    "    c2 = w2band.convolve_with_function(f2)\n",
    "    kcorr2 = np.float(-2.5*(np.log10((1/(1+z))*a2/c2)))\n",
    "    kc2.append(kcorr2)\n",
    "\n",
    "    a3 = w3band.convolve_with_function(f1)\n",
    "    c3 = w3band.convolve_with_function(f2)\n",
    "    kcorr3 = np.float(-2.5*(np.log10((1/(1+z))*a3/c3)))\n",
    "    kc3.append(kcorr3)\n",
    "\n",
    "    a4 = w4band.convolve_with_function(f1)\n",
    "    c4 = w4band.convolve_with_function(f2)\n",
    "    kcorr4 = np.float(-2.5*(np.log10((1/(1+z))*a4/c4)))\n",
    "    kc4.append(kcorr4)\n",
    "    \n",
    "\n",
    "print(kc1[0:5])\n",
    "print(kc2[0:5])\n",
    "print(kc3[0:5])\n",
    "print(kc4[0:5])"
   ]
  },
  {
   "cell_type": "code",
   "execution_count": null,
   "metadata": {},
   "outputs": [],
   "source": []
  }
 ],
 "metadata": {
  "kernelspec": {
   "display_name": "Python 3",
   "language": "python",
   "name": "python3"
  },
  "language_info": {
   "codemirror_mode": {
    "name": "ipython",
    "version": 3
   },
   "file_extension": ".py",
   "mimetype": "text/x-python",
   "name": "python",
   "nbconvert_exporter": "python",
   "pygments_lexer": "ipython3",
   "version": "3.7.0"
  }
 },
 "nbformat": 4,
 "nbformat_minor": 2
}
