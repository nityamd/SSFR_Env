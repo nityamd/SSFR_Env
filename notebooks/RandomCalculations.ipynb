{
 "cells": [
  {
   "cell_type": "code",
   "execution_count": 86,
   "metadata": {},
   "outputs": [],
   "source": [
    "import numpy as np\n",
    "import pyfits\n",
    "import math\n",
    "from math import log10\n",
    "import matplotlib.pyplot as plt\n",
    "import scipy\n",
    "from scipy.stats import binned_statistic\n",
    "from scipy.stats import binned_statistic_2d\n",
    "from matplotlib import rc\n",
    "import pickle\n",
    "import os\n",
    "import astropy as ap\n",
    "from astropy.cosmology import WMAP7\n",
    "from scipy import interpolate\n",
    "import corner\n",
    "import matplotlib.patheffects as patheffects\n",
    "from matplotlib import rcParams\n",
    "from matplotlib.path import Path\n",
    "import matplotlib.patches as patches\n",
    "import matplotlib as mpl\n",
    "from matplotlib import rc\n",
    "from matplotlib import colors\n",
    "from __future__ import unicode_literals\n",
    "# rcParams[\"font.size\"] = 16\n",
    "rcParams[\"font.family\"] = \"sans-serif\"\n",
    "rcParams[\"font.sans-serif\"] = [\"Computer Modern Sans\"]\n",
    "rcParams[\"text.usetex\"] = True\n",
    "rcParams[\"text.latex.preamble\"] = r\"\\usepackage{cmbright}\"\n",
    "\n",
    "rcParams['xtick.major.pad']='10'\n",
    "rcParams['ytick.major.pad']='10'\n",
    "\n",
    "# rcParams['font.family'] = 'serif'\n",
    "# rcParams['font.serif'] = 'Ubuntu'\n",
    "# rcParams['font.monospace'] = 'Ubuntu Mono'\n",
    "rcParams['font.size'] = 22\n",
    "rcParams['axes.labelsize'] = 22\n",
    "rcParams['axes.labelweight'] = 'bold'\n",
    "rcParams['axes.titlesize'] = 17\n",
    "rcParams['xtick.labelsize'] = 15\n",
    "rcParams['ytick.labelsize'] = 15\n",
    "rcParams['legend.fontsize'] = 16\n",
    "rcParams['figure.titlesize'] = 1\n",
    "\n",
    "os.chdir('/Users/nitya/Work/Data/Project1/measurements')\n",
    "\n"
   ]
  },
  {
   "cell_type": "code",
   "execution_count": 87,
   "metadata": {},
   "outputs": [
    {
     "name": "stdout",
     "output_type": "stream",
     "text": [
      "/Users/nitya/Work/Data/Project1/measurements\n",
      "(467, 3)\n"
     ]
    }
   ],
   "source": [
    "os.chdir('/Users/nitya/Work/Data/Project1/measurements')\n",
    "print(os.getcwd())\n",
    "file2 = open(r'tracer_bin_opt_inf.pkl', 'rb')\n",
    "d = pickle.load(file2, encoding = 'Latin1')\n",
    "file2.close()\n",
    "#What's up with 445?\n",
    "\n",
    "print(np.shape(d))\n",
    "# indz = np.where(d[:,0]!=445)[0]\n",
    "# d = d[indz]\n",
    "# print np.shape(d)\n",
    "bins = [np.int(d[:,0][i]) for i in range(len(d[:,0]))]"
   ]
  },
  {
   "cell_type": "code",
   "execution_count": 88,
   "metadata": {},
   "outputs": [
    {
     "name": "stdout",
     "output_type": "stream",
     "text": [
      "('nsaid', 'z', 'ra', 'dec', 'opt', 'inf', 'mass', 'magsfr', 'magphys', 'uv', 'uvssfr', 'env')\n",
      "61046\n",
      "26267 3734 14.21555564015685\n"
     ]
    }
   ],
   "source": [
    "afile = open(r'interpolated_data_radec.pkl', 'rb')\n",
    "d = pickle.load(afile, encoding = 'latin1')\n",
    "afile.close()\n",
    "print(d.dtype.names)\n",
    "print(len(d))\n",
    "\n",
    "green_valley = len(d['opt'][(d['opt']>2.5) & (d['opt']<4.5)])\n",
    "\n",
    "outliers = len(d['opt'][(d['opt']>2.5) & (d['opt']<4.5) & (d['inf']>1.5)])\n",
    "print(green_valley, outliers, outliers*100/green_valley)"
   ]
  },
  {
   "cell_type": "markdown",
   "metadata": {},
   "source": [
    "So ~ 14.2% of the green valley are the outliers;"
   ]
  },
  {
   "cell_type": "code",
   "execution_count": 89,
   "metadata": {},
   "outputs": [
    {
     "name": "stdout",
     "output_type": "stream",
     "text": [
      "/Users/nitya/Work/Data/Project1/Magphys\n",
      "(467, 681)\n",
      "[3.689e-17 3.576e-17 3.212e-17 3.834e-17 4.045e-17 2.592e-17 1.673e-17\n",
      " 2.769e-17 2.575e-17 1.461e-16]\n",
      "[0.01788172564226854, 0.01733397964129908, 0.015569558894813379, 0.018584585555016967, 0.019607367910809505, 0.012564226854095977, 0.008109549200193892, 0.013422200678623365, 0.012481822588463403, 0.07081919534658265]\n",
      "(467, 12816)\n"
     ]
    }
   ],
   "source": [
    "#Reading the Magphys spectra..;\n",
    "os.chdir('/Users/nitya/Work/Data/Project1/Magphys')\n",
    "\n",
    "\n",
    "print(os.getcwd())\n",
    "file1 = [str(bins[i]) + '.0' + '.fit' for i in range(len(bins))]\n",
    "\n",
    "lines = np.asarray([open(file1[i]).readlines() for i in range(len(bins))])\n",
    "print(np.shape(lines))\n",
    "ble = np.vectorize(np.float)\n",
    "\n",
    "b = np.asarray([ble(lines[i][2].split()) for i in range(len(bins))])\n",
    "\n",
    "w1jy = b[:,7]\n",
    "lambda_eff = 3.3526\n",
    "print(w1jy[0:10])\n",
    "\n",
    "w1lum = [w1jy[i]*3.0*(10.0**14.0)/(0.6189) for i in range(len(bins))]\n",
    "\n",
    "print(w1lum[0:10])\n",
    "c = np.asarray([ble(lines[i][10].split()) for i in range(len(bins))])\n",
    "#3: TauV 2: mu 4: SSFR 5: \"Mass\" 6: Ldust in solar luminosities\n",
    "ssfr = c[:,4]\n",
    "log_ssfr = np.asarray([log10(c[:,4][i]) for i in range(len(bins))])\n",
    "mass =c[:,5]\n",
    "\n",
    "w1_mtol = np.asarray([mass[i]/w1lum[i] for i in range(len(bins))])\n",
    "\n",
    "file2 = [str(bins[i]) + '.0' + '.sed' for i in range(len(bins))]\n",
    "lines2 = np.asarray([open(file2[i]).readlines()[10:] for i in range(len(bins))])\n",
    "print(np.shape(lines2))\n",
    "sed = np.asarray([[ble(lines2[i][j].split()) for j in range(12816)] for i in range(len(bins))])"
   ]
  },
  {
   "cell_type": "code",
   "execution_count": 90,
   "metadata": {},
   "outputs": [
    {
     "data": {
      "image/png": "[encoded data removed]",
      "text/plain": [
       "<matplotlib.figure.Figure at 0x12879eac8>"
      ]
     },
     "metadata": {},
     "output_type": "display_data"
    }
   ],
   "source": [
    "wl = sed[0][:,0]\n",
    "#unattennuated\n",
    "us = sed[0][:,2]\n",
    "#attennuated\n",
    "us1 = sed[0][:,1]\n",
    "\n",
    "plt.plot(wl,us, color = 'k',lw = 2.0,linestyle = '--', label = 'unattennuated')\n",
    "plt.plot(wl,us1, color = 'g',lw = 2.0, label = 'attennuated')\n",
    "plt.xlabel(r\"$log(\\lambda$ $\\AA^{-1})$\", fontsize = 15)\n",
    "plt.ylabel(r\"$log(L_{\\lambda}/L_{\\odot})$ / $\\AA$\", fontsize = 15)\n",
    "plt.legend(loc='upper left', numpoints=1, ncol=1, fontsize=8, bbox_to_anchor=(1, 1))\n",
    "plt.savefig('magphys_spec.pdf', bbox_inches='tight')\n",
    "plt.show()\n",
    "\n"
   ]
  },
  {
   "cell_type": "code",
   "execution_count": 91,
   "metadata": {},
   "outputs": [
    {
     "name": "stdout",
     "output_type": "stream",
     "text": [
      "1.959041 7.289812 12816\n"
     ]
    }
   ],
   "source": [
    "print(min(wl),max(wl), len(wl))"
   ]
  },
  {
   "cell_type": "code",
   "execution_count": 94,
   "metadata": {},
   "outputs": [
    {
     "name": "stdout",
     "output_type": "stream",
     "text": [
      "['wise2010-W1', 'wise2010-W2', 'wise2010-W3', 'wise2010-W4']\n",
      "34002.54044481694\n"
     ]
    },
    {
     "data": {
      "image/png": "[encoded data removed]",
      "text/plain": [
       "<matplotlib.figure.Figure at 0x128b4a0b8>"
      ]
     },
     "metadata": {},
     "output_type": "display_data"
    }
   ],
   "source": [
    "import speclite\n",
    "from speclite import filters\n",
    "#boo = speclite.filters\n",
    "\n",
    "wise = speclite.filters.load_filters('wise2010-*')\n",
    "print(wise.names)\n",
    "w1band = speclite.filters.load_filter('wise2010-W1')\n",
    "\n",
    "wave_w1 = (w1band.wavelength)*(10**(-10))\n",
    "w1 = w1band.response\n",
    "#print(w1)\n",
    "# print(rband(6220))\n",
    "eff = w1band.effective_wavelength.value\n",
    "print(eff)\n",
    "\n",
    "plt.plot(wave_w1,w1)\n",
    "plt.xscale('log')\n",
    "plt.xlabel(r'$\\lambda$')\n",
    "plt.title('WISE Response')\n",
    "plt.show()\n",
    "\n",
    "\n",
    "# wise = speclite.filters.load_filters('wise2010-*')\n",
    "# speclite.filters.plot_filters(wise, wavelength_limits=(2, 30),\n",
    "#     wavelength_unit=astropy.units.micron, wavelength_scale='log')\n",
    "# plt.gca().set_xticks([2, 5, 10, 20, 30])\n",
    "# plt.gca().set_xticklabels([2, 5, 10, 20, 30])"
   ]
  },
  {
   "cell_type": "code",
   "execution_count": 93,
   "metadata": {},
   "outputs": [],
   "source": [
    "# #print(wave_w1)\n",
    "# wl = np.power(10,np.asarray(sed[1][:,0]))\n",
    "\n",
    "# #print(wl, len(wl), wl[6400:6700])\n",
    "\n",
    "\n",
    "# lum = []\n",
    "# #attennuated\n",
    "# alum = []\n",
    "\n",
    "# lum1 = []\n",
    "# #attennuated\n",
    "# alum1 = []\n",
    "\n",
    "# for i in range(len(bins)):\n",
    "#     wl = np.power(10,np.asarray(sed[i][:,0]))\n",
    "#     us = np.power(10,np.asarray(sed[i][:,2]))\n",
    "#     s = np.power(10,np.asarray(sed[i][:,1]))\n",
    "#     print(len(wl),len(us),len(s))\n",
    "    \n",
    "#     #print(np.any(np.diff(wl <= 0)))\n",
    "#     spec = [wl[j]*s[j] for j in range(len(wl))]\n",
    "#     uspec = [wl[j]*us[j] for j in range(len(wl))]\n",
    "#     #print(wl[6400:6700],s[6400:6700])\n",
    "#     stuff1 = w1band.convolve_with_array(wl[6400:6700],s[6400:6700],photon_weighted=False)\n",
    "#     ustuff1 = w1band.convolve_with_array(wl,us,photon_weighted=False)\n",
    "#     stuff = w1band.convolve_with_array(wl,spec,photon_weighted=False)\n",
    "#     ustuff = w1band.convolve_with_array(wl,uspec,photon_weighted=False)\n",
    "#     #print(stuff1,ustuff1,stuff,ustuff)\n",
    "#     #ab = w1band.get_ab_magnitude(s[0:6000])\n",
    "#     alum.append(stuff)\n",
    "#     lum.append(ustuff)\n",
    "#     #maggie.append(ab)\n",
    "#     alum1.append(stuff1)\n",
    "#     lum1.append(ustuff1)\n",
    "\n",
    "\n"
   ]
  },
  {
   "cell_type": "code",
   "execution_count": null,
   "metadata": {},
   "outputs": [],
   "source": []
  }
 ],
 "metadata": {
  "kernelspec": {
   "display_name": "Python 3",
   "language": "python",
   "name": "python3"
  },
  "language_info": {
   "codemirror_mode": {
    "name": "ipython",
    "version": 3
   },
   "file_extension": ".py",
   "mimetype": "text/x-python",
   "name": "python",
   "nbconvert_exporter": "python",
   "pygments_lexer": "ipython3",
   "version": "3.6.5"
  }
 },
 "nbformat": 4,
 "nbformat_minor": 2
}
