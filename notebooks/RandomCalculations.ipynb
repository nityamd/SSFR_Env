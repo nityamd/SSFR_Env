{
 "cells": [
  {
   "cell_type": "code",
   "execution_count": 1,
   "metadata": {},
   "outputs": [],
   "source": [
    "import numpy as np\n",
    "import pyfits\n",
    "import math\n",
    "from math import log10\n",
    "import matplotlib.pyplot as plt\n",
    "import scipy\n",
    "from scipy.stats import binned_statistic\n",
    "from scipy.stats import binned_statistic_2d\n",
    "from matplotlib import rc\n",
    "import pickle\n",
    "import os\n",
    "import astropy as ap\n",
    "from astropy.cosmology import WMAP7\n",
    "from scipy import interpolate\n",
    "import corner\n",
    "import matplotlib.patheffects as patheffects\n",
    "from matplotlib import rcParams\n",
    "from matplotlib.path import Path\n",
    "import matplotlib.patches as patches\n",
    "import matplotlib as mpl\n",
    "from matplotlib import rc\n",
    "from matplotlib import colors\n",
    "from __future__ import unicode_literals\n",
    "# rcParams[\"font.size\"] = 16\n",
    "rcParams[\"font.family\"] = \"sans-serif\"\n",
    "rcParams[\"font.sans-serif\"] = [\"Computer Modern Sans\"]\n",
    "rcParams[\"text.usetex\"] = True\n",
    "rcParams[\"text.latex.preamble\"] = r\"\\usepackage{cmbright}\"\n",
    "\n",
    "rcParams['xtick.major.pad']='10'\n",
    "rcParams['ytick.major.pad']='10'\n",
    "\n",
    "# rcParams['font.family'] = 'serif'\n",
    "# rcParams['font.serif'] = 'Ubuntu'\n",
    "# rcParams['font.monospace'] = 'Ubuntu Mono'\n",
    "rcParams['font.size'] = 22\n",
    "rcParams['axes.labelsize'] = 22\n",
    "rcParams['axes.labelweight'] = 'bold'\n",
    "rcParams['axes.titlesize'] = 17\n",
    "rcParams['xtick.labelsize'] = 15\n",
    "rcParams['ytick.labelsize'] = 15\n",
    "rcParams['legend.fontsize'] = 16\n",
    "rcParams['figure.titlesize'] = 1\n",
    "\n",
    "os.chdir('/Users/nitya/Work/Data/Project1/measurements')\n",
    "\n"
   ]
  },
  {
   "cell_type": "code",
   "execution_count": 2,
   "metadata": {},
   "outputs": [
    {
     "name": "stdout",
     "output_type": "stream",
     "text": [
      "/Users/nitya/Work/Data/Project1/measurements\n",
      "(467, 3)\n",
      "467\n"
     ]
    }
   ],
   "source": [
    "os.chdir('/Users/nitya/Work/Data/Project1/measurements')\n",
    "print(os.getcwd())\n",
    "file2 = open(r'tracer_bin_opt_inf.pkl', 'rb')\n",
    "d = pickle.load(file2, encoding = 'Latin1')\n",
    "file2.close()\n",
    "#What's up with 445?\n",
    "\n",
    "print(np.shape(d))\n",
    "\n",
    "file3 = open(r'tracer_bins_nsaid.pkl', 'rb')\n",
    "b = pickle.load(file3, encoding = 'Latin1')\n",
    "file3.close()\n",
    "\n",
    "b.dtype.names\n",
    "\n",
    "print(len(b))\n",
    "\n",
    "\n",
    "# indz = np.where(d[:,0]!=445)[0]\n",
    "# d = d[indz]\n",
    "# print np.shape(d)\n",
    "bins = [np.int(d[:,0][i]) for i in range(len(d[:,0]))]\n",
    "res = [bins[i]- np.int(b[:,0][i]) for i in range(len(bins))]\n",
    "\n",
    "binlist = b[:,1]\n",
    "#print(binlist[0:5])\n"
   ]
  },
  {
   "cell_type": "code",
   "execution_count": 3,
   "metadata": {},
   "outputs": [
    {
     "name": "stdout",
     "output_type": "stream",
     "text": [
      "('nsaid', 'z', 'ra', 'dec', 'opt', 'inf', 'mass', 'magsfr', 'magphys', 'uv', 'uvssfr', 'env')\n",
      "61046\n",
      "26267 3734 14.21555564015685\n"
     ]
    }
   ],
   "source": [
    "afile = open(r'interpolated_data_radec.pkl', 'rb')\n",
    "d = pickle.load(afile, encoding = 'latin1')\n",
    "afile.close()\n",
    "print(d.dtype.names)\n",
    "print(len(d))\n",
    "\n",
    "green_valley = len(d['opt'][(d['opt']>2.5) & (d['opt']<4.5)])\n",
    "\n",
    "outliers = len(d['opt'][(d['opt']>2.5) & (d['opt']<4.5) & (d['inf']>1.5)])\n",
    "print(green_valley, outliers, outliers*100/green_valley)"
   ]
  },
  {
   "cell_type": "markdown",
   "metadata": {},
   "source": [
    "So ~ 14.2% of the green valley are the outliers;"
   ]
  },
  {
   "cell_type": "code",
   "execution_count": 4,
   "metadata": {},
   "outputs": [
    {
     "name": "stdout",
     "output_type": "stream",
     "text": [
      "/Users/nitya/Work/Data/Project1/Magphys\n",
      "(467, 681)\n",
      "[3.689e-17 3.576e-17 3.212e-17 3.834e-17 4.045e-17 2.592e-17 1.673e-17\n",
      " 2.769e-17 2.575e-17 1.461e-16]\n",
      "[0.01788172564226854, 0.01733397964129908, 0.015569558894813379, 0.018584585555016967, 0.019607367910809505, 0.012564226854095977, 0.008109549200193892, 0.013422200678623365, 0.012481822588463403, 0.07081919534658265]\n",
      "(467, 12816)\n"
     ]
    }
   ],
   "source": [
    "#Reading the Magphys spectra..;\n",
    "os.chdir('/Users/nitya/Work/Data/Project1/Magphys')\n",
    "\n",
    "\n",
    "print(os.getcwd())\n",
    "file1 = [str(bins[i]) + '.0' + '.fit' for i in range(len(bins))]\n",
    "\n",
    "lines = np.asarray([open(file1[i]).readlines() for i in range(len(bins))])\n",
    "print(np.shape(lines))\n",
    "ble = np.vectorize(np.float)\n",
    "\n",
    "b = np.asarray([ble(lines[i][2].split()) for i in range(len(bins))])\n",
    "\n",
    "w1jy = b[:,7]\n",
    "lambda_eff = 3.3526\n",
    "print(w1jy[0:10])\n",
    "\n",
    "w1lum = [w1jy[i]*3.0*(10.0**14.0)/(0.6189) for i in range(len(bins))]\n",
    "\n",
    "print(w1lum[0:10])\n",
    "c = np.asarray([ble(lines[i][10].split()) for i in range(len(bins))])\n",
    "#3: TauV 2: mu 4: SSFR 5: \"Mass\" 6: Ldust in solar luminosities\n",
    "ssfr = c[:,4]\n",
    "log_ssfr = np.asarray([log10(c[:,4][i]) for i in range(len(bins))])\n",
    "mass =c[:,5]\n",
    "\n",
    "w1_mtol = np.asarray([mass[i]/w1lum[i] for i in range(len(bins))])\n",
    "\n",
    "file2 = [str(bins[i]) + '.0' + '.sed' for i in range(len(bins))]\n",
    "lines2 = np.asarray([open(file2[i]).readlines()[10:] for i in range(len(bins))])\n",
    "print(np.shape(lines2))\n",
    "sed = np.asarray([[ble(lines2[i][j].split()) for j in range(12816)] for i in range(len(bins))])"
   ]
  },
  {
   "cell_type": "code",
   "execution_count": 5,
   "metadata": {},
   "outputs": [
    {
     "data": {
      "image/png": "[encoded data removed]",
      "text/plain": [
       "<matplotlib.figure.Figure at 0x1037040f0>"
      ]
     },
     "metadata": {},
     "output_type": "display_data"
    }
   ],
   "source": [
    "wav = sed[0][:,0]\n",
    "#unattennuated\n",
    "us = sed[0][:,2]\n",
    "#attennuated\n",
    "us1 = sed[0][:,1]\n",
    "\n",
    "plt.plot(wav,us, color = 'k',lw = 2.0,linestyle = '--', label = 'unattennuated')\n",
    "plt.plot(wav,us1, color = 'g',lw = 2.0, label = 'attennuated')\n",
    "plt.xlabel(r\"$log(\\lambda$ $\\AA^{-1})$\", fontsize = 15)\n",
    "plt.ylabel(r\"$log(L_{\\lambda}/L_{\\odot})$ / $\\AA$\", fontsize = 15)\n",
    "plt.legend(loc='upper left', numpoints=1, ncol=1, fontsize=8, bbox_to_anchor=(1, 1))\n",
    "plt.savefig('magphys_spec.pdf', bbox_inches='tight')\n",
    "plt.show()\n",
    "\n"
   ]
  },
  {
   "cell_type": "code",
   "execution_count": 66,
   "metadata": {},
   "outputs": [
    {
     "name": "stdout",
     "output_type": "stream",
     "text": [
      "['wise2010-W1', 'wise2010-W2', 'wise2010-W3', 'wise2010-W4']\n",
      "34002.54044481694\n"
     ]
    },
    {
     "data": {
      "image/png": "[encoded data removed]",
      "text/plain": [
       "<matplotlib.figure.Figure at 0x107766f98>"
      ]
     },
     "metadata": {},
     "output_type": "display_data"
    }
   ],
   "source": [
    "import speclite\n",
    "from speclite import filters\n",
    "#boo = speclite.filters\n",
    "wise = speclite.filters.load_filters('wise2010-*')\n",
    "print(wise.names)\n",
    "w1band = speclite.filters.load_filter('wise2010-W1')\n",
    "w2band = speclite.filters.load_filter('wise2010-W2')\n",
    "w3band = speclite.filters.load_filter('wise2010-W3')\n",
    "w4band = speclite.filters.load_filter('wise2010-W4')\n",
    "wave_w1 = (w1band.wavelength)*(10**(-10))\n",
    "resp = w1band.response\n",
    "#print(w1)\n",
    "# print(rband(6220))\n",
    "eff = w1band.effective_wavelength.value\n",
    "print(eff)\n",
    "\n",
    "plt.plot(wave_w1,resp)\n",
    "plt.xscale('log')\n",
    "plt.xlabel(r'$\\lambda$')\n",
    "plt.title('WISE Response')\n",
    "plt.show()\n",
    "\n",
    "\n",
    "# wise = speclite.filters.load_filters('wise2010-*')\n",
    "# speclite.filters.plot_filters(wise, wavelength_limits=(2, 30),\n",
    "#     wavelength_unit=astropy.units.micron, wavelength_scale='log')\n",
    "# plt.gca().set_xticks([2, 5, 10, 20, 30])\n",
    "# plt.gca().set_xticklabels([2, 5, 10, 20, 30])"
   ]
  },
  {
   "cell_type": "code",
   "execution_count": 7,
   "metadata": {},
   "outputs": [
    {
     "name": "stdout",
     "output_type": "stream",
     "text": [
      "/Users/nitya/Work/Data/Project1/measurements\n"
     ]
    }
   ],
   "source": [
    "os.chdir('/Users/nitya/Work/Data/Project1/measurements')\n",
    "print(os.getcwd())\n",
    "\n",
    "\n",
    "afile = open(r'interpolated_data.pkl', 'rb')\n",
    "dat = pickle.load(afile, encoding = 'latin1')\n",
    "afile.close()\n",
    "\n",
    "\n"
   ]
  },
  {
   "cell_type": "markdown",
   "metadata": {},
   "source": [
    "#Writing out this integral: K = -2.5log10((1/(1+z))(I1/I2))\n",
    "I1, I2 are convolutions with functions/arrays f1,f2 for specified filters;\n",
    "f1: w*L(w/1+z)\n",
    "f2: w*L(w"
   ]
  },
  {
   "cell_type": "code",
   "execution_count": 57,
   "metadata": {},
   "outputs": [
    {
     "name": "stdout",
     "output_type": "stream",
     "text": [
      "61046\n"
     ]
    }
   ],
   "source": [
    "t = binned_statistic_2d(dat['inf'],dat['opt'],dat['nsaid'],statistic = 'count',bins = (25,25))\n",
    "\n",
    "bl = t[3]\n",
    "print(len(bl))\n",
    "\n",
    "\n",
    "def f1(lam):\n",
    "    x = lam/(1+z)\n",
    "    fc = np.interp(x, 10**wav, us1)\n",
    "    thing = lam*(10**fc)\n",
    "    return thing\n",
    "\n",
    "def f2(lam):\n",
    "    fc = np.interp(lam, 10**wav, us1)\n",
    "    thing = lam*(10**fc)\n",
    "    return thing\n",
    "\n",
    "\n",
    "  "
   ]
  },
  {
   "cell_type": "code",
   "execution_count": 34,
   "metadata": {},
   "outputs": [],
   "source": [
    "os.chdir('/Users/nitya/Work/Data/Project1/magphys')\n",
    "\n",
    "b = np.unique(bl)\n",
    "\n",
    "ble = np.vectorize(np.float)\n",
    "sed = []\n",
    "\n",
    "for i in range(len(b)):\n",
    "    ind = np.int(b[i])\n",
    "    f = str(bl[i]) + '.0' + '.sed'\n",
    "    lines2 = open(f).readlines()[10:]\n",
    "    se = np.asarray([ble(lines2[j].split()) for j in range(12816)])\n",
    "    sed.append(se)\n",
    "    \n",
    "\n"
   ]
  },
  {
   "cell_type": "code",
   "execution_count": 42,
   "metadata": {},
   "outputs": [
    {
     "name": "stdout",
     "output_type": "stream",
     "text": [
      "444\n",
      "(444, 12816, 3)\n",
      "[1.959041 1.973128 1.982271 1.991226 2.       2.0086   2.017033 2.025306\n",
      " 2.033424 2.041393]\n",
      "[ 45  49  71  72  73  74  77  89  91  92  93  95  98  99 100 101 102 103\n",
      " 104 105 116 124 125 126 127 128 129 130 131 132 133 136 143 144 145 149\n",
      " 151 152 153 154 155 156 157 158 159 160 168 170 171 175 176 177 178 179\n",
      " 180 181 182 183 184 185 186 187 195 199 201 202 203 204 205 206 207 208\n",
      " 209 210 211 212 213 214 222 223 224 225 226 227 229 230 231 232 233 234\n",
      " 235 236 237 238 239 240 241 251 252 253 254 255 256 257 258 259 260 261\n",
      " 262 263 264 265 266 267 268 277 278 279 280 281 282 283 284 285 286 287\n",
      " 288 289 290 291 292 293 294 295 303 304 305 306 307 308 309 310 311 312\n",
      " 313 314 315 316 317 318 319 320 321 322 330 331 332 333 334 335 336 337\n",
      " 338 339 340 341 342 343 344 345 346 347 348 349 354 355 356 357 358 359\n",
      " 360 361 362 363 364 365 366 367 368 369 370 371 372 373 374 375 376 382\n",
      " 383 384 385 386 387 388 389 390 391 392 393 394 395 396 397 398 399 400\n",
      " 401 402 403 408 409 410 411 412 413 414 415 416 417 418 419 420 421 422\n",
      " 423 424 425 426 427 428 430 435 436 437 438 439 440 441 442 443 444 445\n",
      " 446 447 448 449 450 451 452 453 454 455 456 457 461 462 463 464 465 466\n",
      " 467 468 469 470 471 472 473 474 475 476 477 478 479 480 481 482 483 484\n",
      " 487 488 489 490 491 492 493 494 495 496 497 498 499 500 501 502 503 504\n",
      " 505 506 507 508 509 515 516 517 518 519 520 521 522 523 524 525 526 527\n",
      " 528 529 530 531 532 533 535 536 538 541 543 544 545 546 547 548 549 550\n",
      " 551 552 553 554 555 556 557 558 559 560 564 565 569 570 571 572 573 574\n",
      " 575 576 577 578 579 580 581 582 583 584 585 586 587 589 592 596 597 598\n",
      " 599 600 601 602 603 604 605 606 607 608 609 610 611 612 613 614 615 622\n",
      " 624 625 626 627 628 629 630 631 632 633 634 635 636 637 638 640 649 650\n",
      " 651 652 653 654 655 656 657 658 659 660 661 662 663 664 665 666 667 672\n",
      " 677 680 681 682 683 684 685 686 688 689 690 691]\n"
     ]
    }
   ],
   "source": [
    "sed = np.asarray(sed)\n",
    "print(len(sed))\n",
    "print(np.shape(sed))\n",
    "print(sed[10][:,0][0:10])\n",
    "print(b)"
   ]
  },
  {
   "cell_type": "code",
   "execution_count": null,
   "metadata": {},
   "outputs": [],
   "source": [
    "#Reading the Magphys spectra..;\n",
    "#os.chdir('/Users/nitya/Work/Data/Project1/Magphys')\n",
    "\n",
    "#print(b)\n",
    "# print(bl[i])\n",
    "\n",
    "\n",
    "kc1 = []\n",
    "kc2 = []\n",
    "kc3 = []\n",
    "kc4 = []\n",
    "for i in range(len(bl)):\n",
    "#     ind = np.int(bl[i])\n",
    "#     file2 = str(bl[i]) + '.0' + '.sed'\n",
    "#     lines2 = open(file2).readlines()[10:]\n",
    "#     #print(np.shape(lines2))\n",
    "#     ble = np.vectorize(np.float)\n",
    "#     sed = np.asarray([ble(lines2[j].split()) for j in range(12816)])\n",
    "    z = dat['z'][i]\n",
    "    ind = np.where(b==bl[i])[0]\n",
    "    \n",
    "    #print(ind)\n",
    "    l = np.reshape(sed[ind],(12816,3))\n",
    "    #print(l[0:10])\n",
    "    wav = l[:,0]\n",
    "    #wav = [10**(sed[ind][:,0][j]) for j in range(len(sed[ind][:,0]))]\n",
    "    #print(wav[0:20])\n",
    "    #unattennuated\n",
    "    #us = sed[inn][:,2]\n",
    "    #attennuated\n",
    "    #wav = [10**(sed[ind][:,0][j]) for j in range(len(sed[ind][:,0]))]\n",
    "    us1 = l[:,1]\n",
    "    #print(us1[0:10])\n",
    "\n",
    "\n",
    "    a1 = w1band.convolve_with_function(f1)\n",
    "    c1 = w1band.convolve_with_function(f2)\n",
    "    kcorr1 = np.float(-2.5*(np.log10(a1/c1)))\n",
    "    kc1.append(kcorr1)\n",
    "\n",
    "    a2 = w2band.convolve_with_function(f1)\n",
    "    c2 = w2band.convolve_with_function(f2)\n",
    "    kcorr2 = np.float(-2.5*(np.log10(a2/c2)))\n",
    "    kc2.append(kcorr2)\n",
    "\n",
    "    a3 = w3band.convolve_with_function(f1)\n",
    "    c3 = w3band.convolve_with_function(f2)\n",
    "    kcorr3 = np.float(-2.5*(np.log10(a3/c3)))\n",
    "    kc3.append(kcorr)\n",
    "\n",
    "    a4 = w4band.convolve_with_function(f1)\n",
    "    c4 = w4band.convolve_with_function(f2)\n",
    "    kcorr4 = np.float(-2.5*(np.log10(a4/c4)))\n",
    "    kc4.append(kcorr4)\n",
    "    \n",
    "\n",
    "print(kc1[0:5])\n",
    "print(kc2[0:5])\n",
    "print(kc3[0:5])\n",
    "print(kc4[0:5])"
   ]
  },
  {
   "cell_type": "code",
   "execution_count": 68,
   "metadata": {},
   "outputs": [
    {
     "data": {
      "image/png": "[encoded data removed]",
      "text/plain": [
       "<matplotlib.figure.Figure at 0x107e2d0f0>"
      ]
     },
     "metadata": {},
     "output_type": "display_data"
    },
    {
     "data": {
      "image/png": "[encoded data removed]",
      "text/plain": [
       "<matplotlib.figure.Figure at 0x107eb3e48>"
      ]
     },
     "metadata": {},
     "output_type": "display_data"
    },
    {
     "data": {
      "image/png": "[encoded data removed]",
      "text/plain": [
       "<matplotlib.figure.Figure at 0x108d8e668>"
      ]
     },
     "metadata": {},
     "output_type": "display_data"
    },
    {
     "data": {
      "image/png": "[encoded data removed]",
      "text/plain": [
       "<matplotlib.figure.Figure at 0x108d95240>"
      ]
     },
     "metadata": {},
     "output_type": "display_data"
    }
   ],
   "source": [
    "plt.scatter(dat['z'][0:100],kc1)\n",
    "plt.xlabel('z')\n",
    "plt.ylabel('W1 K-correct')\n",
    "plt.show()\n",
    "\n",
    "\n",
    "plt.scatter(dat['z'][0:100],kc2)\n",
    "plt.xlabel('z')\n",
    "plt.ylabel('W2 K-correct')\n",
    "plt.show()\n",
    "\n",
    "plt.scatter(dat['z'][0:100],kc3)\n",
    "plt.xlabel('z')\n",
    "plt.ylabel('W3 K-correct')\n",
    "plt.show()\n",
    "\n",
    "plt.scatter(dat['z'][0:100],kc4)\n",
    "plt.xlabel('z')\n",
    "plt.ylabel('W4 K-correct')\n",
    "plt.show()"
   ]
  },
  {
   "cell_type": "code",
   "execution_count": null,
   "metadata": {},
   "outputs": [],
   "source": [
    "\n",
    "# one = ap.units.Quantity(1.)\n",
    "# numer = w1band.convolve_with_function(lambda wlen: wlen)\n",
    "# denom = w1band.convolve_with_function(lambda wlen: one)\n",
    "# print(numer)\n",
    "# print(denom)\n",
    "# print(np.round(numer / denom, 1))\n",
    "\n",
    "# z = 0.05491536\n",
    "\n",
    "\n",
    "# ##Testing functions: Can you get back the effective wavelength?\n",
    "# def test1(lam):\n",
    "#     blah = lam\n",
    "#     return blah\n",
    "\n",
    "# def test2(lam):\n",
    "#     blah = 1.0\n",
    "#     return blah\n",
    "\n",
    "# print(trial1)\n",
    "# print(trial2)\n",
    "# print(trial1/trial2)\n",
    "\n",
    "\n",
    "# ## Defining 2 functions of wavelength...\n",
    "\n",
    "# def f1(lam):\n",
    "#     x = lam/(1+z)\n",
    "#     fc = np.interp(x, 10**wav, us1)\n",
    "#     thing = lam*(10**fc)\n",
    "#     return thing\n",
    "\n",
    "# def f2(lam):\n",
    "#     fc = np.interp(lam, 10**wav, us1)\n",
    "#     thing = lam*(10**fc)\n",
    "#     return thing\n",
    "\n",
    "# print(10**wav[0:10])\n",
    "# print(us1[0:10])\n",
    "# print(f2(93.5))\n",
    "\n",
    "# trial1 = w1band.convolve_with_function(test1)\n",
    "# trial2 = w1band.convolve_with_function(test2)\n",
    "\n",
    "\n",
    "# a = w1band.convolve_with_function(f1)\n",
    "# b = w1band.convolve_with_function(f2)\n",
    "\n",
    "# print(a,b)\n",
    "\n",
    "# kcorr = -2.5*(np.log10(a/b))\n",
    "# print(kcorr)\n",
    "\n",
    "\n",
    "\n",
    "# print(dat.dtype.names)\n",
    "# print(len(dat))\n",
    "# print(binlist[300])\n",
    "# gal = np.random.choice(binlist[400])\n",
    "# print(gal)\n",
    "# #z = np.asarray([dat['z'][np.where(dat['nsaid'] == np.array(binlist[100][i]))[0]] for i in range(len(binlist[100]))])\n",
    "# z = dat['z'][np.where(dat['nsaid']==gal)]\n",
    "# print(z)\n",
    "\n",
    "\n",
    "\n",
    "# #print(wave_w1)\n",
    "# # wl = np.power(10,np.asarray(sed[1][:,0]))\n",
    "\n",
    "# # #print(wl, len(wl), wl[6400:6700])\n",
    "\n",
    "\n",
    "# # lum = []\n",
    "# # #attennuated\n",
    "# # alum = []\n",
    "\n",
    "# # lum1 = []\n",
    "# # #attennuated\n",
    "# # alum1 = []\n",
    "\n",
    "# for i in range(len(bins)):\n",
    "#     wav = np.power(10,np.asarray(sed[i][:,0]))\n",
    "#     us = np.power(10,np.asarray(sed[i][:,2]))\n",
    "#     s = np.power(10,np.asarray(sed[i][:,1]))\n",
    "#     print(len(wav),len(us),len(s))\n",
    "    \n",
    "# #     #print(np.any(np.diff(wl <= 0)))\n",
    "# #     spec = [wl[j]*s[j] for j in range(len(wl))]\n",
    "# #     uspec = [wl[j]*us[j] for j in range(len(wl))]\n",
    "# #     #print(wl[6400:6700],s[6400:6700])\n",
    "# #     stuff1 = w1band.convolve_with_array(wl[6400:6700],s[6400:6700],photon_weighted=False)\n",
    "# #     ustuff1 = w1band.convolve_with_array(wl,us,photon_weighted=False)\n",
    "# #     stuff = w1band.convolve_with_array(wl,spec,photon_weighted=False)\n",
    "# #     ustuff = w1band.convolve_with_array(wl,uspec,photon_weighted=False)\n",
    "# #     #print(stuff1,ustuff1,stuff,ustuff)\n",
    "# #     #ab = w1band.get_ab_magnitude(s[0:6000])\n",
    "# #     alum.append(stuff)\n",
    "# #     lum.append(ustuff)\n",
    "# #     #maggie.append(ab)\n",
    "# #     alum1.append(stuff1)\n",
    "# #     lum1.append(ustuff1)\n",
    "\n"
   ]
  }
 ],
 "metadata": {
  "kernelspec": {
   "display_name": "Python 3",
   "language": "python",
   "name": "python3"
  },
  "language_info": {
   "codemirror_mode": {
    "name": "ipython",
    "version": 3
   },
   "file_extension": ".py",
   "mimetype": "text/x-python",
   "name": "python",
   "nbconvert_exporter": "python",
   "pygments_lexer": "ipython3",
   "version": "3.6.5"
  }
 },
 "nbformat": 4,
 "nbformat_minor": 2
}
