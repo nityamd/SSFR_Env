{
 "cells": [
  {
   "cell_type": "code",
   "execution_count": 1,
   "metadata": {},
   "outputs": [],
   "source": [
    "import numpy as np\n",
    "import pyfits\n",
    "import math\n",
    "from math import log10\n",
    "import matplotlib.pyplot as plt\n",
    "import scipy\n",
    "from scipy.stats import binned_statistic_2d\n",
    "import pickle\n",
    "import os\n",
    "import astropy as ap\n",
    "from astropy.cosmology import WMAP7\n",
    "import matplotlib.patheffects as patheffects\n",
    "from matplotlib import rcParams\n",
    "from matplotlib.path import Path\n",
    "import matplotlib.patches as patches\n",
    "import matplotlib as mpl\n",
    "from matplotlib import rc\n",
    "from matplotlib import colors\n",
    "from __future__ import unicode_literals\n",
    "# rcParams[\"font.size\"] = 16\n",
    "rcParams[\"font.family\"] = \"sans-serif\"\n",
    "rcParams[\"font.sans-serif\"] = [\"Computer Modern Sans\"]\n",
    "rcParams[\"text.usetex\"] = True\n",
    "rcParams[\"text.latex.preamble\"] = r\"\\usepackage{cmbright}\"\n",
    "\n",
    "rcParams['xtick.major.pad']='10'\n",
    "rcParams['ytick.major.pad']='10'\n",
    "\n",
    "# rcParams['font.family'] = 'serif'\n",
    "# rcParams['font.serif'] = 'Ubuntu'\n",
    "# rcParams['font.monospace'] = 'Ubuntu Mono'\n",
    "rcParams['font.size'] = 22\n",
    "rcParams['axes.labelsize'] = 22\n",
    "rcParams['axes.labelweight'] = 'bold'\n",
    "rcParams['axes.titlesize'] = 17\n",
    "rcParams['xtick.labelsize'] = 15\n",
    "rcParams['ytick.labelsize'] = 15\n",
    "rcParams['legend.fontsize'] = 16\n",
    "rcParams['figure.titlesize'] = 1"
   ]
  },
  {
   "cell_type": "code",
   "execution_count": 2,
   "metadata": {},
   "outputs": [
    {
     "data": {
      "text/plain": [
       "(75476,)"
      ]
     },
     "execution_count": 2,
     "metadata": {},
     "output_type": "execute_result"
    }
   ],
   "source": [
    "\n",
    "os.chdir('/Users/nitya/Work/Data/Project1/measurements')\n",
    "file2 = open(r'SFRP.pkl', 'rb')\n",
    "d = pickle.load(file2, encoding = 'latin')\n",
    "file2.close()\n",
    "np.shape(d)"
   ]
  },
  {
   "cell_type": "code",
   "execution_count": 6,
   "metadata": {},
   "outputs": [],
   "source": [
    "#Getting colors, kcorrect, fluxes\n",
    "# There's one annoying 0 thing in N band nmgy_ivar - removing it!\n",
    "indf = np.where(np.asarray(d['NMGY_IVAR'])[:,1]>0)[0]\n",
    "\n",
    "d = np.asarray(d[indf])\n",
    "ind = d['NSAID']\n",
    "z = d['Z']\n",
    "mtol = d['MTOL']\n",
    "kc = d['KCORRECT']\n",
    "mass = d['MASS']\n",
    "opt = [d['ABSMAG'][:,1][i]-d['ABSMAG'][:,4][i] for i in range(len(ind))]\n",
    "inf = [d['W1MAG'][i]-d['W3MAG'][i] for i in range(len(ind))]\n",
    "#optical fluxes and flux errors\n",
    "opt_flux = d['NMGY']\n",
    "opt_flerr = d['NMGY_IVAR']\n",
    "#WISE fluxes in nanomaggies\n",
    "inf_flux = np.column_stack((d['W1_NMGY'],d['W2_NMGY'],d['W3_NMGY'],d['W4_NMGY']))\n",
    "inf_flerr = np.column_stack((d['W1SIGM_NMGY'],d['W2SIGM_NMGY'],d['W3SIGM_NMGY'],d['W4SIGM_NMGY']))\n"
   ]
  },
  {
   "cell_type": "code",
   "execution_count": 8,
   "metadata": {},
   "outputs": [
    {
     "name": "stdout",
     "output_type": "stream",
     "text": [
      "(75475, 7) (75475, 7)\n"
     ]
    }
   ],
   "source": [
    "def jansky(a,b):\n",
    "    ma = a*3631*(10.0**(-9.0))*(10**(b/(-2.5)))\n",
    "    return ma\n",
    "jansky = np.vectorize(jansky)\n",
    "def jansky_err(a,b):\n",
    "    ma_err = (a**(-0.5))*3631*(10.0**(-9.0))*(10**(b/(-2.5)))\n",
    "    return ma_err\n",
    "jansky_err = np.vectorize(jansky_err)\n",
    "def wjansky(a):\n",
    "    ma = 3631*(10**(-9.0))*a\n",
    "    return ma\n",
    "wjansky =  np.vectorize(wjansky)\n",
    "\n",
    "\n",
    "\n",
    "print(np.shape(opt_flux), np.shape(kc))\n",
    "flux = jansky(opt_flux,kc)\n",
    "flerr = jansky_err(opt_flerr,kc)\n",
    "wflux = wjansky(inf_flux)\n",
    "wflerr = wjansky(inf_flerr)\n",
    "\n"
   ]
  },
  {
   "cell_type": "code",
   "execution_count": 10,
   "metadata": {},
   "outputs": [
    {
     "name": "stdout",
     "output_type": "stream",
     "text": [
      "[0.04035187 0.33866848 0.63698509 0.9353017  1.23361832 1.53193493\n",
      " 1.83025154 2.12856815 2.42688477 2.72520138 3.02351799 3.3218346\n",
      " 3.62015121 3.91846783 4.21678444 4.51510105 4.81341766 5.11173428\n",
      " 5.41005089 5.7083675  6.00668411 6.30500072 6.60331734 6.90163395\n",
      " 7.19995056 7.49826717]\n",
      "[-2.99099922 -2.75259926 -2.5141993  -2.27579933 -2.03739937 -1.7989994\n",
      " -1.56059944 -1.32219948 -1.08379951 -0.84539955 -0.60699959 -0.36859962\n",
      " -0.13019966  0.1082003   0.34660027  0.58500023  0.82340019  1.06180016\n",
      "  1.30020012  1.53860008  1.77700005  2.01540001  2.25379997  2.49219994\n",
      "  2.7305999   2.96899986]\n",
      "0.29831661224365236\n",
      "0.23839996337890623\n"
     ]
    },
    {
     "name": "stderr",
     "output_type": "stream",
     "text": [
      "/usr/local/lib/python3.6/site-packages/ipykernel_launcher.py:16: RuntimeWarning: divide by zero encountered in log10\n",
      "  app.launch_new_instance()\n"
     ]
    },
    {
     "data": {
      "image/png": "[encoded data removed]",
      "text/plain": [
       "<matplotlib.figure.Figure at 0x127745358>"
      ]
     },
     "metadata": {},
     "output_type": "display_data"
    }
   ],
   "source": [
    "h = binned_statistic_2d(inf,opt,ind,statistic = 'count',bins = (25,25))\n",
    "\n",
    "yedges = h[1]\n",
    "xedges = h[2]\n",
    "\n",
    "print(xedges)\n",
    "print(yedges)\n",
    "\n",
    "print(xedges[2]-xedges[1])\n",
    "print(yedges[2]-yedges[1])\n",
    "\n",
    "xbins = [0.5*(h[1][i] + h[1][i+1]) for i in range(25)]\n",
    "ybins = [0.5*(h[2][i] + h[2][i+1]) for i in range(25)]\n",
    "extent = [xbins[0], xbins[-1], ybins[0], ybins[-1]]\n",
    "number = np.ma.array(h[0], mask = h[0] == 0)\n",
    "number = np.log10(number)\n",
    "\n",
    "plt.pcolormesh(yedges,xedges,(np.transpose(number)),cmap = plt.cm.binary)\n",
    "plt.colorbar()\n",
    "# plt.xlim(0,0.056)\n",
    "# plt.ylim(min(gr),max(gr))\n",
    "plt.ylim(0,8.0)\n",
    "plt.xlim(-3.0,3.0)\n",
    "plt.xlabel('W1-W3')\n",
    "plt.ylabel('N-r')\n",
    "plt.show()"
   ]
  },
  {
   "cell_type": "code",
   "execution_count": 115,
   "metadata": {},
   "outputs": [
    {
     "name": "stdout",
     "output_type": "stream",
     "text": [
      "467\n"
     ]
    }
   ],
   "source": [
    "woo = np.asarray(np.ravel(h[0]))\n",
    "test = np.where(woo>0)[0]\n",
    "print len(woo[test])\n",
    "# re-ordering things so we have flux, fluxerr, flux, fluxerr and so on till all 11 filters are covered\n",
    "a = np.column_stack((flux[:,0], flerr[:,0], flux[:,1], flerr[:,1], flux[:,2], flerr[:,2], flux[:,3], flerr[:,3], flux[:,4], flerr[:,4], flux[:,5], flerr[:,5], flux[:,6], flerr[:,6], wflux[:,0], wflerr[:,0], wflux[:,1], wflerr[:,1], wflux[:,2], wflerr[:,2], wflux[:,3], wflerr[:,3]))\n",
    "print np.shape(a)\n",
    "\n",
    "#set r-band fluxes to 1...\n",
    "r_flux = a[:,8]\n",
    "new_a = np.asarray([[a[i][j]/r_flux[i] for j in range(22)] for i in range(len(a))])"
   ]
  },
  {
   "cell_type": "code",
   "execution_count": 122,
   "metadata": {},
   "outputs": [
    {
     "name": "stdout",
     "output_type": "stream",
     "text": [
      "[[  8.81539482e+09   4.99273236e+09   1.74035871e+00]\n",
      " [  1.70285722e+10   9.36637812e+09   1.64225233e+00]\n",
      " [  2.12651776e+09   1.94723002e+09   9.76315975e-01]\n",
      " [  6.05692928e+09   5.09440677e+09   1.18658912e+00]\n",
      " [  7.25714995e+09   3.08430805e+09   2.05719018e+00]\n",
      " [  6.35407718e+09   2.97240637e+09   2.07668400e+00]\n",
      " [  1.15024220e+10   6.63412423e+09   1.63362134e+00]\n",
      " [  9.07874918e+09   4.47350631e+09   1.77105439e+00]\n",
      " [  3.01139302e+09   2.42208345e+09   1.21927071e+00]\n",
      " [  1.37645650e+10   6.42852914e+09   2.05133224e+00]]\n",
      "[[  6.78128947e+09   3.13335448e+09   2.01485157e+00   4.40000000e+01]\n",
      " [  5.77099930e+09   2.60946810e+09   1.94123471e+00   4.40000000e+01]\n",
      " [  3.47769856e+09   1.87183944e+09   1.71965134e+00   4.50000000e+01]\n",
      " [  8.07672371e+09   3.77815708e+09   1.96636593e+00   4.60000000e+01]\n",
      " [  5.03987814e+09   2.29562426e+09   2.12744260e+00   4.60000000e+01]\n",
      " [  1.38478612e+10   6.32148654e+09   1.98017001e+00   4.80000000e+01]\n",
      " [  7.39745331e+09   3.22727740e+09   2.05635691e+00   4.90000000e+01]\n",
      " [  7.59076762e+09   2.38039501e+10   2.98115075e-01   6.00000000e+01]\n",
      " [  3.82498816e+09   3.59716621e+09   1.14369297e+00   6.20000000e+01]\n",
      " [  4.33248922e+09   2.09337188e+09   1.99057949e+00   7.20000000e+01]]\n",
      "[[  6.27614438e+09   2.87141129e+09   1.97804314e+00   4.40000000e+01]\n",
      " [  3.47769856e+09   1.87183944e+09   1.71965134e+00   4.50000000e+01]\n",
      " [  6.55830093e+09   3.03689067e+09   2.04690427e+00   4.60000000e+01]\n",
      " [  1.38478612e+10   6.32148654e+09   1.98017001e+00   4.80000000e+01]\n",
      " [  7.39745331e+09   3.22727740e+09   2.05635691e+00   4.90000000e+01]\n",
      " [  7.59076762e+09   2.38039501e+10   2.98115075e-01   6.00000000e+01]\n",
      " [  3.82498816e+09   3.59716621e+09   1.14369297e+00   6.20000000e+01]\n",
      " [  1.27011607e+10   6.14300859e+09   1.96867257e+00   7.20000000e+01]\n",
      " [  1.93684504e+10   9.40944005e+09   2.02565956e+00   7.30000000e+01]\n",
      " [  1.39241865e+11   8.73155190e+10   1.39812171e+00   8.30000000e+01]]\n",
      "(467, 4)\n"
     ]
    }
   ],
   "source": [
    "\n",
    "new_a = np.column_stack((mass,lumz,rmtol))\n",
    "print new_a[0:10]\n",
    "\n",
    "#Averaging over the bins;\n",
    "#Match bin number to corresponding data row\n",
    "b = np.reshape(np.asarray(h[3]),(len(ind),1))\n",
    "f = np.append(new_a,b, axis = 1)\n",
    "\n",
    "#Sort according to bin number\n",
    "f = f[f[:,3].argsort()]\n",
    "print f[0:10]\n",
    "#get unique bin numbers\n",
    "bins = np.unique(f[:,3])\n",
    "#number in each bin;\n",
    "n = [np.where(f[:,3] == bins[i]) for i in range(len(bins))]\n",
    "#averaging fluxes in each of the bins\n",
    "h = np.array([np.mean(f[n[i]], axis = 0) for i in range(len(bins))])\n",
    "print h[0:10]\n",
    "print np.shape(h)\n",
    "\n",
    "#Sanity check: Rband values should be 1\n"
   ]
  },
  {
   "cell_type": "code",
   "execution_count": 123,
   "metadata": {
    "collapsed": true
   },
   "outputs": [],
   "source": [
    "import pickle\n",
    "# afile = open(r'mass_lumnsa_mtol_bin.pkl', 'wb')\n",
    "# pickle.dump(h, afile)\n",
    "# afile.close()\n",
    "print np.shape(data)\n",
    "data[250]\n",
    "redshifts = np.zeros(len(bins))\n",
    "print len(redshifts) \n",
    "print redshifts[0:10]\n",
    "\n",
    "\n",
    "# stuff = np.column_stack((bins,redshifts,data))\n",
    "# filename = 'magphys_input_file'\n",
    "# f = open(filename,'w')\n",
    "# for line in stuff:\n",
    "#     f.write(\"  \".join(str(x) for x in line) + \"\\n\")\n",
    "# f.close()\n",
    "bins\n",
    "\n",
    "# Making a bin_number-colors file\n",
    "t = np.column_stack((b,opt,inf))\n",
    "t[0:25]\n",
    "\n",
    "n1 = [np.where(t[:,0] == bins[i]) for i in range(len(bins))]\n",
    "tnew = t[t[:,0].argsort()]\n",
    "tnew =  np.array([np.mean(tnew[n[i]], axis = 0) for i in range(len(bins))])\n",
    "print tnew[200:467]\n",
    "\n",
    "\n",
    "import pickle\n",
    "# afile = open(r'bin_opt_inf.pkl', 'wb')\n",
    "# pickle.dump(tnew, afile)\n",
    "# afile.close()"
   ]
  },
  {
   "cell_type": "code",
   "execution_count": null,
   "metadata": {},
   "outputs": [],
   "source": [
    "#Random code lines that might be useful later;\n",
    "\n",
    "\n",
    "# #Let's do rmtol check;\n",
    "\n",
    "# rflux = d['RNMGY'][:,4]\n",
    "# rkc = kc[:,4]\n",
    "\n",
    "# odist = [d['ZDIST'][i]*3*(10**5)/100 for i in range(len(ind))]\n",
    "# print odist[0:10]\n",
    "\n",
    "# lumz = [4*3.14159*0.7*3*(10**15)*(odist[i]**2.0)*(3.087**2.0)*3631*(10**(32 + 12 - 26 -9))*rflux[i]*(10**((-rkc[i]+0.77)/2.5))/(6.1976*3.828*(10**26)) for i in range(len(ind))]\n",
    "\n",
    "# # def lum(flux,z,kc):\n",
    "# #     dist = WMAP7.comoving_distance(z).value\n",
    "# #     ldist = (1+z)*dist\n",
    "# #     lum = 4*3.14159*(ldist**2.0)*(3.087**2.0)*3631*(10**(32 + 12 - 26 -9))*flux\n",
    "# #     return lum\n",
    "\n",
    "# rmtol= mtol[:,4]\n",
    "# # rlum = [lum(rflux[i],z[i],rkc[i]) for i in range(len(ind))]\n",
    "\n",
    "# print mass[0:10]\n",
    "\n",
    "# test = np.asarray([lumz[i]*rmtol[i] for i in range(len(ind))])\n",
    "\n",
    "# print test[0:10]\n",
    "# print mass[0:10]\n"
   ]
  }
 ],
 "metadata": {
  "kernelspec": {
   "display_name": "Python 3",
   "language": "python",
   "name": "python3"
  },
  "language_info": {
   "codemirror_mode": {
    "name": "ipython",
    "version": 3
   },
   "file_extension": ".py",
   "mimetype": "text/x-python",
   "name": "python",
   "nbconvert_exporter": "python",
   "pygments_lexer": "ipython3",
   "version": "3.6.5"
  }
 },
 "nbformat": 4,
 "nbformat_minor": 2
}
