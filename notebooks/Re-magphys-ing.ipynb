{
 "cells": [
  {
   "cell_type": "code",
   "execution_count": 1,
   "metadata": {},
   "outputs": [
    {
     "name": "stderr",
     "output_type": "stream",
     "text": [
      "/usr/local/lib/python3.7/site-packages/pyfits/__init__.py:22: PyFITSDeprecationWarning: PyFITS is deprecated, please use astropy.io.fits\n",
      "  PyFITSDeprecationWarning)  # noqa\n"
     ]
    }
   ],
   "source": [
    "import numpy as np\n",
    "import pyfits\n",
    "import math\n",
    "from math import log10\n",
    "import matplotlib.pyplot as plt\n",
    "import scipy\n",
    "from scipy.stats import binned_statistic\n",
    "from scipy.stats import binned_statistic_2d\n",
    "from matplotlib import rc\n",
    "import pickle\n",
    "import os\n",
    "import astropy as ap\n",
    "from astropy.cosmology import WMAP7\n",
    "from scipy import interpolate\n",
    "import matplotlib.patheffects as patheffects\n",
    "from matplotlib import rcParams\n",
    "from matplotlib.path import Path\n",
    "import matplotlib.patches as patches\n",
    "import matplotlib as mpl\n",
    "from matplotlib import rc\n",
    "from matplotlib import colors\n",
    "from __future__ import unicode_literals\n",
    "\n",
    "rcParams[\"font.family\"] = \"sans-serif\"\n",
    "rcParams[\"font.sans-serif\"] = [\"Computer Modern Sans\"]\n",
    "rcParams[\"text.usetex\"] = True\n",
    "rcParams[\"text.latex.preamble\"] = r\"\\usepackage{cmbright}\"\n",
    "rcParams['xtick.major.pad']='10'\n",
    "rcParams['ytick.major.pad']='10'\n",
    "rcParams['font.size'] = 20\n",
    "rcParams['axes.labelsize'] = 17\n",
    "rcParams['axes.labelweight'] = 'bold'\n",
    "rcParams['axes.titlesize'] = 16\n",
    "rcParams['xtick.labelsize'] = 13\n",
    "rcParams['ytick.labelsize'] = 13\n",
    "rcParams['legend.fontsize'] = 15\n",
    "rcParams['figure.titlesize'] = 1"
   ]
  },
  {
   "cell_type": "code",
   "execution_count": 2,
   "metadata": {},
   "outputs": [
    {
     "name": "stdout",
     "output_type": "stream",
     "text": [
      "(75476,)\n"
     ]
    }
   ],
   "source": [
    "os.chdir('/Users/nitya/Work/Data/Project1/measurements')\n",
    "\n",
    "file2 = open(r'SFRP.pkl', 'rb')\n",
    "d = pickle.load(file2, encoding = 'latin')\n",
    "file2.close()\n",
    "print(np.shape(d))\n",
    "\n",
    "# There's one annoying 0 entry in N band nmgy_ivar - removing it!\n",
    "indf = np.where(np.asarray(d['NMGY_IVAR'])[:,1]>0)[0]\n",
    "d = d[indf]\n",
    "\n",
    "ind, z, mtol, kc = d['NSAID'], d['Z'], d['MTOL'], d['KCORRECT']\n",
    "opt = [d['ABSMAG'][:,1][i]-d['ABSMAG'][:,4][i] for i in range(len(ind))]\n",
    "inf = [d['W1MAG'][i]-d['W3MAG'][i] for i in range(len(ind))]"
   ]
  },
  {
   "cell_type": "code",
   "execution_count": 3,
   "metadata": {},
   "outputs": [],
   "source": [
    "class nmgy_to_jy:\n",
    "    \n",
    "    def __init__(self):\n",
    "        self.flux_nmgy = flux_nmgy\n",
    "        #kc is kcorrect\n",
    "        self.kc = kc\n",
    "        self.ivar_nmgy = ivar_nmgy\n",
    "    \n",
    "    #incorporating k-correct;\n",
    "    def jansky(flux_nmgy, kc):\n",
    "        flux_jy = flux_nmgy*3631*(10.0**(-9.0))*(10**(kc/(-2.5)))\n",
    "        return flux_jy\n",
    "    def jansky_err(ivar_nmgy, kc):\n",
    "        flux_jy_err = (ivar_nmgy**(-0.5))*3631*(10.0**(-9.0))*(10**(kc/(-2.5)))\n",
    "        return flux_jy_err\n",
    "    \n",
    "    #just flux to Jy conversion without k-corrects;\n",
    "    def jansky0(flux_nmgy):\n",
    "        flux_jy = flux_nmgy*3631*(10.0**(-9.0))\n",
    "        return flux_jy\n",
    "    def jansky_err0(ivar_nmgy):\n",
    "        flux_jy_err = (ivar_nmgy**(-0.5))*3631*(10.0**(-9.0))\n",
    "        return flux_jy_err"
   ]
  },
  {
   "cell_type": "code",
   "execution_count": 4,
   "metadata": {
    "scrolled": true
   },
   "outputs": [
    {
     "name": "stderr",
     "output_type": "stream",
     "text": [
      "/usr/local/lib/python3.7/site-packages/ipykernel_launcher.py:22: RuntimeWarning: divide by zero encountered in power\n"
     ]
    }
   ],
   "source": [
    "\n",
    "#optical fluxes in nanomaggies\n",
    "opt_flux = d['NMGY']\n",
    "opt_flerr = d['NMGY_IVAR']\n",
    "#WISE fluxes in nanomaggies\n",
    "inf_flux = np.column_stack((d['W1_NMGY'],d['W2_NMGY'],d['W3_NMGY'],d['W4_NMGY']))\n",
    "inf_flerr = np.column_stack((d['W1SIGM_NMGY'],d['W2SIGM_NMGY'],d['W3SIGM_NMGY'],d['W4SIGM_NMGY']))\n",
    "\n",
    "flux = nmgy_to_jy.jansky(opt_flux,kc)\n",
    "flux_err = nmgy_to_jy.jansky_err(opt_flerr,kc)\n",
    "\n",
    "#Original iteration\n",
    "wflux = nmgy_to_jy.jansky0(inf_flux)\n",
    "wflux_err = nmgy_to_jy.jansky_err0(inf_flerr)"
   ]
  },
  {
   "cell_type": "code",
   "execution_count": 5,
   "metadata": {},
   "outputs": [],
   "source": [
    "#If we're talking about a different iteration:\n",
    "\n",
    "# file1 = open(r'WISE_kcorrects_a', 'rb')\n",
    "# w = pickle.load(file1, encoding = 'latin')\n",
    "# file1.close()\n",
    "# print(w.dtype.names)\n",
    "# print(np.shape(w))\n",
    "\n",
    "# wkc = np.column_stack((w['kc1'], w['kc2'], w['kc3'], w['kc4']))\n",
    "# wflux = nmgy_to_jy.jansky(inf_flux,wkc)\n",
    "# w1fluxerr = nmgy_to_jy.jansky_err(inf_flerr,wkc)"
   ]
  },
  {
   "cell_type": "code",
   "execution_count": 6,
   "metadata": {},
   "outputs": [],
   "source": [
    "# Magphys input file format;\n",
    "a = np.column_stack((flux[:,0], flux_err[:,0], flux[:,1], flux_err[:,1], flux[:,2], flux_err[:,2], \n",
    "                     flux[:,3], flux_err[:,3], flux[:,4], flux_err[:,4], flux[:,5], flux_err[:,5], \n",
    "                     flux[:,6], flux_err[:,6], wflux[:,0], wflux_err[:,0], wflux[:,1], \n",
    "                     wflux_err[:,1], wflux[:,2], wflux_err[:,2], wflux[:,3], wflux_err[:,3]))\n",
    "\n",
    "# Setting r-band flux to 1\n",
    "r_flux = a[:,8]\n",
    "new_a = np.asarray([[a[i][j]/r_flux[i] for j in range(22)] for i in range(len(a))])"
   ]
  },
  {
   "cell_type": "code",
   "execution_count": 7,
   "metadata": {},
   "outputs": [
    {
     "name": "stderr",
     "output_type": "stream",
     "text": [
      "/usr/local/lib/python3.7/site-packages/scipy/stats/_binned_statistic.py:607: FutureWarning: Using a non-tuple sequence for multidimensional indexing is deprecated; use `arr[tuple(seq)]` instead of `arr[seq]`. In the future this will be interpreted as an array index, `arr[np.array(seq)]`, which will result either in an error or a different result.\n",
      "  result = result[core]\n"
     ]
    }
   ],
   "source": [
    "#Binning in the color-color space and averaging the fluxes in each bin\n",
    "h = binned_statistic_2d(inf,opt,ind,statistic = 'count',bins = (25,25))\n",
    "b = np.reshape(np.asarray(h[3]),(len(ind),1))\n",
    "f = np.append(new_a,b, axis = 1)\n",
    "f = f[f[:,22].argsort()]\n",
    "bins = np.unique(f[:,22])\n",
    "\n",
    "n = [np.where(f[:,22] == bins[i]) for i in range(len(bins))]\n",
    "data = np.array([np.mean(f[n[i]], axis = 0) for i in range(len(bins))])"
   ]
  },
  {
   "cell_type": "code",
   "execution_count": 10,
   "metadata": {},
   "outputs": [],
   "source": [
    "redshifts = np.zeros(len(bins))\n",
    "stuff = np.column_stack((bins,redshifts,data[:,0:22]))\n",
    "\n",
    "# filename = 'magphys_input_file_kc1'\n",
    "# f = open(filename,'w')\n",
    "# for line in stuff:\n",
    "#     f.write(\"  \".join(str(x) for x in line) + \"\\n\")\n",
    "# f.close()"
   ]
  },
  {
   "cell_type": "code",
   "execution_count": null,
   "metadata": {},
   "outputs": [],
   "source": []
  }
 ],
 "metadata": {
  "kernelspec": {
   "display_name": "Python 3",
   "language": "python",
   "name": "python3"
  },
  "language_info": {
   "codemirror_mode": {
    "name": "ipython",
    "version": 3
   },
   "file_extension": ".py",
   "mimetype": "text/x-python",
   "name": "python",
   "nbconvert_exporter": "python",
   "pygments_lexer": "ipython3",
   "version": "3.7.0"
  }
 },
 "nbformat": 4,
 "nbformat_minor": 2
}
